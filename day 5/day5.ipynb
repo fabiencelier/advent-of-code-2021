{
 "cells": [
  {
   "cell_type": "code",
   "execution_count": 1,
   "metadata": {},
   "outputs": [],
   "source": [
    "def read_data(path):\n",
    "    f = open(path,\"r\")\n",
    "    lines = f.readlines()\n",
    "    str_lines = [\n",
    "        [\n",
    "            (int(coordinates.split(\",\")[0]), int(coordinates.split(\",\")[1]))\n",
    "            for coordinates in line.strip().split(\" -> \")\n",
    "        ]\n",
    "        for line in lines\n",
    "    ]\n",
    "    return str_lines\n",
    "    coordinates = [ [ (part[0], part[1]) for part in data.split(\",\")] for line in lines]\n",
    "    return [int(val) for val in str_data]"
   ]
  },
  {
   "cell_type": "code",
   "execution_count": 2,
   "metadata": {},
   "outputs": [
    {
     "data": {
      "text/plain": [
       "[[(0, 9), (5, 9)],\n",
       " [(8, 0), (0, 8)],\n",
       " [(9, 4), (3, 4)],\n",
       " [(2, 2), (2, 1)],\n",
       " [(7, 0), (7, 4)],\n",
       " [(6, 4), (2, 0)],\n",
       " [(0, 9), (2, 9)],\n",
       " [(3, 4), (1, 4)],\n",
       " [(0, 0), (8, 8)],\n",
       " [(5, 5), (8, 2)]]"
      ]
     },
     "execution_count": 2,
     "metadata": {},
     "output_type": "execute_result"
    }
   ],
   "source": [
    "demo_data = read_data(\"demo.txt\")\n",
    "full_data = read_data(\"data.txt\")\n",
    "demo_data"
   ]
  },
  {
   "cell_type": "markdown",
   "metadata": {},
   "source": [
    "# Part 1"
   ]
  },
  {
   "cell_type": "code",
   "execution_count": 3,
   "metadata": {},
   "outputs": [],
   "source": [
    "def filter_data(dataset):\n",
    "    return [ d for d in dataset if d[0][0] == d[1][0] or d[0][1] == d[1][1]]"
   ]
  },
  {
   "cell_type": "code",
   "execution_count": 4,
   "metadata": {},
   "outputs": [],
   "source": [
    "assert len(filter_data(demo_data)) == 6"
   ]
  },
  {
   "cell_type": "code",
   "execution_count": 5,
   "metadata": {},
   "outputs": [],
   "source": [
    "def contribute(values, coordinates):\n",
    "    if coordinates in values:\n",
    "        values[coordinates] += 1\n",
    "    else:\n",
    "        values[coordinates] = 1"
   ]
  },
  {
   "cell_type": "code",
   "execution_count": 6,
   "metadata": {},
   "outputs": [],
   "source": [
    "def move(val, values):\n",
    "    x1 = val[0][0]\n",
    "    x2 = val[1][0]\n",
    "    x_step = 1 if x1 < x2 else -1 if x1 > x2 else 0\n",
    "    y1 = val[0][1]\n",
    "    y2 = val[1][1]\n",
    "    y_step = 1 if y1 < y2 else -1 if y1 > y2 else 0\n",
    "    x = x1\n",
    "    y = y1\n",
    "    while ((x != x2 + x_step) or (y != y2 + y_step)):\n",
    "        contribute(values, (y,x))\n",
    "        x += x_step\n",
    "        y += y_step"
   ]
  },
  {
   "cell_type": "code",
   "execution_count": 7,
   "metadata": {},
   "outputs": [],
   "source": [
    "def build_map(dataset, size: int, filtered: bool):\n",
    "    values = {}\n",
    "    data = filter_data(dataset) if filtered else dataset\n",
    "    for path in data:\n",
    "        move(path, values)\n",
    "    return values"
   ]
  },
  {
   "cell_type": "code",
   "execution_count": 8,
   "metadata": {},
   "outputs": [],
   "source": [
    "def get_danger(dataset, size: int, filtered: bool):\n",
    "    values = build_map(dataset, size, filtered)\n",
    "    visited = values.values()\n",
    "    dangerous = [v for v in visited if v >= 2]\n",
    "    return len(dangerous)"
   ]
  },
  {
   "cell_type": "code",
   "execution_count": 9,
   "metadata": {},
   "outputs": [],
   "source": [
    "assert get_danger(demo_data, 10, True) == 5"
   ]
  },
  {
   "cell_type": "code",
   "execution_count": 10,
   "metadata": {},
   "outputs": [
    {
     "data": {
      "text/plain": [
       "4993"
      ]
     },
     "execution_count": 10,
     "metadata": {},
     "output_type": "execute_result"
    }
   ],
   "source": [
    "get_danger(full_data, 1000000, True)"
   ]
  },
  {
   "cell_type": "markdown",
   "metadata": {},
   "source": [
    "# Part 2"
   ]
  },
  {
   "cell_type": "code",
   "execution_count": 11,
   "metadata": {},
   "outputs": [],
   "source": [
    "assert get_danger(demo_data, 10, False) == 12"
   ]
  },
  {
   "cell_type": "code",
   "execution_count": 12,
   "metadata": {},
   "outputs": [
    {
     "data": {
      "text/plain": [
       "21101"
      ]
     },
     "execution_count": 12,
     "metadata": {},
     "output_type": "execute_result"
    }
   ],
   "source": [
    "get_danger(full_data, 1000000, False)"
   ]
  }
 ],
 "metadata": {
  "kernelspec": {
   "display_name": "Python 3",
   "language": "python",
   "name": "python3"
  },
  "language_info": {
   "codemirror_mode": {
    "name": "ipython",
    "version": 3
   },
   "file_extension": ".py",
   "mimetype": "text/x-python",
   "name": "python",
   "nbconvert_exporter": "python",
   "pygments_lexer": "ipython3",
   "version": "3.8.5"
  }
 },
 "nbformat": 4,
 "nbformat_minor": 4
}
