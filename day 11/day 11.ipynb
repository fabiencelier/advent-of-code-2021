{
 "cells": [
  {
   "cell_type": "code",
   "execution_count": 1,
   "metadata": {},
   "outputs": [],
   "source": [
    "def read_data(path):\n",
    "    f = open(path,\"r\")\n",
    "    lines = [ [int(a) for a in l.strip()] for l in  f.readlines()]\n",
    "    return lines"
   ]
  },
  {
   "cell_type": "code",
   "execution_count": 2,
   "metadata": {},
   "outputs": [
    {
     "data": {
      "text/plain": [
       "[[5, 4, 8, 3, 1, 4, 3, 2, 2, 3],\n",
       " [2, 7, 4, 5, 8, 5, 4, 7, 1, 1],\n",
       " [5, 2, 6, 4, 5, 5, 6, 1, 7, 3],\n",
       " [6, 1, 4, 1, 3, 3, 6, 1, 4, 6],\n",
       " [6, 3, 5, 7, 3, 8, 5, 4, 7, 8],\n",
       " [4, 1, 6, 7, 5, 2, 4, 6, 4, 5],\n",
       " [2, 1, 7, 6, 8, 4, 1, 7, 2, 1],\n",
       " [6, 8, 8, 2, 8, 8, 1, 1, 3, 4],\n",
       " [4, 8, 4, 6, 8, 4, 8, 5, 5, 4],\n",
       " [5, 2, 8, 3, 7, 5, 1, 5, 2, 6]]"
      ]
     },
     "execution_count": 2,
     "metadata": {},
     "output_type": "execute_result"
    }
   ],
   "source": [
    "demo_dataset = read_data(\"demo.txt\")\n",
    "full_dataset = read_data(\"data.txt\")\n",
    "demo_dataset"
   ]
  },
  {
   "cell_type": "markdown",
   "metadata": {},
   "source": [
    "# Part 1"
   ]
  },
  {
   "cell_type": "code",
   "execution_count": 3,
   "metadata": {},
   "outputs": [],
   "source": [
    "def iteration(dataset) -> int:\n",
    "    count = 0\n",
    "    explod = []\n",
    "    # First increase all the positions\n",
    "    for i in range(len(dataset)):\n",
    "        row=dataset[i]\n",
    "        for j in range(len(row)):\n",
    "            if row[j] == 9:\n",
    "                explod.append((i,j))\n",
    "                count += 1\n",
    "            dataset[i][j] += 1\n",
    "    # Then trigger the explosions\n",
    "    while len(explod) > 0:\n",
    "        (i,j) = explod.pop()\n",
    "        coords = [(i-1, j-1), (i-1, j), (i-1, j+1), (i, j-1), (i, j+1), (i+1, j-1), (i+1, j), (i+1, j+1)]\n",
    "        coords = [ p for p in coords if p[0]>=0 and p[0]<len(dataset) and p[1]>=0 and p[1]<len(dataset)]\n",
    "        for (x, y) in coords:\n",
    "            if dataset[x][y] == 9:\n",
    "                explod.append((x,y))\n",
    "                count += 1\n",
    "            dataset[x][y] += 1\n",
    "    return count"
   ]
  },
  {
   "cell_type": "code",
   "execution_count": 4,
   "metadata": {},
   "outputs": [],
   "source": [
    "def reset(dataset) -> None:\n",
    "    for i in range(len(dataset)):\n",
    "        for j in range(len(dataset)):\n",
    "            if dataset[i][j] > 9:\n",
    "                dataset[i][j] = 0\n",
    "    "
   ]
  },
  {
   "cell_type": "code",
   "execution_count": 5,
   "metadata": {},
   "outputs": [],
   "source": [
    "from copy import deepcopy\n",
    "def count_flashes(dataset, cycles):\n",
    "    count = 0\n",
    "    data = deepcopy(dataset)\n",
    "    for i in range(cycles):\n",
    "        count += iteration(data)\n",
    "        reset(data)\n",
    "    return count"
   ]
  },
  {
   "cell_type": "code",
   "execution_count": 6,
   "metadata": {},
   "outputs": [],
   "source": [
    "assert count_flashes(demo_dataset, 10) == 204\n",
    "assert count_flashes(demo_dataset, 100) == 1656"
   ]
  },
  {
   "cell_type": "code",
   "execution_count": 7,
   "metadata": {},
   "outputs": [
    {
     "data": {
      "text/plain": [
       "1719"
      ]
     },
     "execution_count": 7,
     "metadata": {},
     "output_type": "execute_result"
    }
   ],
   "source": [
    "count_flashes(full_dataset, 100)"
   ]
  },
  {
   "cell_type": "markdown",
   "metadata": {},
   "source": [
    "# Part 2"
   ]
  },
  {
   "cell_type": "code",
   "execution_count": 8,
   "metadata": {},
   "outputs": [],
   "source": [
    "def check_full_flash(dataset):\n",
    "    return all([all([i == 0 for i in row]) for row in dataset])"
   ]
  },
  {
   "cell_type": "code",
   "execution_count": 9,
   "metadata": {},
   "outputs": [],
   "source": [
    "assert check_full_flash([[0, 0, 0], [0, 0, 0]])\n",
    "assert not check_full_flash([[1, 2, 3],  [0, 0, 0]])"
   ]
  },
  {
   "cell_type": "code",
   "execution_count": 10,
   "metadata": {},
   "outputs": [],
   "source": [
    "LIMIT = 1000000\n",
    "def find_full_flash(dataset) -> int:\n",
    "    data = deepcopy(dataset)\n",
    "    count = 0\n",
    "    while count < LIMIT:\n",
    "        iteration(data)\n",
    "        count += 1\n",
    "        reset(data)\n",
    "        if check_full_flash(data):\n",
    "            return count"
   ]
  },
  {
   "cell_type": "code",
   "execution_count": 11,
   "metadata": {},
   "outputs": [],
   "source": [
    "assert find_full_flash(demo_dataset) == 195"
   ]
  },
  {
   "cell_type": "code",
   "execution_count": 12,
   "metadata": {},
   "outputs": [
    {
     "data": {
      "text/plain": [
       "232"
      ]
     },
     "execution_count": 12,
     "metadata": {},
     "output_type": "execute_result"
    }
   ],
   "source": [
    "find_full_flash(full_dataset)"
   ]
  }
 ],
 "metadata": {
  "kernelspec": {
   "display_name": "Python 3",
   "language": "python",
   "name": "python3"
  },
  "language_info": {
   "codemirror_mode": {
    "name": "ipython",
    "version": 3
   },
   "file_extension": ".py",
   "mimetype": "text/x-python",
   "name": "python",
   "nbconvert_exporter": "python",
   "pygments_lexer": "ipython3",
   "version": "3.8.5"
  }
 },
 "nbformat": 4,
 "nbformat_minor": 4
}
