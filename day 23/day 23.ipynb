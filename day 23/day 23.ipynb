{
 "cells": [
  {
   "cell_type": "code",
   "execution_count": 1,
   "metadata": {},
   "outputs": [],
   "source": [
    "from typing import List, Tuple"
   ]
  },
  {
   "cell_type": "markdown",
   "metadata": {},
   "source": [
    "# Part 1"
   ]
  },
  {
   "cell_type": "code",
   "execution_count": 2,
   "metadata": {},
   "outputs": [],
   "source": [
    "def cost(letter: str) -> int:\n",
    "    if letter == \"A\":\n",
    "        return 1\n",
    "    elif letter == \"B\":\n",
    "        return 10\n",
    "    elif letter == \"C\":\n",
    "        return 100\n",
    "    else:\n",
    "        return 1000"
   ]
  },
  {
   "cell_type": "code",
   "execution_count": 3,
   "metadata": {},
   "outputs": [],
   "source": [
    "class Amphipod:\n",
    "        \n",
    "    def __init__(self, house):\n",
    "        self.letter = house.letter\n",
    "        self.cost = cost(self.letter)"
   ]
  },
  {
   "cell_type": "code",
   "execution_count": 4,
   "metadata": {},
   "outputs": [],
   "source": [
    "class House:\n",
    "    \n",
    "    def __init__(self, letter: str, position: int):\n",
    "        self.letter = letter\n",
    "        self.position = position\n",
    "        self.amphipods = []\n",
    "\n",
    "    def can_enter(self):\n",
    "        # print(self.letter, [a.letter for a in self.amphipods])\n",
    "        return len(self.amphipods) == 0 or all([ (a is None) or (a.letter == self.letter)  for a in self.amphipods])\n",
    "    \n",
    "    def is_ok(self) -> bool:\n",
    "        # print(self.letter, [a.letter for a in self.amphipods], all([a.letter == self.letter for a in self.amphipods]))\n",
    "        return all([x is not None for x in self.amphipods]) and all([a.letter == self.letter for a in self.amphipods])"
   ]
  },
  {
   "cell_type": "raw",
   "metadata": {},
   "source": [
    "Example\n",
    "\n",
    "#############\n",
    "#...........#\n",
    "###B#C#B#D###\n",
    "  #A#D#C#A#\n",
    "  #########"
   ]
  },
  {
   "cell_type": "code",
   "execution_count": 5,
   "metadata": {},
   "outputs": [],
   "source": [
    "def feed_example_houses(house_a, house_b, house_c, house_d):\n",
    "    house_a.amphipods = [Amphipod(house_b), Amphipod(house_a)]\n",
    "    house_b.amphipods = [Amphipod(house_c), Amphipod(house_d)]\n",
    "    house_c.amphipods = [Amphipod(house_b), Amphipod(house_c)]\n",
    "    house_d.amphipods = [Amphipod(house_d), Amphipod(house_a)]"
   ]
  },
  {
   "cell_type": "raw",
   "metadata": {},
   "source": [
    "Real\n",
    "\n",
    "#############\n",
    "#...........#\n",
    "###A#D#B#C###\n",
    "  #B#C#D#A#\n",
    "  #########\n"
   ]
  },
  {
   "cell_type": "code",
   "execution_count": 6,
   "metadata": {},
   "outputs": [],
   "source": [
    "def feed_real_houses(house_a, house_b, house_c, house_d):\n",
    "    house_a.amphipods = [Amphipod(house_a), Amphipod(house_b)]\n",
    "    house_b.amphipods = [Amphipod(house_d), Amphipod(house_c)]\n",
    "    house_c.amphipods = [Amphipod(house_b), Amphipod(house_d)]\n",
    "    house_d.amphipods = [Amphipod(house_c), Amphipod(house_a)]"
   ]
  },
  {
   "cell_type": "code",
   "execution_count": 7,
   "metadata": {},
   "outputs": [],
   "source": [
    "def is_finished(houses: List[House]) -> bool:\n",
    "    return all([h.is_ok() for h in houses])"
   ]
  },
  {
   "cell_type": "code",
   "execution_count": 8,
   "metadata": {},
   "outputs": [],
   "source": [
    "def can_move(position: int, target: int, field):\n",
    "    if target > position:\n",
    "        for i in range(position + 1, target + 1):\n",
    "            if isinstance(field[i], Amphipod):\n",
    "                return False\n",
    "    else:\n",
    "        for i in range(target, position):\n",
    "            if isinstance(field[i], Amphipod):\n",
    "                return False\n",
    "    return True"
   ]
  },
  {
   "cell_type": "code",
   "execution_count": 9,
   "metadata": {},
   "outputs": [],
   "source": [
    "def get_house(houses: List[House], amphi: Amphipod) -> House:\n",
    "    return [h for h in houses if h.letter == amphi.letter][0]"
   ]
  },
  {
   "cell_type": "code",
   "execution_count": 10,
   "metadata": {},
   "outputs": [],
   "source": [
    "def clone_element(el):\n",
    "    if el is None:\n",
    "        return None\n",
    "    elif isinstance(el, Amphipod):\n",
    "        return el\n",
    "    else: # house\n",
    "        new_house = House(el.letter, el.position)\n",
    "        new_house.amphipods = [ a for a in el.amphipods]\n",
    "        return new_house"
   ]
  },
  {
   "cell_type": "code",
   "execution_count": 11,
   "metadata": {},
   "outputs": [],
   "source": [
    "def clone_field(field):\n",
    "    return [ clone_element(el) for el in field]"
   ]
  },
  {
   "cell_type": "code",
   "execution_count": 12,
   "metadata": {},
   "outputs": [],
   "source": [
    "def unique_value(el) -> str:\n",
    "    if el is None:\n",
    "        return \"\"\n",
    "    elif isinstance(el, Amphipod):\n",
    "        return el.letter\n",
    "    else:\n",
    "        return \"\".join([(a.letter if a is not None else \"X\") for a in el.amphipods])\n",
    "\n",
    "def serialize(field) -> str:\n",
    "    \"\"\"Serialize into a unique deterministic string for the cache.\"\"\"\n",
    "    return \"[\" + \"|\".join([unique_value(el) for el in field]) + \"]\""
   ]
  },
  {
   "cell_type": "code",
   "execution_count": 13,
   "metadata": {},
   "outputs": [],
   "source": [
    "def insert(amp, house) -> int:\n",
    "    \"\"\"\n",
    "    Insert a value at the futhest None value and reurn the cost for the insertion.\n",
    "    \n",
    "    For instance inserting A in [None, None, A, A] becomes [None, A, A, A]\n",
    "    \"\"\"\n",
    "    for i in range(len(house.amphipods) - 1, -1, -1):\n",
    "        if house.amphipods[i] is None:\n",
    "            house.amphipods[i] = amp\n",
    "            return amp.cost * (i + 1)"
   ]
  },
  {
   "cell_type": "code",
   "execution_count": 14,
   "metadata": {},
   "outputs": [],
   "source": [
    "def extract(house) -> Tuple[Amphipod, int]:\n",
    "    \"\"\"\n",
    "    Extract a value from a house and return the extracted value and the cost for the extraction.\n",
    "    \n",
    "    When someone leave the house every body move up except the lowest member of the house.\n",
    "    For instance in house A: [B, C, A] becomes [C, None, A]\n",
    "    \"\"\"\n",
    "    has_seen_other = False\n",
    "    previous = None\n",
    "    cost = 0\n",
    "    for i in range(len(house.amphipods) - 1, -1, -1):\n",
    "        amp = house.amphipods[i]\n",
    "        if (amp is None) or (amp.letter != house.letter):\n",
    "            has_seen_other = True\n",
    "        if (has_seen_other):\n",
    "            house.amphipods[i] = previous\n",
    "            cost += 0 if amp is None else amp.cost\n",
    "            previous = amp\n",
    "    return (previous, cost)"
   ]
  },
  {
   "cell_type": "code",
   "execution_count": 15,
   "metadata": {},
   "outputs": [],
   "source": [
    "def compute_cost(field, houses, cache = {}) -> cost:\n",
    "    ser = serialize(field)\n",
    "    if ser in cache:\n",
    "        return cache[ser]\n",
    "    \n",
    "    # If all house are correct it's over\n",
    "    if is_finished(houses):\n",
    "        cache[ser] = 0\n",
    "        return 0\n",
    "    \n",
    "    \n",
    "    # If anyone can move to their house, do it\n",
    "    for pos in range(len(field)):\n",
    "        el = field[pos]\n",
    "        if isinstance(el, Amphipod):\n",
    "            house = get_house(houses, el)\n",
    "            if house.can_enter() and can_move(pos, house.position, field):\n",
    "                field[pos] = None\n",
    "                cost = abs(pos - house.position) * el.cost + insert(el, house)\n",
    "                return cost + compute_cost(field, houses, cache)\n",
    "\n",
    "    # Otherwise try leaving someone from the house\n",
    "    min_child = 1000000\n",
    "    availables = [ i for i in range(len(field)) if field[i] is None]\n",
    "    for h in houses:\n",
    "        if not h.can_enter():\n",
    "            possibles = [i for i in availables if can_move(h.position, i, field)]\n",
    "            for target in possibles:\n",
    "                cloned_field = clone_field(field)\n",
    "                cloned_houses = [cloned_field[house.position] for house in houses]\n",
    "                house = cloned_field[h.position]\n",
    "                el, house_cost = extract(house)\n",
    "                new_cost = abs(h.position - target) * el.cost + house_cost\n",
    "                cloned_field[target] = el\n",
    "                child_cost = new_cost + compute_cost(cloned_field, cloned_houses, cache)\n",
    "                min_child = min(child_cost, min_child)\n",
    "    cache[ser] = min(cache.get(ser, 10000000), min_child)\n",
    "    return min_child"
   ]
  },
  {
   "cell_type": "code",
   "execution_count": 16,
   "metadata": {},
   "outputs": [],
   "source": [
    "def solve_cost(house_feeder) -> int:\n",
    "    house_a, house_b, house_c, house_d = House(\"A\", 2), House(\"B\", 4), House(\"C\", 6), House(\"D\", 8)\n",
    "    houses = house_a, house_b, house_c, house_d\n",
    "    house_feeder(*houses)\n",
    "    field = [None, None, house_a, None, house_b, None, house_c, None, house_d, None, None]\n",
    "    return compute_cost(field, houses, {})"
   ]
  },
  {
   "cell_type": "code",
   "execution_count": 17,
   "metadata": {},
   "outputs": [],
   "source": [
    "assert solve_cost(feed_example_houses) == 12521"
   ]
  },
  {
   "cell_type": "code",
   "execution_count": 18,
   "metadata": {},
   "outputs": [
    {
     "data": {
      "text/plain": [
       "13336"
      ]
     },
     "execution_count": 18,
     "metadata": {},
     "output_type": "execute_result"
    }
   ],
   "source": [
    "solve_cost(feed_real_houses)"
   ]
  },
  {
   "cell_type": "markdown",
   "metadata": {},
   "source": [
    "# Part 2"
   ]
  },
  {
   "cell_type": "code",
   "execution_count": 19,
   "metadata": {},
   "outputs": [],
   "source": [
    "def feed_demo_part2(house_a, house_b, house_c, house_d):\n",
    "    house_a.amphipods = [Amphipod(house_b), Amphipod(house_d), Amphipod(house_d), Amphipod(house_a)]\n",
    "    house_b.amphipods = [Amphipod(house_c), Amphipod(house_c), Amphipod(house_b), Amphipod(house_d)]\n",
    "    house_c.amphipods = [Amphipod(house_b), Amphipod(house_b), Amphipod(house_a), Amphipod(house_c)]\n",
    "    house_d.amphipods = [Amphipod(house_d), Amphipod(house_a), Amphipod(house_c), Amphipod(house_a)]"
   ]
  },
  {
   "cell_type": "code",
   "execution_count": 20,
   "metadata": {},
   "outputs": [],
   "source": [
    "def feed_real_part2(house_a, house_b, house_c, house_d):\n",
    "    house_a.amphipods = [Amphipod(house_a), Amphipod(house_d), Amphipod(house_d), Amphipod(house_b)]\n",
    "    house_b.amphipods = [Amphipod(house_d), Amphipod(house_c), Amphipod(house_b), Amphipod(house_c)]\n",
    "    house_c.amphipods = [Amphipod(house_b), Amphipod(house_b), Amphipod(house_a), Amphipod(house_d)]\n",
    "    house_d.amphipods = [Amphipod(house_c), Amphipod(house_a), Amphipod(house_c), Amphipod(house_a)] "
   ]
  },
  {
   "cell_type": "code",
   "execution_count": 21,
   "metadata": {},
   "outputs": [],
   "source": [
    "assert solve_cost(feed_demo_part2) == 44169"
   ]
  },
  {
   "cell_type": "code",
   "execution_count": 22,
   "metadata": {},
   "outputs": [
    {
     "data": {
      "text/plain": [
       "53308"
      ]
     },
     "execution_count": 22,
     "metadata": {},
     "output_type": "execute_result"
    }
   ],
   "source": [
    "solve_cost(feed_real_part2)"
   ]
  }
 ],
 "metadata": {
  "kernelspec": {
   "display_name": "Python 3",
   "language": "python",
   "name": "python3"
  },
  "language_info": {
   "codemirror_mode": {
    "name": "ipython",
    "version": 3
   },
   "file_extension": ".py",
   "mimetype": "text/x-python",
   "name": "python",
   "nbconvert_exporter": "python",
   "pygments_lexer": "ipython3",
   "version": "3.8.5"
  }
 },
 "nbformat": 4,
 "nbformat_minor": 4
}
