{
 "cells": [
  {
   "cell_type": "code",
   "execution_count": 1,
   "metadata": {},
   "outputs": [],
   "source": [
    "from typing import List\n",
    "Image = List[List[str]]"
   ]
  },
  {
   "cell_type": "code",
   "execution_count": 2,
   "metadata": {},
   "outputs": [],
   "source": [
    "def read_data(path):\n",
    "    f = open(path,\"r\")\n",
    "    lines = [line.strip() for line in f.readlines()]\n",
    "    image = [[i for i in line] for line in lines[2:]]\n",
    "    return (lines[0], image)"
   ]
  },
  {
   "cell_type": "code",
   "execution_count": 3,
   "metadata": {},
   "outputs": [
    {
     "data": {
      "text/plain": [
       "('..#.#..#####.#.#.#.###.##.....###.##.#..###.####..#####..#....#..#..##..###..######.###...####..#..#####..##..#.#####...##.#.#..#.##..#.#......#.###.######.###.####...#.##.##..#..#..#####.....#.#....###..#.##......#.....#..#..#..##..#...##.######.####.####.#.#...#.......#..#.#.#...####.##.#......#..#...##.#.##..#...##.#.##..###.#......#.#.......#.#.#.####.###.##...#.....####.#..#..#.##.#....##..#.####....##...##..#...#......#.#.......#.......##..####..#...#.#.#...##..#.#..###..#####........#..####......#..#',\n",
       " [['#', '.', '.', '#', '.'],\n",
       "  ['#', '.', '.', '.', '.'],\n",
       "  ['#', '#', '.', '.', '#'],\n",
       "  ['.', '.', '#', '.', '.'],\n",
       "  ['.', '.', '#', '#', '#']])"
      ]
     },
     "execution_count": 3,
     "metadata": {},
     "output_type": "execute_result"
    }
   ],
   "source": [
    "demo_dataset = read_data(\"demo.txt\")\n",
    "full_dataset = read_data(\"data.txt\")\n",
    "demo_dataset"
   ]
  },
  {
   "cell_type": "markdown",
   "metadata": {},
   "source": [
    "# Part 1"
   ]
  },
  {
   "cell_type": "code",
   "execution_count": 4,
   "metadata": {},
   "outputs": [],
   "source": [
    "def to_bit(character: str) -> int:\n",
    "    return 1 if character == \"#\" else 0"
   ]
  },
  {
   "cell_type": "code",
   "execution_count": 5,
   "metadata": {},
   "outputs": [],
   "source": [
    "from functools import lru_cache\n",
    "\n",
    "@lru_cache(512)\n",
    "def convert_binary(string: str) -> int:\n",
    "    exp = len(string) - 1\n",
    "    value = 0\n",
    "    for i in string:\n",
    "        value += to_bit(i) * 2**exp\n",
    "        exp -= 1\n",
    "    return value"
   ]
  },
  {
   "cell_type": "code",
   "execution_count": 6,
   "metadata": {},
   "outputs": [],
   "source": [
    "assert convert_binary(\"...#...#.\") == 34"
   ]
  },
  {
   "cell_type": "code",
   "execution_count": 7,
   "metadata": {},
   "outputs": [],
   "source": [
    "def count_light(image: List[List[str]]) -> int:\n",
    "    return sum([to_bit(i) for row in image for i in row])"
   ]
  },
  {
   "cell_type": "code",
   "execution_count": 8,
   "metadata": {},
   "outputs": [],
   "source": [
    "assert count_light(demo_dataset[1]) == 10"
   ]
  },
  {
   "cell_type": "code",
   "execution_count": 9,
   "metadata": {},
   "outputs": [],
   "source": [
    "def get_value(image: Image, i: int, j: int, fill: str) -> str:\n",
    "    if (i<0) or (i >= len(image)):\n",
    "        return fill\n",
    "    else:\n",
    "        row = image[i]\n",
    "        if (j<0) or (j >= len(row)):\n",
    "            return fill\n",
    "        else:\n",
    "            return row[j]"
   ]
  },
  {
   "cell_type": "code",
   "execution_count": 10,
   "metadata": {},
   "outputs": [],
   "source": [
    "def get_binary_pixel(image, i: int, j: int, fill: str) -> str:\n",
    "    characters = [get_value(image, x, y, fill) for x in [i - 1, i, i +1] for y in [j- 1, j, j+1]]\n",
    "    return \"\".join(characters)"
   ]
  },
  {
   "cell_type": "code",
   "execution_count": 11,
   "metadata": {},
   "outputs": [],
   "source": [
    "assert get_binary_pixel(demo_dataset[1], 2, 2, \".\") == \"...#...#.\""
   ]
  },
  {
   "cell_type": "code",
   "execution_count": 12,
   "metadata": {},
   "outputs": [],
   "source": [
    "def empty_row(length: int, value: str) -> List[str]:\n",
    "    return [value for i in range(length)]"
   ]
  },
  {
   "cell_type": "code",
   "execution_count": 13,
   "metadata": {},
   "outputs": [],
   "source": [
    "def increase_image_size(image: Image, fill: str = \".\") -> Image:\n",
    "    row_size = len(image[0]) + 4\n",
    "    new_image = []\n",
    "    new_image.append(empty_row(row_size, fill))\n",
    "    new_image.append(empty_row(row_size, fill))\n",
    "    for row in image:\n",
    "        new_image.append([fill, fill, *row, fill, fill])\n",
    "    new_image.append(empty_row(row_size, fill))\n",
    "    new_image.append(empty_row(row_size, fill))\n",
    "    return new_image\n"
   ]
  },
  {
   "cell_type": "code",
   "execution_count": 14,
   "metadata": {},
   "outputs": [],
   "source": [
    "def get_new_character(algo: str, image: Image, i: int, j: int, fill: str) -> str:\n",
    "    return algo[convert_binary(get_binary_pixel(image, i, j, fill))]"
   ]
  },
  {
   "cell_type": "code",
   "execution_count": 15,
   "metadata": {},
   "outputs": [],
   "source": [
    "def get_fill_char(algo: str, image: Image, step: int):\n",
    "    if algo[0] == \".\":\n",
    "        return \".\"\n",
    "    else:\n",
    "        return \".\" if (step % 2 == 0) else \"#\""
   ]
  },
  {
   "cell_type": "code",
   "execution_count": 16,
   "metadata": {},
   "outputs": [],
   "source": [
    "def update_image(algo: str, image: Image, step: int) -> Image:\n",
    "    fill = get_fill_char(algo, image, step)\n",
    "    resized_image = increase_image_size(image, fill)\n",
    "    return [\n",
    "        [\n",
    "            get_new_character(algo, resized_image, i, j, fill) for j in range(len(resized_image[0]))\n",
    "        ] for i in range(len(resized_image))\n",
    "    ]"
   ]
  },
  {
   "cell_type": "code",
   "execution_count": 17,
   "metadata": {},
   "outputs": [],
   "source": [
    "def get_light_count(algo: str, image: Image, steps: int) -> int:\n",
    "    new_image = image\n",
    "    for step in range(steps):\n",
    "        new_image = update_image(algo, new_image, step)\n",
    "    return count_light(new_image)"
   ]
  },
  {
   "cell_type": "code",
   "execution_count": 18,
   "metadata": {},
   "outputs": [],
   "source": [
    "assert get_light_count(*demo_dataset, 2) == 35"
   ]
  },
  {
   "cell_type": "code",
   "execution_count": 19,
   "metadata": {},
   "outputs": [
    {
     "data": {
      "text/plain": [
       "5479"
      ]
     },
     "execution_count": 19,
     "metadata": {},
     "output_type": "execute_result"
    }
   ],
   "source": [
    "get_light_count(*full_dataset, 2)"
   ]
  },
  {
   "cell_type": "markdown",
   "metadata": {},
   "source": [
    "# Part 2"
   ]
  },
  {
   "cell_type": "code",
   "execution_count": 20,
   "metadata": {},
   "outputs": [
    {
     "data": {
      "text/plain": [
       "2204"
      ]
     },
     "execution_count": 20,
     "metadata": {},
     "output_type": "execute_result"
    }
   ],
   "source": [
    "get_light_count(*demo_dataset, 40)"
   ]
  },
  {
   "cell_type": "code",
   "execution_count": 21,
   "metadata": {},
   "outputs": [],
   "source": [
    "assert get_light_count(*demo_dataset, 50) == 3351"
   ]
  },
  {
   "cell_type": "code",
   "execution_count": 22,
   "metadata": {},
   "outputs": [
    {
     "name": "stdout",
     "output_type": "stream",
     "text": [
      "CPU times: user 6.54 s, sys: 0 ns, total: 6.54 s\n",
      "Wall time: 6.54 s\n"
     ]
    },
    {
     "data": {
      "text/plain": [
       "19012"
      ]
     },
     "execution_count": 22,
     "metadata": {},
     "output_type": "execute_result"
    }
   ],
   "source": [
    "%%time\n",
    "get_light_count(*full_dataset, 50)"
   ]
  }
 ],
 "metadata": {
  "kernelspec": {
   "display_name": "Python 3",
   "language": "python",
   "name": "python3"
  },
  "language_info": {
   "codemirror_mode": {
    "name": "ipython",
    "version": 3
   },
   "file_extension": ".py",
   "mimetype": "text/x-python",
   "name": "python",
   "nbconvert_exporter": "python",
   "pygments_lexer": "ipython3",
   "version": "3.8.5"
  }
 },
 "nbformat": 4,
 "nbformat_minor": 4
}
