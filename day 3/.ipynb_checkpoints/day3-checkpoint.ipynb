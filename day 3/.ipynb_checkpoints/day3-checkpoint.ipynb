{
 "cells": [
  {
   "cell_type": "code",
   "execution_count": 1,
   "metadata": {},
   "outputs": [],
   "source": [
    "def read_data(path):\n",
    "    f = open(path,\"r\")\n",
    "    lines = f.readlines()\n",
    "    return [ row.strip() for row in lines ]"
   ]
  },
  {
   "cell_type": "code",
   "execution_count": 2,
   "metadata": {},
   "outputs": [
    {
     "data": {
      "text/plain": [
       "['00100',\n",
       " '11110',\n",
       " '10110',\n",
       " '10111',\n",
       " '10101',\n",
       " '01111',\n",
       " '00111',\n",
       " '11100',\n",
       " '10000',\n",
       " '11001',\n",
       " '00010',\n",
       " '01010']"
      ]
     },
     "execution_count": 2,
     "metadata": {},
     "output_type": "execute_result"
    }
   ],
   "source": [
    "demo_dataset = read_data(\"demo.txt\")\n",
    "full_dataset = read_data(\"data.txt\")\n",
    "demo_dataset"
   ]
  },
  {
   "cell_type": "code",
   "execution_count": 3,
   "metadata": {},
   "outputs": [],
   "source": [
    "def convert_binary(string: str):\n",
    "    exp = len(string) - 1\n",
    "    value = 0\n",
    "    for i in string:\n",
    "        value += int(i) * 2**exp\n",
    "        exp -= 1\n",
    "    return value"
   ]
  },
  {
   "cell_type": "code",
   "execution_count": 4,
   "metadata": {},
   "outputs": [],
   "source": [
    "assert convert_binary(\"101\") == 5"
   ]
  },
  {
   "cell_type": "markdown",
   "metadata": {},
   "source": [
    "# Part 1"
   ]
  },
  {
   "cell_type": "code",
   "execution_count": 5,
   "metadata": {},
   "outputs": [],
   "source": [
    "def get_values(dataset):\n",
    "    g = \"\"\n",
    "    e = \"\"\n",
    "    for pos in range(len(dataset[0])):\n",
    "        count1 = 0\n",
    "        count0 = 0\n",
    "        for row in dataset:\n",
    "            if row[pos] == \"1\":\n",
    "                count1 += 1\n",
    "            else:\n",
    "                count0 += 1\n",
    "        if count1 > count0:\n",
    "            g += \"1\"\n",
    "            e += \"0\"\n",
    "        else:\n",
    "            g += \"0\"\n",
    "            e += \"1\"\n",
    "    return (convert_binary(g), convert_binary(e))"
   ]
  },
  {
   "cell_type": "code",
   "execution_count": 6,
   "metadata": {},
   "outputs": [],
   "source": [
    "def get_value(dataset) -> int:\n",
    "    (g, e) = get_values(dataset)\n",
    "    return g * e"
   ]
  },
  {
   "cell_type": "code",
   "execution_count": 7,
   "metadata": {},
   "outputs": [],
   "source": [
    "assert get_value(demo_dataset) == 198"
   ]
  },
  {
   "cell_type": "code",
   "execution_count": 8,
   "metadata": {},
   "outputs": [
    {
     "data": {
      "text/plain": [
       "2972336"
      ]
     },
     "execution_count": 8,
     "metadata": {},
     "output_type": "execute_result"
    }
   ],
   "source": [
    "get_value(full_dataset)"
   ]
  },
  {
   "cell_type": "markdown",
   "metadata": {},
   "source": [
    "# Part 2"
   ]
  },
  {
   "cell_type": "code",
   "execution_count": 9,
   "metadata": {},
   "outputs": [],
   "source": [
    "def get_o_value_rec(dataset, position):\n",
    "    group1 = []\n",
    "    group0 = []\n",
    "    for row in dataset:\n",
    "        if row[position] == \"1\":\n",
    "            group1.append(row)\n",
    "        else:\n",
    "            group0.append(row)\n",
    "    if len(group1) == 1:\n",
    "        return group1[0]\n",
    "    new_group = group1 if len(group1) >= len(group0) else group0\n",
    "    return get_o_value_rec(new_group, position + 1)"
   ]
  },
  {
   "cell_type": "code",
   "execution_count": 10,
   "metadata": {},
   "outputs": [],
   "source": [
    "def get_c_value_rec(dataset, position):\n",
    "    group1 = []\n",
    "    group0 = []\n",
    "    for row in dataset:\n",
    "        if row[position] == \"1\":\n",
    "            group1.append(row)\n",
    "        else:\n",
    "            group0.append(row)\n",
    "    if len(group0) == 1:\n",
    "        return group0[0]\n",
    "    new_group = group0 if len(group0) <= len(group1) else group1\n",
    "    return get_c_value_rec(new_group, position + 1)"
   ]
  },
  {
   "cell_type": "code",
   "execution_count": 12,
   "metadata": {},
   "outputs": [],
   "source": [
    "def part_2(dataset):\n",
    "    o = get_o_value_rec(dataset, 0)\n",
    "    c = get_c_value_rec(dataset, 0)\n",
    "    return convert_binary(o) * convert_binary(c)"
   ]
  },
  {
   "cell_type": "code",
   "execution_count": 14,
   "metadata": {},
   "outputs": [],
   "source": [
    "assert part_2(demo_dataset) == 230"
   ]
  },
  {
   "cell_type": "code",
   "execution_count": 15,
   "metadata": {},
   "outputs": [
    {
     "data": {
      "text/plain": [
       "3368358"
      ]
     },
     "execution_count": 15,
     "metadata": {},
     "output_type": "execute_result"
    }
   ],
   "source": [
    "part_2(full_dataset)"
   ]
  }
 ],
 "metadata": {
  "kernelspec": {
   "display_name": "Python 3",
   "language": "python",
   "name": "python3"
  },
  "language_info": {
   "codemirror_mode": {
    "name": "ipython",
    "version": 3
   },
   "file_extension": ".py",
   "mimetype": "text/x-python",
   "name": "python",
   "nbconvert_exporter": "python",
   "pygments_lexer": "ipython3",
   "version": "3.8.5"
  }
 },
 "nbformat": 4,
 "nbformat_minor": 4
}
