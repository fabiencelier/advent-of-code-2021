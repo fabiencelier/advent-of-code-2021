{
 "cells": [
  {
   "cell_type": "code",
   "execution_count": 1,
   "metadata": {},
   "outputs": [],
   "source": [
    "def read_data(path):\n",
    "    f = open(path,\"r\")\n",
    "    lines = f.readlines()\n",
    "    out = [ line.split(\"|\")[1].strip().split(\" \") for line in lines]\n",
    "    input = [ line.split(\"|\")[0].strip().split(\" \") for line in lines]\n",
    "    return (input, out)"
   ]
  },
  {
   "cell_type": "code",
   "execution_count": 7,
   "metadata": {},
   "outputs": [],
   "source": [
    "demo_inputs, demo_outputs = read_data(\"demo.txt\")\n",
    "full_inputs, full_outputs = read_data(\"data.txt\")"
   ]
  },
  {
   "cell_type": "code",
   "execution_count": 8,
   "metadata": {},
   "outputs": [
    {
     "data": {
      "text/plain": [
       "[['fdgacbe', 'cefdb', 'cefbgd', 'gcbe'],\n",
       " ['fcgedb', 'cgb', 'dgebacf', 'gc'],\n",
       " ['cg', 'cg', 'fdcagb', 'cbg'],\n",
       " ['efabcd', 'cedba', 'gadfec', 'cb'],\n",
       " ['gecf', 'egdcabf', 'bgf', 'bfgea'],\n",
       " ['gebdcfa', 'ecba', 'ca', 'fadegcb'],\n",
       " ['cefg', 'dcbef', 'fcge', 'gbcadfe'],\n",
       " ['ed', 'bcgafe', 'cdgba', 'cbgef'],\n",
       " ['gbdfcae', 'bgc', 'cg', 'cgb'],\n",
       " ['fgae', 'cfgab', 'fg', 'bagce']]"
      ]
     },
     "execution_count": 8,
     "metadata": {},
     "output_type": "execute_result"
    }
   ],
   "source": [
    "demo_outputs"
   ]
  },
  {
   "cell_type": "markdown",
   "metadata": {},
   "source": [
    "### Part 1"
   ]
  },
  {
   "cell_type": "code",
   "execution_count": 12,
   "metadata": {},
   "outputs": [],
   "source": [
    "def count_unique(dataset):\n",
    "    count = 0\n",
    "    for row in dataset:\n",
    "        for element in row:\n",
    "            L = len(element)\n",
    "            if L == 2 or L ==3 or L==4 or L==7:\n",
    "                count += 1\n",
    "    return count"
   ]
  },
  {
   "cell_type": "code",
   "execution_count": 13,
   "metadata": {},
   "outputs": [],
   "source": [
    "assert count_unique(demo_outputs) == 26"
   ]
  },
  {
   "cell_type": "code",
   "execution_count": 14,
   "metadata": {},
   "outputs": [
    {
     "data": {
      "text/plain": [
       "344"
      ]
     },
     "execution_count": 14,
     "metadata": {},
     "output_type": "execute_result"
    }
   ],
   "source": [
    "count_unique(full_outputs)"
   ]
  },
  {
   "cell_type": "markdown",
   "metadata": {},
   "source": [
    "### Part 2"
   ]
  },
  {
   "cell_type": "raw",
   "metadata": {},
   "source": [
    "  0:      1:      2:      3:      4:\n",
    " aaaa    ....    aaaa    aaaa    ....\n",
    "b    c  .    c  .    c  .    c  b    c\n",
    "b    c  .    c  .    c  .    c  b    c\n",
    " ....    ....    dddd    dddd    dddd\n",
    "e    f  .    f  e    .  .    f  .    f\n",
    "e    f  .    f  e    .  .    f  .    f\n",
    " gggg    ....    gggg    gggg    ....\n",
    "\n",
    "  5:      6:      7:      8:      9:\n",
    " aaaa    aaaa    aaaa    aaaa    aaaa\n",
    "b    .  b    .  .    c  b    c  b    c\n",
    "b    .  b    .  .    c  b    c  b    c\n",
    " dddd    dddd    ....    dddd    dddd\n",
    ".    f  e    f  .    f  e    f  .    f\n",
    ".    f  e    f  .    f  e    f  .    f\n",
    " gggg    gggg    ....    gggg    gggg"
   ]
  },
  {
   "cell_type": "markdown",
   "metadata": {},
   "source": [
    " - 1: size 2\n",
    " - 8: size 7\n",
    " - 7: size 3\n",
    " - 4: size 4\n",
    "\n",
    " - 9: size 6 contains 4\n",
    " - 0: size 6, contains 1 but not 4\n",
    " - 6: size 6, dos not contain 1 and 4\n",
    "    \n",
    " - 3: size 5, contains 7\n",
    " - 5: size 5, contains (4 - 1)\n",
    " - 2: size 5, the remaining\n"
   ]
  },
  {
   "cell_type": "code",
   "execution_count": 16,
   "metadata": {},
   "outputs": [],
   "source": [
    "def contains(str1: str, str2: str):\n",
    "    for char in str2:\n",
    "        if not char in str1:\n",
    "            return False\n",
    "    return True"
   ]
  },
  {
   "cell_type": "code",
   "execution_count": 17,
   "metadata": {},
   "outputs": [],
   "source": [
    "assert contains(\"abc\", \"a\") is True\n",
    "assert contains(\"abc\", \"ab\") is True\n",
    "assert contains(\"abc\", \"cb\") is True\n",
    "assert contains(\"abc\", \"d\") is False\n",
    "assert contains(\"abc\", \"abcd\") is False"
   ]
  },
  {
   "cell_type": "code",
   "execution_count": 18,
   "metadata": {},
   "outputs": [],
   "source": [
    "def minus(str1: str, str2: str) -> str:\n",
    "    new = str1\n",
    "    for char in str2:\n",
    "        new = new.replace(char, \"\")\n",
    "    return new"
   ]
  },
  {
   "cell_type": "code",
   "execution_count": 19,
   "metadata": {},
   "outputs": [],
   "source": [
    "assert minus(\"abc\", \"cb\") == \"a\""
   ]
  },
  {
   "cell_type": "code",
   "execution_count": 20,
   "metadata": {},
   "outputs": [],
   "source": [
    "def sort(string):\n",
    "    return \"\".join(sorted(string))"
   ]
  },
  {
   "cell_type": "code",
   "execution_count": 21,
   "metadata": {},
   "outputs": [],
   "source": [
    "def find_values(row) -> dict:\n",
    "    one = [ el for el in row if len(el) == 2][0]\n",
    "    seven = [el for el in row if len(el) == 3][0]\n",
    "    four = [el for el in row if len(el) == 4][0]\n",
    "    eight = [el for el in row if len(el) == 7][0]\n",
    "    nine = [el for el in row if len(el) == 6 and contains(el, four)][0]\n",
    "    zero = [el for el in row if len(el) == 6 and contains(el, one) and not contains(el , four)][0]\n",
    "    six = [el for el in row if len(el) == 6 and not contains(el, one) and not contains(el , four)][0]\n",
    "    three = [el for el in row if len(el) == 5 and contains(el, seven)][0]\n",
    "    five = [el for el in row if len(el) == 5 and contains(el, minus(four, one))][0]\n",
    "    two = [el for el in row if len(el) == 5 and el != three and el != five][0]\n",
    "    return {\n",
    "        sort(zero): 0,\n",
    "        sort(one): 1,\n",
    "        sort(two): 2,\n",
    "        sort(three): 3,\n",
    "        sort(four): 4,\n",
    "        sort(five): 5,\n",
    "        sort(six): 6,\n",
    "        sort(seven): 7,\n",
    "        sort(eight): 8,\n",
    "        sort(nine): 9}\n",
    "    "
   ]
  },
  {
   "cell_type": "code",
   "execution_count": 22,
   "metadata": {},
   "outputs": [
    {
     "data": {
      "text/plain": [
       "{'abdefg': 0,\n",
       " 'be': 1,\n",
       " 'abcdf': 2,\n",
       " 'bcdef': 3,\n",
       " 'bceg': 4,\n",
       " 'cdefg': 5,\n",
       " 'acdefg': 6,\n",
       " 'bde': 7,\n",
       " 'abcdefg': 8,\n",
       " 'bcdefg': 9}"
      ]
     },
     "execution_count": 22,
     "metadata": {},
     "output_type": "execute_result"
    }
   ],
   "source": [
    "find_values(demo_inputs[0])"
   ]
  },
  {
   "cell_type": "code",
   "execution_count": 23,
   "metadata": {},
   "outputs": [],
   "source": [
    "def solve(input_data, output):\n",
    "    sum = 0\n",
    "    for i in range(len(input_data)):\n",
    "        input_row = input_data[i]\n",
    "        out = output[i]\n",
    "        convert = find_values(input_row)\n",
    "        digits = [convert[sort(val)] for val in out]\n",
    "        sum += digits[0] * 1000 + digits[1] * 100 + digits[2] * 10 + digits[3]\n",
    "    return sum"
   ]
  },
  {
   "cell_type": "code",
   "execution_count": 24,
   "metadata": {},
   "outputs": [],
   "source": [
    "assert solve(demo_inputs, demo_outputs) == 61229"
   ]
  },
  {
   "cell_type": "code",
   "execution_count": 25,
   "metadata": {},
   "outputs": [
    {
     "data": {
      "text/plain": [
       "1048410"
      ]
     },
     "execution_count": 25,
     "metadata": {},
     "output_type": "execute_result"
    }
   ],
   "source": [
    "solve(full_inputs, full_outputs)"
   ]
  }
 ],
 "metadata": {
  "kernelspec": {
   "display_name": "Python 3",
   "language": "python",
   "name": "python3"
  },
  "language_info": {
   "codemirror_mode": {
    "name": "ipython",
    "version": 3
   },
   "file_extension": ".py",
   "mimetype": "text/x-python",
   "name": "python",
   "nbconvert_exporter": "python",
   "pygments_lexer": "ipython3",
   "version": "3.8.5"
  }
 },
 "nbformat": 4,
 "nbformat_minor": 4
}
