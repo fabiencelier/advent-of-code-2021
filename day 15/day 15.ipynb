{
 "cells": [
  {
   "cell_type": "code",
   "execution_count": 1,
   "metadata": {},
   "outputs": [],
   "source": [
    "def read_data(path):\n",
    "    f = open(path,\"r\")\n",
    "    return [[int(i) for i in line.strip()] for line in f.readlines()]"
   ]
  },
  {
   "cell_type": "code",
   "execution_count": 2,
   "metadata": {},
   "outputs": [
    {
     "data": {
      "text/plain": [
       "[[1, 1, 6, 3, 7, 5, 1, 7, 4, 2],\n",
       " [1, 3, 8, 1, 3, 7, 3, 6, 7, 2],\n",
       " [2, 1, 3, 6, 5, 1, 1, 3, 2, 8],\n",
       " [3, 6, 9, 4, 9, 3, 1, 5, 6, 9],\n",
       " [7, 4, 6, 3, 4, 1, 7, 1, 1, 1],\n",
       " [1, 3, 1, 9, 1, 2, 8, 1, 3, 7],\n",
       " [1, 3, 5, 9, 9, 1, 2, 4, 2, 1],\n",
       " [3, 1, 2, 5, 4, 2, 1, 6, 3, 9],\n",
       " [1, 2, 9, 3, 1, 3, 8, 5, 2, 1],\n",
       " [2, 3, 1, 1, 9, 4, 4, 5, 8, 1]]"
      ]
     },
     "execution_count": 2,
     "metadata": {},
     "output_type": "execute_result"
    }
   ],
   "source": [
    "demo_dataset = read_data(\"demo.txt\")\n",
    "full_dataset = read_data(\"data.txt\")\n",
    "demo_dataset"
   ]
  },
  {
   "cell_type": "markdown",
   "metadata": {},
   "source": [
    "# Part 1"
   ]
  },
  {
   "cell_type": "code",
   "execution_count": 3,
   "metadata": {},
   "outputs": [],
   "source": [
    "from functools import lru_cache\n",
    "\n",
    "def get_neightbours(matrix, i, j):\n",
    "    return get_neightbours_cached(i, j, len(matrix), len(matrix[0]))\n",
    "\n",
    "# @lru_cache(250000)\n",
    "# caching is not really efficient\n",
    "def get_neightbours_cached(i: int, j: int, max_i: int, max_j: int):\n",
    "    neighbours = [(i-1, j), (i+1, j), (i, j-1), (i, j+1)]\n",
    "    neighbours = [(x,y) for (x,y) in neighbours if x>=0 and y>=0 and x<max_i and y<max_j]\n",
    "    return neighbours"
   ]
  },
  {
   "cell_type": "code",
   "execution_count": 4,
   "metadata": {},
   "outputs": [],
   "source": [
    "def get_value(matrix, i, j):\n",
    "    return matrix[i][j]"
   ]
  },
  {
   "cell_type": "code",
   "execution_count": 5,
   "metadata": {},
   "outputs": [],
   "source": [
    "def set_value(matrix, i, j, value):\n",
    "    matrix[i][j] = value"
   ]
  },
  {
   "cell_type": "code",
   "execution_count": 6,
   "metadata": {},
   "outputs": [],
   "source": [
    "def insert(todo, p):\n",
    "    # I do not check for duplicate as it is slow\n",
    "    todo.append(p)"
   ]
  },
  {
   "cell_type": "code",
   "execution_count": 7,
   "metadata": {},
   "outputs": [],
   "source": [
    "def update_cost(matrix, current_cost, todo: list):\n",
    "    (i,j) = todo.pop(0)\n",
    "    neighbours = get_neightbours(matrix, i, j)\n",
    "    cost_i_j = get_value(current_cost, i, j)\n",
    "    for (x,y) in neighbours:\n",
    "        current = get_value(current_cost, x, y)\n",
    "        possible = cost_i_j + get_value(matrix, x, y)\n",
    "        if (possible < current):\n",
    "            set_value(current_cost, x, y, possible)\n",
    "            insert(todo, (x, y))"
   ]
  },
  {
   "cell_type": "code",
   "execution_count": 8,
   "metadata": {},
   "outputs": [],
   "source": [
    "def compute_path(matrix):\n",
    "    size = max(len(matrix), len(matrix[0]))\n",
    "    max_path = size * 2 * 10\n",
    "    current_cost = [[max_path for i in row] for row in matrix]\n",
    "    current_cost[0][0] = 0 # the starting point\n",
    "    def get_value(p):\n",
    "        return current_cost[p[0]][p[1]]\n",
    "    todo = [(0,0)]\n",
    "    count = 0\n",
    "    while not len(todo) == 0:\n",
    "        count +=1\n",
    "        # Sorting the todo list make it more efficient (less iterations)\n",
    "        # but has a big cost so I only do it periodically\n",
    "        if count % 100 == 0:\n",
    "            todo.sort(key = get_value)\n",
    "        update_cost(matrix, current_cost, todo)\n",
    "    print(\"steps: \" + str(count)) \n",
    "    return current_cost[-1][-1]"
   ]
  },
  {
   "cell_type": "code",
   "execution_count": 9,
   "metadata": {},
   "outputs": [
    {
     "name": "stdout",
     "output_type": "stream",
     "text": [
      "steps: 136\n"
     ]
    }
   ],
   "source": [
    "assert compute_path(demo_dataset) == 40"
   ]
  },
  {
   "cell_type": "code",
   "execution_count": 10,
   "metadata": {},
   "outputs": [
    {
     "name": "stdout",
     "output_type": "stream",
     "text": [
      "steps: 12799\n"
     ]
    },
    {
     "data": {
      "text/plain": [
       "503"
      ]
     },
     "execution_count": 10,
     "metadata": {},
     "output_type": "execute_result"
    }
   ],
   "source": [
    "compute_path(full_dataset)"
   ]
  },
  {
   "cell_type": "markdown",
   "metadata": {},
   "source": [
    "# Part 2"
   ]
  },
  {
   "cell_type": "code",
   "execution_count": 11,
   "metadata": {},
   "outputs": [],
   "source": [
    "def reduce(i: int) -> int:\n",
    "    if i < 10:\n",
    "        return i\n",
    "    return reduce(i - 9)"
   ]
  },
  {
   "cell_type": "code",
   "execution_count": 12,
   "metadata": {},
   "outputs": [],
   "source": [
    "def expand(matrix):\n",
    "    max_i = len(matrix)\n",
    "    max_j = len(matrix[0])\n",
    "    new_matrix = [[0 for j in range(max_j*5)] for i in range(max_i * 5)]\n",
    "    for m in range(5):\n",
    "        for n in range(5):\n",
    "            for i in range(max_i):\n",
    "                for j in range(max_j):\n",
    "                    new_matrix[i + m*max_i][j + n*max_j] = reduce(matrix[i][j] + n + m)\n",
    "    return new_matrix"
   ]
  },
  {
   "cell_type": "code",
   "execution_count": 13,
   "metadata": {},
   "outputs": [],
   "source": [
    "# check the bottom right number just in case\n",
    "assert expand(demo_dataset)[-1][-1] == 9"
   ]
  },
  {
   "cell_type": "code",
   "execution_count": 14,
   "metadata": {},
   "outputs": [
    {
     "name": "stdout",
     "output_type": "stream",
     "text": [
      "steps: 3178\n"
     ]
    }
   ],
   "source": [
    "assert compute_path(expand(demo_dataset)) == 315"
   ]
  },
  {
   "cell_type": "code",
   "execution_count": 15,
   "metadata": {},
   "outputs": [],
   "source": [
    "big_full = expand(full_dataset)"
   ]
  },
  {
   "cell_type": "code",
   "execution_count": 16,
   "metadata": {},
   "outputs": [
    {
     "name": "stdout",
     "output_type": "stream",
     "text": [
      "steps: 253337\n",
      "CPU times: user 906 ms, sys: 0 ns, total: 906 ms\n",
      "Wall time: 905 ms\n"
     ]
    },
    {
     "data": {
      "text/plain": [
       "2853"
      ]
     },
     "execution_count": 16,
     "metadata": {},
     "output_type": "execute_result"
    }
   ],
   "source": [
    "%%time\n",
    "compute_path(big_full)"
   ]
  },
  {
   "cell_type": "code",
   "execution_count": 17,
   "metadata": {},
   "outputs": [],
   "source": [
    "# pip install snakeviz"
   ]
  },
  {
   "cell_type": "code",
   "execution_count": 18,
   "metadata": {},
   "outputs": [],
   "source": [
    "# %load_ext snakeviz"
   ]
  },
  {
   "cell_type": "code",
   "execution_count": 19,
   "metadata": {},
   "outputs": [],
   "source": [
    "# %%snakeviz\n",
    "# compute_path(big_full)"
   ]
  }
 ],
 "metadata": {
  "kernelspec": {
   "display_name": "Python 3",
   "language": "python",
   "name": "python3"
  },
  "language_info": {
   "codemirror_mode": {
    "name": "ipython",
    "version": 3
   },
   "file_extension": ".py",
   "mimetype": "text/x-python",
   "name": "python",
   "nbconvert_exporter": "python",
   "pygments_lexer": "ipython3",
   "version": "3.8.5"
  }
 },
 "nbformat": 4,
 "nbformat_minor": 4
}
