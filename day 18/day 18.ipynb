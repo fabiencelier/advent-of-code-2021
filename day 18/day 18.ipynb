{
 "cells": [
  {
   "cell_type": "code",
   "execution_count": 126,
   "metadata": {},
   "outputs": [],
   "source": [
    "def read_data(path):\n",
    "    f = open(path,\"r\")\n",
    "    return [line.strip() for line in f.readlines()]"
   ]
  },
  {
   "cell_type": "code",
   "execution_count": 130,
   "metadata": {},
   "outputs": [
    {
     "data": {
      "text/plain": [
       "['[[[0,[4,5]],[0,0]],[[[4,5],[2,6]],[9,5]]]',\n",
       " '[7,[[[3,7],[4,3]],[[6,3],[8,8]]]]',\n",
       " '[[2,[[0,8],[3,4]]],[[[6,7],1],[7,[1,6]]]]',\n",
       " '[[[[2,4],7],[6,[0,5]]],[[[6,8],[2,8]],[[2,1],[4,5]]]]',\n",
       " '[7,[5,[[3,8],[1,4]]]]',\n",
       " '[[2,[2,2]],[8,[8,1]]]',\n",
       " '[2,9]',\n",
       " '[1,[[[9,3],9],[[9,0],[0,7]]]]',\n",
       " '[[[5,[7,4]],7],1]',\n",
       " '[[[[4,2],2],6],[8,7]]']"
      ]
     },
     "execution_count": 130,
     "metadata": {},
     "output_type": "execute_result"
    }
   ],
   "source": [
    "demo_dataset = read_data(\"demo.txt\")\n",
    "demo_dataset2 = read_data(\"demo2.txt\")\n",
    "full_dataset = read_data(\"data.txt\")\n",
    "demo_dataset"
   ]
  },
  {
   "cell_type": "code",
   "execution_count": 10,
   "metadata": {},
   "outputs": [],
   "source": [
    "from typing import List, Tuple\n",
    "Number = Tuple[List[int], List[int]]"
   ]
  },
  {
   "cell_type": "markdown",
   "metadata": {},
   "source": [
    "# Part 1"
   ]
  },
  {
   "cell_type": "code",
   "execution_count": 11,
   "metadata": {},
   "outputs": [],
   "source": [
    "def parse(string: str) -> Number:\n",
    "    depth = 0\n",
    "    numbers = []\n",
    "    depths = []\n",
    "    for char in string:\n",
    "        if char == \"[\":\n",
    "            depth += 1\n",
    "        elif char == \"]\":\n",
    "            depth -= 1\n",
    "        elif char != \",\":\n",
    "            n = int(char)\n",
    "            numbers.append(n)\n",
    "            depths.append(depth)\n",
    "    return (numbers, depths)"
   ]
  },
  {
   "cell_type": "code",
   "execution_count": 14,
   "metadata": {},
   "outputs": [],
   "source": [
    "assert parse(\"[[1,2],[[3,4],5]]\") == ([1, 2, 3, 4, 5], [2, 2, 3, 3, 2])"
   ]
  },
  {
   "cell_type": "code",
   "execution_count": 29,
   "metadata": {},
   "outputs": [],
   "source": [
    "def explode(numbers: List[int], depths: List[int], i: int) -> Number:\n",
    "    if i > 0:\n",
    "        numbers[i-1] += numbers[i]\n",
    "    if i + 2 < len(numbers):\n",
    "        numbers[i + 2] += numbers[i + 1]\n",
    "    new_numbers = [ *(numbers[:i] if i > 0 else []), 0, *numbers[i + 2:]]\n",
    "    new_depths = [ *(depths[:i] if i > 0 else []), depths[i] - 1, *depths[i + 2:]]\n",
    "    return (new_numbers, new_depths)"
   ]
  },
  {
   "cell_type": "code",
   "execution_count": 33,
   "metadata": {},
   "outputs": [],
   "source": [
    "assert explode(*parse(\"[[[[[9,8],1],2],3],4]\"), 0) == parse(\"[[[[0,9],2],3],4]\")\n",
    "assert explode(*parse(\"[7,[6,[5,[4,[3,2]]]]]\"), 4) == parse(\"[7,[6,[5,[7,0]]]]\")\n",
    "assert explode(*parse(\"[[6,[5,[4,[3,2]]]],1]\"), 3) == parse(\"[[6,[5,[7,0]]],3]\")\n",
    "assert explode(*parse(\"[[3,[2,[1,[7,3]]]],[6,[5,[4,[3,2]]]]]\"), 3) == parse(\"[[3,[2,[8,0]]],[9,[5,[4,[3,2]]]]]\")\n",
    "assert explode(*parse(\"[[3,[2,[8,0]]],[9,[5,[4,[3,2]]]]]\"), 7) == parse(\"[[3,[2,[8,0]]],[9,[5,[7,0]]]]\")"
   ]
  },
  {
   "cell_type": "code",
   "execution_count": 87,
   "metadata": {},
   "outputs": [],
   "source": [
    "def split(numbers: List[int], depths: List[int], i: int) -> Number:\n",
    "    left = numbers[i] // 2\n",
    "    right = (numbers[i] + 1) // 2\n",
    "    new_numbers = [ *(numbers[:i] if i > 0 else []), left, right, *numbers[i + 1:]]\n",
    "    new_depths = [ *(depths[:i] if i > 0 else []), depths[i] + 1, depths[i] + 1, *depths[i+1:]]\n",
    "    return (new_numbers, new_depths)"
   ]
  },
  {
   "cell_type": "code",
   "execution_count": 88,
   "metadata": {},
   "outputs": [],
   "source": [
    "assert split([0, 7, 4, 15, 0, 13, 1, 1], [4, 4, 3, 3, 4, 4, 2, 2], 3) == ([0, 7, 4, 7, 8, 0, 13, 1, 1], [4, 4, 3, 4, 4, 4, 4, 2, 2])"
   ]
  },
  {
   "cell_type": "code",
   "execution_count": 90,
   "metadata": {},
   "outputs": [],
   "source": [
    "def reduce_step(numbers: List[int], depths: List[int]) -> Number:\n",
    "    for i in range(len(depths)):\n",
    "        if depths[i] > 4:\n",
    "            return explode(numbers, depths, i)\n",
    "    for i in range(len(numbers)):\n",
    "        if numbers[i] > 9:\n",
    "            return split(numbers, depths, i)"
   ]
  },
  {
   "cell_type": "code",
   "execution_count": 93,
   "metadata": {},
   "outputs": [],
   "source": [
    "def reduce(number: Number) -> Number:\n",
    "    current = number\n",
    "    while (not all([i<=4 for i in current[1]])) or (not all([i < 10 for i in current[0]])):\n",
    "        current = reduce_step(*current)\n",
    "    return current"
   ]
  },
  {
   "cell_type": "code",
   "execution_count": 94,
   "metadata": {},
   "outputs": [],
   "source": [
    "assert reduce(parse(\"[[[[[4,3],4],4],[7,[[8,4],9]]],[1,1]]\")) == parse(\"[[[[0,7],4],[[7,8],[6,0]]],[8,1]]\")"
   ]
  },
  {
   "cell_type": "code",
   "execution_count": 99,
   "metadata": {},
   "outputs": [],
   "source": [
    "def add(number1: Number, number2: Number) -> Number:\n",
    "    numbers = [*number1[0], *number2[0]]\n",
    "    depths = [ *[i + 1 for i in number1[1]] , *[j + 1 for j in number2[1]]]\n",
    "    return (numbers, depths)"
   ]
  },
  {
   "cell_type": "code",
   "execution_count": 101,
   "metadata": {},
   "outputs": [],
   "source": [
    "assert reduce(add(parse(\"[[[[4,3],4],4],[7,[[8,4],9]]]\"), parse(\"[1,1]\"))) == parse(\"[[[[0,7],4],[[7,8],[6,0]]],[8,1]]\")"
   ]
  },
  {
   "cell_type": "code",
   "execution_count": 180,
   "metadata": {},
   "outputs": [],
   "source": [
    "def magnitude(number: Number) -> int:\n",
    "    depth = number[1]\n",
    "    numbers = number[0]\n",
    "    max_depth = max(depth)\n",
    "    new_depths = []\n",
    "    new_numbers = []\n",
    "    i = 0\n",
    "    while i < len(numbers):\n",
    "        if depth[i] != max_depth:\n",
    "            new_numbers.append(numbers[i])\n",
    "            new_depths.append(depth[i])\n",
    "            i += 1\n",
    "        else:\n",
    "            new_numbers.append(3 * numbers[i] + 2 * numbers[i + 1])\n",
    "            new_depths.append(depth[i] - 1)\n",
    "            i += 2\n",
    "    if len(new_numbers) == 1:\n",
    "        return new_numbers[0]\n",
    "    else:\n",
    "        return magnitude((new_numbers, new_depths))"
   ]
  },
  {
   "cell_type": "code",
   "execution_count": 181,
   "metadata": {},
   "outputs": [
    {
     "data": {
      "text/plain": [
       "2478"
      ]
     },
     "execution_count": 181,
     "metadata": {},
     "output_type": "execute_result"
    }
   ],
   "source": [
    "magnitude(([0, 7, 8, 8, 0, 6, 9, 6, 6, 6, 7, 0, 8, 9], [4, 4, 4, 4, 4, 4, 3, 3, 4, 4, 4, 4, 4, 4]))"
   ]
  },
  {
   "cell_type": "code",
   "execution_count": 182,
   "metadata": {},
   "outputs": [],
   "source": [
    "assert magnitude(parse(\"[[1,2],[[3,4],5]]\")) == 143\n",
    "assert magnitude(parse(\"[[[[0,7],4],[[7,8],[6,0]]],[8,1]]\")) == 1384\n",
    "assert magnitude(parse(\"[[[[1,1],[2,2]],[3,3]],[4,4]]\")) == 445\n",
    "assert magnitude(parse(\"[[[[3,0],[5,3]],[4,4]],[5,5]]\")) == 791\n",
    "assert magnitude(parse(\"[[[[5,0],[7,4]],[5,5]],[6,6]]\")) == 1137\n",
    "assert magnitude(parse(\"[[[[8,7],[7,7]],[[8,6],[7,7]]],[[[0,7],[6,6]],[8,7]]]\")) == 3488"
   ]
  },
  {
   "cell_type": "code",
   "execution_count": 183,
   "metadata": {},
   "outputs": [],
   "source": [
    "def compute(rows: List[str]) -> int:\n",
    "    parsed = [ parse(row) for row in rows]\n",
    "    current = parsed[0]\n",
    "    for i in range(1, len(parsed)):\n",
    "        current = reduce(add(current, parsed[i]))\n",
    "    return magnitude(current)"
   ]
  },
  {
   "cell_type": "code",
   "execution_count": 184,
   "metadata": {},
   "outputs": [],
   "source": [
    "assert compute(demo_dataset) == 3488"
   ]
  },
  {
   "cell_type": "code",
   "execution_count": 185,
   "metadata": {},
   "outputs": [],
   "source": [
    "assert compute(demo_dataset2) == 4140"
   ]
  },
  {
   "cell_type": "code",
   "execution_count": 186,
   "metadata": {},
   "outputs": [
    {
     "data": {
      "text/plain": [
       "3734"
      ]
     },
     "execution_count": 186,
     "metadata": {},
     "output_type": "execute_result"
    }
   ],
   "source": [
    "compute(full_dataset)"
   ]
  },
  {
   "cell_type": "markdown",
   "metadata": {},
   "source": [
    "# Part 2"
   ]
  },
  {
   "cell_type": "code",
   "execution_count": 187,
   "metadata": {},
   "outputs": [],
   "source": [
    "from copy import copy"
   ]
  },
  {
   "cell_type": "code",
   "execution_count": 190,
   "metadata": {},
   "outputs": [],
   "source": [
    "def max_sum(dataset):\n",
    "    parsed = [ parse(row) for row in dataset]\n",
    "    current_max = 0\n",
    "    for row1 in parsed:\n",
    "        for row2 in parsed:\n",
    "            if row1 != row2:\n",
    "                result = reduce(add(copy(row1), copy(row2)))\n",
    "                value = magnitude(result)\n",
    "                current_max = max(current_max, value)\n",
    "    return current_max"
   ]
  },
  {
   "cell_type": "code",
   "execution_count": 192,
   "metadata": {},
   "outputs": [],
   "source": [
    "assert max_sum(demo_dataset2) == 3993"
   ]
  },
  {
   "cell_type": "code",
   "execution_count": 193,
   "metadata": {},
   "outputs": [
    {
     "data": {
      "text/plain": [
       "4837"
      ]
     },
     "execution_count": 193,
     "metadata": {},
     "output_type": "execute_result"
    }
   ],
   "source": [
    "max_sum(full_dataset)"
   ]
  }
 ],
 "metadata": {
  "kernelspec": {
   "display_name": "Python 3",
   "language": "python",
   "name": "python3"
  },
  "language_info": {
   "codemirror_mode": {
    "name": "ipython",
    "version": 3
   },
   "file_extension": ".py",
   "mimetype": "text/x-python",
   "name": "python",
   "nbconvert_exporter": "python",
   "pygments_lexer": "ipython3",
   "version": "3.8.5"
  }
 },
 "nbformat": 4,
 "nbformat_minor": 4
}
