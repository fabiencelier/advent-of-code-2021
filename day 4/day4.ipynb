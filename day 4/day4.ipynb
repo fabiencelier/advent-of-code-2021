{
 "cells": [
  {
   "cell_type": "code",
   "execution_count": 1,
   "metadata": {},
   "outputs": [],
   "source": [
    "def read_numbers(path):\n",
    "    f = open(path,\"r\")\n",
    "    lines = f.readlines()\n",
    "    line = lines[0]\n",
    "    str_data = line.split(\",\")\n",
    "    return [int(val) for val in str_data]"
   ]
  },
  {
   "cell_type": "code",
   "execution_count": 2,
   "metadata": {},
   "outputs": [],
   "source": [
    "demo_numbers = read_numbers(\"demo_number.txt\")\n",
    "full_numbers = read_numbers(\"numbers.txt\")"
   ]
  },
  {
   "cell_type": "code",
   "execution_count": 3,
   "metadata": {},
   "outputs": [],
   "source": [
    "def read_grids(path):\n",
    "    f = open(path,\"r\")\n",
    "    lines = f.readlines()\n",
    "    grids = []\n",
    "    grid_id = 0\n",
    "    row_id = 0\n",
    "    current_grid = []\n",
    "    while row_id < len(lines):\n",
    "        if (lines[row_id] == \"\\n\"):\n",
    "            grids.append(current_grid)\n",
    "            current_grid = []\n",
    "        else:\n",
    "            row = [int(word) for word in lines[row_id].split(\" \") if word != \"\"]\n",
    "            current_grid.append(row)\n",
    "        row_id += 1\n",
    "    grids.append(current_grid)\n",
    "    return grids"
   ]
  },
  {
   "cell_type": "code",
   "execution_count": 4,
   "metadata": {},
   "outputs": [],
   "source": [
    "demo_grids = read_grids(\"demo_grid.txt\")\n",
    "full_grids = read_grids(\"grids.txt\")"
   ]
  },
  {
   "cell_type": "code",
   "execution_count": 5,
   "metadata": {},
   "outputs": [],
   "source": [
    "def grids_mask(size: int):\n",
    "    return [[[False for i in range(5)] for j in range(5)] for g in range(size)]"
   ]
  },
  {
   "cell_type": "code",
   "execution_count": 6,
   "metadata": {},
   "outputs": [],
   "source": [
    "def is_winning(mask) -> bool:\n",
    "    for i in range(5):\n",
    "        is_win_row = True\n",
    "        is_win_col= True\n",
    "        for j in range(5):\n",
    "            is_win_row &= mask[i][j]\n",
    "            is_win_col &= mask[j][i]\n",
    "        if (is_win_row | is_win_col):\n",
    "            return True\n",
    "    return False"
   ]
  },
  {
   "cell_type": "code",
   "execution_count": 7,
   "metadata": {},
   "outputs": [],
   "source": [
    "assert is_winning(grids_mask(5)[0]) is False\n",
    "f = [False, False, False, False]\n",
    "t = [True, True, True, True, True]\n",
    "assert is_winning([t, f, f, f, f])\n",
    "r = [False, True, False, False, False]\n",
    "assert is_winning([r,r,r,r,r])"
   ]
  },
  {
   "cell_type": "markdown",
   "metadata": {},
   "source": [
    "# Part 1"
   ]
  },
  {
   "cell_type": "code",
   "execution_count": 8,
   "metadata": {},
   "outputs": [],
   "source": [
    "def get_winning_row(grid) -> int:\n",
    "    for i in range(5):\n",
    "        is_win = True\n",
    "        for j in range(5):\n",
    "            is_win &= grid[i][j]\n",
    "        if is_win:\n",
    "            return i\n",
    "    return -1\n",
    "assert get_winning_row(grids_mask(5)[0]) == -1\n",
    "def get_winning_column(grid) -> int:\n",
    "    for i in range(5):\n",
    "        is_win = True\n",
    "        for j in range(5):\n",
    "            is_win &= grid[j][i]\n",
    "        if is_win:\n",
    "            return i\n",
    "    return -1\n",
    "assert get_winning_column(grids_mask(5)[0]) == -1"
   ]
  },
  {
   "cell_type": "code",
   "execution_count": 9,
   "metadata": {},
   "outputs": [],
   "source": [
    "def compute_score(grid, mask):\n",
    "    total = 0\n",
    "    for i in range(5):\n",
    "        for j in range(5):\n",
    "            if not mask[i][j]:\n",
    "                total += grid[i][j]\n",
    "    return total"
   ]
  },
  {
   "cell_type": "code",
   "execution_count": 10,
   "metadata": {},
   "outputs": [],
   "source": [
    "def play_on_grid(grid, mask, value):\n",
    "    for i in range(5):\n",
    "        for j in range(5):\n",
    "            if grid[i][j] == value:\n",
    "                mask[i][j] = True"
   ]
  },
  {
   "cell_type": "code",
   "execution_count": 11,
   "metadata": {},
   "outputs": [],
   "source": [
    "def play(grids, numbers):\n",
    "    masks = grids_mask(len(grids))\n",
    "    for number in numbers:\n",
    "        for grid_id in range(len(grids)):\n",
    "            grid = grids[grid_id]\n",
    "            mask = masks[grid_id]\n",
    "            play_on_grid(grid, mask, number)\n",
    "            if is_winning(mask):\n",
    "                return number * compute_score(grid, mask)"
   ]
  },
  {
   "cell_type": "code",
   "execution_count": 12,
   "metadata": {},
   "outputs": [],
   "source": [
    "assert play(demo_grids, demo_numbers) == 4512"
   ]
  },
  {
   "cell_type": "code",
   "execution_count": 13,
   "metadata": {},
   "outputs": [
    {
     "data": {
      "text/plain": [
       "89001"
      ]
     },
     "execution_count": 13,
     "metadata": {},
     "output_type": "execute_result"
    }
   ],
   "source": [
    "play(full_grids, full_numbers)"
   ]
  },
  {
   "cell_type": "markdown",
   "metadata": {},
   "source": [
    "# Part 2"
   ]
  },
  {
   "cell_type": "code",
   "execution_count": 14,
   "metadata": {},
   "outputs": [],
   "source": [
    "def play_for_loose(grids, numbers):\n",
    "    masks = grids_mask(len(grids))\n",
    "    playing_grids = [i for i in range(len(grids))]\n",
    "    for number in numbers:\n",
    "        curren_grids = [id for id in playing_grids]\n",
    "        for grid_id in curren_grids:\n",
    "            grid = grids[grid_id]\n",
    "            mask = masks[grid_id]\n",
    "            play_on_grid(grid, mask, number)\n",
    "            if is_winning(mask):\n",
    "                playing_grids.remove(grid_id)\n",
    "                if len(playing_grids) == 0:\n",
    "                    return number * compute_score(grid, mask)\n"
   ]
  },
  {
   "cell_type": "code",
   "execution_count": 15,
   "metadata": {},
   "outputs": [],
   "source": [
    "assert play_for_loose(demo_grids, demo_numbers) == 1924"
   ]
  },
  {
   "cell_type": "code",
   "execution_count": 16,
   "metadata": {},
   "outputs": [
    {
     "data": {
      "text/plain": [
       "7296"
      ]
     },
     "execution_count": 16,
     "metadata": {},
     "output_type": "execute_result"
    }
   ],
   "source": [
    "play_for_loose(full_grids, full_numbers)"
   ]
  }
 ],
 "metadata": {
  "kernelspec": {
   "display_name": "Python 3",
   "language": "python",
   "name": "python3"
  },
  "language_info": {
   "codemirror_mode": {
    "name": "ipython",
    "version": 3
   },
   "file_extension": ".py",
   "mimetype": "text/x-python",
   "name": "python",
   "nbconvert_exporter": "python",
   "pygments_lexer": "ipython3",
   "version": "3.8.5"
  }
 },
 "nbformat": 4,
 "nbformat_minor": 4
}
