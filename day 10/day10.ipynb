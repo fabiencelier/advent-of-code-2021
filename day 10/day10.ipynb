{
 "cells": [
  {
   "cell_type": "code",
   "execution_count": 1,
   "metadata": {},
   "outputs": [],
   "source": [
    "def read_data(path):\n",
    "    f = open(path,\"r\")\n",
    "    lines = [ l.strip() for l in  f.readlines()]\n",
    "    return lines"
   ]
  },
  {
   "cell_type": "code",
   "execution_count": 2,
   "metadata": {},
   "outputs": [
    {
     "data": {
      "text/plain": [
       "['[({(<(())[]>[[{[]{<()<>>',\n",
       " '[(()[<>])]({[<{<<[]>>(',\n",
       " '{([(<{}[<>[]}>{[]{[(<()>',\n",
       " '(((({<>}<{<{<>}{[]{[]{}',\n",
       " '[[<[([]))<([[{}[[()]]]',\n",
       " '[{[{({}]{}}([{[{{{}}([]',\n",
       " '{<[[]]>}<{[{[{[]{()[[[]',\n",
       " '[<(<(<(<{}))><([]([]()',\n",
       " '<{([([[(<>()){}]>(<<{{',\n",
       " '<{([{{}}[<[[[<>{}]]]>[]]']"
      ]
     },
     "execution_count": 2,
     "metadata": {},
     "output_type": "execute_result"
    }
   ],
   "source": [
    "demo_dataset = read_data(\"demo.txt\")\n",
    "full_dataset = read_data(\"data.txt\")\n",
    "demo_dataset"
   ]
  },
  {
   "cell_type": "markdown",
   "metadata": {},
   "source": [
    "# Part 1"
   ]
  },
  {
   "cell_type": "code",
   "execution_count": 3,
   "metadata": {},
   "outputs": [],
   "source": [
    "def is_open(char):\n",
    "    return char in [\"[\", \"{\", \"<\", \"(\"]"
   ]
  },
  {
   "cell_type": "code",
   "execution_count": 4,
   "metadata": {},
   "outputs": [],
   "source": [
    "mapping = { \"[\": \"]\", \"{\": \"}\", \"<\": \">\", \"(\": \")\"}\n",
    "def is_pair(opening, closing):\n",
    "    return mapping[opening] == closing"
   ]
  },
  {
   "cell_type": "code",
   "execution_count": 5,
   "metadata": {},
   "outputs": [],
   "source": [
    "def get_invalid_in_row(row):\n",
    "    stack = []\n",
    "    for c in row:\n",
    "        if is_open(c):\n",
    "            stack.append(c)\n",
    "        else:\n",
    "            opening = stack.pop()\n",
    "            if not is_pair(opening, c):\n",
    "                return c\n",
    "    return None"
   ]
  },
  {
   "cell_type": "code",
   "execution_count": 6,
   "metadata": {},
   "outputs": [],
   "source": [
    "def get_invalids(dataset) -> list: \n",
    "    invalids = []\n",
    "    for row in dataset:\n",
    "        char = get_invalid_in_row(row)\n",
    "        if char is not None:\n",
    "            invalids.append(char)\n",
    "    return invalids"
   ]
  },
  {
   "cell_type": "code",
   "execution_count": 7,
   "metadata": {},
   "outputs": [
    {
     "data": {
      "text/plain": [
       "['}', ')', ']', ')', '>']"
      ]
     },
     "execution_count": 7,
     "metadata": {},
     "output_type": "execute_result"
    }
   ],
   "source": [
    "get_invalids(demo_dataset)"
   ]
  },
  {
   "cell_type": "code",
   "execution_count": 8,
   "metadata": {},
   "outputs": [],
   "source": [
    "score_map = { \")\": 3, \"]\": 57, \"}\": 1197, \">\": 25137}\n",
    "def get_score(dataset):\n",
    "    invalids = get_invalids(dataset)\n",
    "    return sum([score_map[i] for i in invalids])"
   ]
  },
  {
   "cell_type": "code",
   "execution_count": 11,
   "metadata": {},
   "outputs": [],
   "source": [
    "assert get_score(demo_dataset) == 26397"
   ]
  },
  {
   "cell_type": "code",
   "execution_count": 12,
   "metadata": {},
   "outputs": [
    {
     "data": {
      "text/plain": [
       "318099"
      ]
     },
     "execution_count": 12,
     "metadata": {},
     "output_type": "execute_result"
    }
   ],
   "source": [
    "get_score(full_dataset)"
   ]
  },
  {
   "cell_type": "markdown",
   "metadata": {},
   "source": [
    "# Part 2"
   ]
  },
  {
   "cell_type": "code",
   "execution_count": 13,
   "metadata": {},
   "outputs": [],
   "source": [
    "def get_corresponding_end(stack: list) -> list:\n",
    "    end = []\n",
    "    while not len(stack) == 0:\n",
    "        char = stack.pop()\n",
    "        end.append(mapping[char])\n",
    "    return end"
   ]
  },
  {
   "cell_type": "code",
   "execution_count": 14,
   "metadata": {},
   "outputs": [],
   "source": [
    "def get_closing_in_row(row):\n",
    "    end = []\n",
    "    stack = []\n",
    "    for c in row:\n",
    "        if is_open(c):\n",
    "            stack.append(c)\n",
    "        else:\n",
    "            opening = stack.pop()\n",
    "            if not is_pair(opening, c):\n",
    "                return [] # invalid row\n",
    "    return get_corresponding_end(stack)"
   ]
  },
  {
   "cell_type": "code",
   "execution_count": 43,
   "metadata": {},
   "outputs": [],
   "source": [
    "score_map_2 = { \")\": 1, \"]\": 2, \"}\": 3, \">\": 4}\n",
    "def get_score(dataset):\n",
    "    scores = []\n",
    "    for row in dataset:\n",
    "        row_score = 0\n",
    "        for char in get_closing_in_row(row):\n",
    "            row_score = row_score * 5 + score_map_2[char]\n",
    "        if (row_score != 0):\n",
    "            scores.append(row_score)\n",
    "    sorted_score = sorted(scores)\n",
    "    return sorted_score[len(scores)// 2]"
   ]
  },
  {
   "cell_type": "code",
   "execution_count": 45,
   "metadata": {},
   "outputs": [],
   "source": [
    "assert get_score(demo_dataset) == 288957"
   ]
  },
  {
   "cell_type": "code",
   "execution_count": 46,
   "metadata": {},
   "outputs": [
    {
     "data": {
      "text/plain": [
       "2389738699"
      ]
     },
     "execution_count": 46,
     "metadata": {},
     "output_type": "execute_result"
    }
   ],
   "source": [
    "get_score(full_dataset)"
   ]
  }
 ],
 "metadata": {
  "kernelspec": {
   "display_name": "Python 3",
   "language": "python",
   "name": "python3"
  },
  "language_info": {
   "codemirror_mode": {
    "name": "ipython",
    "version": 3
   },
   "file_extension": ".py",
   "mimetype": "text/x-python",
   "name": "python",
   "nbconvert_exporter": "python",
   "pygments_lexer": "ipython3",
   "version": "3.8.5"
  }
 },
 "nbformat": 4,
 "nbformat_minor": 4
}
