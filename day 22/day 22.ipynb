{
 "cells": [
  {
   "cell_type": "code",
   "execution_count": 1,
   "metadata": {},
   "outputs": [],
   "source": [
    "from typing import Tuple, List\n",
    "Interval = List[Tuple[int, int]]\n",
    "Row = List[Tuple[str, Interval]]"
   ]
  },
  {
   "cell_type": "code",
   "execution_count": 2,
   "metadata": {},
   "outputs": [],
   "source": [
    "def parse_one_coordinate(coordinate: str) -> str:\n",
    "    numbers = coordinate.split(\"=\")[1]\n",
    "    return (int(numbers.split(\".\")[0]), int(numbers.split(\".\")[2]))\n",
    "\n",
    "def parse_interval(string: str) -> Interval:\n",
    "    return [ parse_one_coordinate(c) for c in  string.split(\",\")]"
   ]
  },
  {
   "cell_type": "code",
   "execution_count": 3,
   "metadata": {},
   "outputs": [],
   "source": [
    "assert parse_interval(\"x=10..12,y=20..22,z=-20..12\") == [(10, 12), (20, 22), (-20, 12)]"
   ]
  },
  {
   "cell_type": "code",
   "execution_count": 4,
   "metadata": {},
   "outputs": [],
   "source": [
    "def read_data(path) -> List[Tuple[str, Interval]]:\n",
    "    f = open(path,\"r\")\n",
    "    lines = [line.strip() for line in f.readlines()]\n",
    "    return [(line.split(\" \")[0], parse_interval(line)) for line in lines]"
   ]
  },
  {
   "cell_type": "code",
   "execution_count": 5,
   "metadata": {},
   "outputs": [
    {
     "data": {
      "text/plain": [
       "[('on', [(10, 12), (10, 12), (10, 12)]),\n",
       " ('on', [(11, 13), (11, 13), (11, 13)]),\n",
       " ('off', [(9, 11), (9, 11), (9, 11)]),\n",
       " ('on', [(10, 10), (10, 10), (10, 10)])]"
      ]
     },
     "execution_count": 5,
     "metadata": {},
     "output_type": "execute_result"
    }
   ],
   "source": [
    "demo_dataset = read_data(\"demo.txt\")\n",
    "demo2_dataset = read_data(\"demo2.txt\")\n",
    "demo3_dataset = read_data(\"demo3.txt\")\n",
    "full_dataset = read_data(\"data.txt\")\n",
    "demo_dataset"
   ]
  },
  {
   "cell_type": "markdown",
   "metadata": {},
   "source": [
    "# Part 1"
   ]
  },
  {
   "cell_type": "code",
   "execution_count": 6,
   "metadata": {},
   "outputs": [],
   "source": [
    "def limit(number: int) -> int:\n",
    "    if number < -50:\n",
    "        return -51\n",
    "    elif number > 50:\n",
    "        return 51\n",
    "    else:\n",
    "        return number"
   ]
  },
  {
   "cell_type": "code",
   "execution_count": 7,
   "metadata": {},
   "outputs": [],
   "source": [
    "def get_limits(row: Row) -> Interval:\n",
    "    return [(limit(c1), limit(c2)) for c1, c2 in row[1]]"
   ]
  },
  {
   "cell_type": "code",
   "execution_count": 8,
   "metadata": {},
   "outputs": [],
   "source": [
    "def count_on(dataset: List[Row]) -> int:\n",
    "    on = set()\n",
    "    for row in dataset:\n",
    "        onoff = row[0]\n",
    "        [(x1,x2), (y1, y2), (z1, z2)] = get_limits(row)\n",
    "        for x in range(x1, x2 + 1):\n",
    "            if abs(x) <= 50:\n",
    "                for y in range(y1, y2 + 1):\n",
    "                    if abs(y) <= 50:\n",
    "                        for z in range(z1, z2 + 1):\n",
    "                            if abs(z) <= 50:\n",
    "                                if onoff == \"on\":\n",
    "                                    on.add((x,y,z))\n",
    "                                else:\n",
    "                                    on.discard((x,y,z))\n",
    "    return len(on)"
   ]
  },
  {
   "cell_type": "code",
   "execution_count": 9,
   "metadata": {},
   "outputs": [],
   "source": [
    "assert count_on(demo_dataset) == 39\n",
    "assert count_on(demo2_dataset) == 590784"
   ]
  },
  {
   "cell_type": "code",
   "execution_count": 10,
   "metadata": {},
   "outputs": [
    {
     "name": "stdout",
     "output_type": "stream",
     "text": [
      "CPU times: user 572 ms, sys: 31.6 ms, total: 604 ms\n",
      "Wall time: 602 ms\n"
     ]
    },
    {
     "data": {
      "text/plain": [
       "642125"
      ]
     },
     "execution_count": 10,
     "metadata": {},
     "output_type": "execute_result"
    }
   ],
   "source": [
    "%%time\n",
    "count_on(full_dataset)"
   ]
  },
  {
   "cell_type": "markdown",
   "metadata": {},
   "source": [
    "# Part 2\n",
    "\n",
    "Let's keep a list of disjoint intervals.  \n",
    "When we add a new interval intersecting an existing interval we split it into several intervals representing the new interval minus the intersection."
   ]
  },
  {
   "cell_type": "code",
   "execution_count": 11,
   "metadata": {},
   "outputs": [],
   "source": [
    "def is_contained_element( a: int, b: Tuple[int, int]) -> bool:\n",
    "    return (a[0] <= b[0] <= a[1]) and (a[0] <= b[1] <= a[1])"
   ]
  },
  {
   "cell_type": "code",
   "execution_count": 12,
   "metadata": {},
   "outputs": [],
   "source": [
    "def isin( a: Tuple[int, int], b: Tuple[int, int]) -> bool:\n",
    "    return (a[0] <= b[0] <= a[1]) or (b[0] <= a[0] <= b[1])"
   ]
  },
  {
   "cell_type": "code",
   "execution_count": 13,
   "metadata": {},
   "outputs": [],
   "source": [
    "assert isin((-44, 5), (-5, 47))\n",
    "assert isin((-27, 21), (-31, 22))\n",
    "assert isin((-14, 35), (-19, 33))"
   ]
  },
  {
   "cell_type": "code",
   "execution_count": 14,
   "metadata": {},
   "outputs": [],
   "source": [
    "def has_intersection(a: Interval, b: Interval) -> bool:\n",
    "    return isin(a[0], b[0]) and isin(a[1], b[1]) and isin(a[2], b[2])"
   ]
  },
  {
   "cell_type": "code",
   "execution_count": 15,
   "metadata": {},
   "outputs": [],
   "source": [
    "assert has_intersection([(-5, 47), (-31, 22), (-19, 33)], [(-44, 5), (-27, 21), (-14, 35)])\n",
    "assert has_intersection([(-44, 5), (-27, 21), (-14, 35)], [(-5, 47), (-31, 22), (-19, 33)])"
   ]
  },
  {
   "cell_type": "code",
   "execution_count": 16,
   "metadata": {},
   "outputs": [],
   "source": [
    "def is_contained(b: Interval, a: Interval) -> bool:\n",
    "    \"\"\"Whether b is fully contained in a\"\"\"\n",
    "    return is_contained_element(a[0], b[0]) and is_contained_element(a[1], b[1]) and is_contained_element(a[2], b[2])"
   ]
  },
  {
   "cell_type": "code",
   "execution_count": 17,
   "metadata": {},
   "outputs": [],
   "source": [
    "def intersect_tuples(x1, x2, a1, a2) -> List[Tuple[int, int]]:\n",
    "    if x1 <= a1 <= x2 <= a2:\n",
    "        return [(x1, a1 - 1), (a1, x2)]\n",
    "    elif a1 <= x1 <= a2 <= x2:\n",
    "        return [(x1, a2), (a2 + 1, x2)]\n",
    "    elif a1 <= x1 <= x2 <= a2:\n",
    "        return [(x1, x2)]\n",
    "    elif x1 <= a1 <= a2 <= x2:\n",
    "        return [(x1,a1-1), (a1, a2), (a2 + 1, x2)]\n",
    "    else:\n",
    "        raise Exception(\"Unexpected tuples to intersect\")"
   ]
  },
  {
   "cell_type": "code",
   "execution_count": 18,
   "metadata": {},
   "outputs": [],
   "source": [
    "assert intersect_tuples(11, 15, 10, 12) == [(11, 12), (13, 15)]"
   ]
  },
  {
   "cell_type": "code",
   "execution_count": 19,
   "metadata": {},
   "outputs": [],
   "source": [
    "def is_empty(i: Interval) -> bool:\n",
    "    return (i[0][0] > i[0][1]) or (i[1][0] > i[1][1]) or (i[2][0] > i[2][1])"
   ]
  },
  {
   "cell_type": "code",
   "execution_count": 20,
   "metadata": {},
   "outputs": [],
   "source": [
    "def intersect(to_split: Interval, interval: Interval) -> List[Interval]:\n",
    "    \"\"\"Splits in 9 parts an interval.\"\"\"\n",
    "    [(x1,x2), (y1, y2), (z1, z2)] = to_split\n",
    "    [(a1,a2), (b1, b2), (c1, c2)] = interval\n",
    "    intervals = []\n",
    "    for X in intersect_tuples(x1, x2, a1, a2):\n",
    "        for Y in intersect_tuples(y1, y2, b1, b2):\n",
    "            for Z in intersect_tuples(z1, z2, c1, c2):\n",
    "                intervals.append([X, Y, Z])\n",
    "    # filter out included and empty\n",
    "    return [i for i in intervals if not is_contained(i, interval) and not is_empty(i)]"
   ]
  },
  {
   "cell_type": "code",
   "execution_count": 21,
   "metadata": {},
   "outputs": [],
   "source": [
    "from copy import deepcopy\n",
    "\n",
    "def intersect_with_all(to_add, intervals) -> List[Interval]:\n",
    "    new_intervals = [i for i in intervals]\n",
    "    all_parts = [to_add]\n",
    "    for interval in intervals:\n",
    "        new_parts = []\n",
    "        for part in all_parts:\n",
    "            if has_intersection(part, interval):\n",
    "                if is_contained(interval, part):\n",
    "                    new_parts.append(part)\n",
    "                    l = len(new_intervals)\n",
    "                    new_intervals.remove(interval)\n",
    "                elif not is_contained(part, interval):\n",
    "                    intersected = intersect(part, interval)\n",
    "                    new_parts += intersect(part, interval)\n",
    "            else:\n",
    "                new_parts.append(part)\n",
    "        all_parts = new_parts\n",
    "    return new_intervals + all_parts\n",
    "            "
   ]
  },
  {
   "cell_type": "code",
   "execution_count": 22,
   "metadata": {},
   "outputs": [],
   "source": [
    "def remove_interval(to_remove:Interval, intervals: List[Interval]) -> List[Interval]:\n",
    "    new_intervals = []\n",
    "    for interval in intervals:\n",
    "        if has_intersection(to_remove, interval):\n",
    "            intersected = intersect(interval, to_remove)\n",
    "            new_intervals += intersected\n",
    "        else:\n",
    "            new_intervals.append(interval)\n",
    "    return new_intervals"
   ]
  },
  {
   "cell_type": "code",
   "execution_count": 23,
   "metadata": {},
   "outputs": [],
   "source": [
    "def tuple_size(t: Tuple[int, int]) -> int:\n",
    "    return t[1] - t[0] + 1\n",
    "\n",
    "def interval_size(i: Interval) -> int:\n",
    "    return tuple_size(i[0]) * tuple_size(i[1]) * tuple_size(i[2])"
   ]
  },
  {
   "cell_type": "code",
   "execution_count": 24,
   "metadata": {},
   "outputs": [],
   "source": [
    "def validate_no_intersection(intervals: List[Interval]):\n",
    "    for i in intervals:\n",
    "        for j in intervals:\n",
    "            if i != j and has_intersection(i, j):\n",
    "                raise Exception(\"Intersection: \" + str(i) + \" and \" +  str(j))"
   ]
  },
  {
   "cell_type": "code",
   "execution_count": 25,
   "metadata": {},
   "outputs": [],
   "source": [
    "def ok_i_ll_be_smart_to_count_on(dataset) -> int:\n",
    "    intervals = []\n",
    "    for row in dataset:\n",
    "        if row[0] == \"on\":\n",
    "            intervals = intersect_with_all(row[1], intervals)\n",
    "        else:\n",
    "            intervals = remove_interval(row[1], intervals)\n",
    "        # validate_no_intersection(intervals)\n",
    "    return sum([ interval_size(i) for i in intervals])"
   ]
  },
  {
   "cell_type": "code",
   "execution_count": 26,
   "metadata": {},
   "outputs": [],
   "source": [
    "assert ok_i_ll_be_smart_to_count_on(demo_dataset) == 39"
   ]
  },
  {
   "cell_type": "code",
   "execution_count": 27,
   "metadata": {},
   "outputs": [
    {
     "name": "stdout",
     "output_type": "stream",
     "text": [
      "CPU times: user 181 ms, sys: 189 µs, total: 181 ms\n",
      "Wall time: 181 ms\n"
     ]
    }
   ],
   "source": [
    "%%time\n",
    "assert ok_i_ll_be_smart_to_count_on(demo3_dataset) == 2758514936282235"
   ]
  },
  {
   "cell_type": "code",
   "execution_count": 28,
   "metadata": {},
   "outputs": [
    {
     "name": "stdout",
     "output_type": "stream",
     "text": [
      "CPU times: user 8.13 s, sys: 550 µs, total: 8.13 s\n",
      "Wall time: 8.13 s\n"
     ]
    },
    {
     "data": {
      "text/plain": [
       "1235164413198198"
      ]
     },
     "execution_count": 28,
     "metadata": {},
     "output_type": "execute_result"
    }
   ],
   "source": [
    "%%time\n",
    "ok_i_ll_be_smart_to_count_on(full_dataset)"
   ]
  }
 ],
 "metadata": {
  "kernelspec": {
   "display_name": "Python 3",
   "language": "python",
   "name": "python3"
  },
  "language_info": {
   "codemirror_mode": {
    "name": "ipython",
    "version": 3
   },
   "file_extension": ".py",
   "mimetype": "text/x-python",
   "name": "python",
   "nbconvert_exporter": "python",
   "pygments_lexer": "ipython3",
   "version": "3.8.5"
  }
 },
 "nbformat": 4,
 "nbformat_minor": 4
}
