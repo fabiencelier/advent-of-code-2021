{
 "cells": [
  {
   "cell_type": "code",
   "execution_count": 1,
   "metadata": {},
   "outputs": [],
   "source": [
    "def read_dataset(path) -> list:\n",
    "    f = open(path,\"r\")\n",
    "    lines = f.readlines()\n",
    "    data = [ (line.split(\" \")[0], int(line.split(\" \")[1])) for line in lines]\n",
    "    return data"
   ]
  },
  {
   "cell_type": "code",
   "execution_count": 2,
   "metadata": {},
   "outputs": [
    {
     "data": {
      "text/plain": [
       "[('forward', 5),\n",
       " ('down', 5),\n",
       " ('forward', 8),\n",
       " ('up', 3),\n",
       " ('down', 8),\n",
       " ('forward', 2)]"
      ]
     },
     "execution_count": 2,
     "metadata": {},
     "output_type": "execute_result"
    }
   ],
   "source": [
    "demo_dataset = read_dataset(\"demo.txt\")\n",
    "full_dataset = read_dataset(\"data.txt\")\n",
    "demo_dataset"
   ]
  },
  {
   "cell_type": "markdown",
   "metadata": {},
   "source": [
    "# Part 1"
   ]
  },
  {
   "cell_type": "code",
   "execution_count": 4,
   "metadata": {},
   "outputs": [],
   "source": [
    "def get_position(dataset):\n",
    "    x = 0\n",
    "    y = 0\n",
    "    for row in dataset:\n",
    "        if row[0] == \"forward\":\n",
    "            x += row[1]\n",
    "        elif row[0] == \"up\":\n",
    "            y -= row[1]\n",
    "        else:\n",
    "            y += row[1]\n",
    "    return x*y"
   ]
  },
  {
   "cell_type": "code",
   "execution_count": 5,
   "metadata": {},
   "outputs": [],
   "source": [
    "assert get_position(demo_dataset) == 150"
   ]
  },
  {
   "cell_type": "code",
   "execution_count": 6,
   "metadata": {},
   "outputs": [
    {
     "data": {
      "text/plain": [
       "1580000"
      ]
     },
     "execution_count": 6,
     "metadata": {},
     "output_type": "execute_result"
    }
   ],
   "source": [
    "get_position(full_dataset)"
   ]
  },
  {
   "cell_type": "markdown",
   "metadata": {},
   "source": [
    "# Part 2"
   ]
  },
  {
   "cell_type": "code",
   "execution_count": 7,
   "metadata": {},
   "outputs": [],
   "source": [
    "def get_position(dataset):\n",
    "    x = 0\n",
    "    y = 0\n",
    "    aim = 0\n",
    "    for row in dataset:\n",
    "        if row[0] == \"forward\":\n",
    "            x += row[1]\n",
    "            y += row[1] * aim\n",
    "        elif row[0] == \"up\":\n",
    "            aim -= row[1]\n",
    "        else:\n",
    "            aim += row[1]\n",
    "    return x*y"
   ]
  },
  {
   "cell_type": "code",
   "execution_count": 8,
   "metadata": {},
   "outputs": [],
   "source": [
    "assert get_position(demo_dataset) == 900"
   ]
  },
  {
   "cell_type": "code",
   "execution_count": 9,
   "metadata": {},
   "outputs": [
    {
     "data": {
      "text/plain": [
       "1251263225"
      ]
     },
     "execution_count": 9,
     "metadata": {},
     "output_type": "execute_result"
    }
   ],
   "source": [
    "get_position(full_dataset)"
   ]
  }
 ],
 "metadata": {
  "kernelspec": {
   "display_name": "Python 3",
   "language": "python",
   "name": "python3"
  },
  "language_info": {
   "codemirror_mode": {
    "name": "ipython",
    "version": 3
   },
   "file_extension": ".py",
   "mimetype": "text/x-python",
   "name": "python",
   "nbconvert_exporter": "python",
   "pygments_lexer": "ipython3",
   "version": "3.8.5"
  }
 },
 "nbformat": 4,
 "nbformat_minor": 4
}
