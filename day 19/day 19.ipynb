{
 "cells": [
  {
   "cell_type": "code",
   "execution_count": 1,
   "metadata": {},
   "outputs": [],
   "source": [
    "from typing import List, Tuple, Optional\n",
    "Scanner = List[List[int]]"
   ]
  },
  {
   "cell_type": "code",
   "execution_count": 2,
   "metadata": {},
   "outputs": [],
   "source": [
    "def read_data(path) -> List[Scanner]:\n",
    "    f = open(path,\"r\")\n",
    "    lines = [line.strip() for line in f.readlines()]\n",
    "    scanners = []\n",
    "    current_scanner = []\n",
    "    for line in lines:\n",
    "        if len(line) == 0:\n",
    "            scanners.append(current_scanner)\n",
    "            current_scanner = []\n",
    "        elif line.startswith(\"---\"):\n",
    "            continue\n",
    "        else:\n",
    "            point = [int(c) for c in line.split(\",\")]\n",
    "            current_scanner.append(point)\n",
    "    if len(current_scanner)>0:\n",
    "        scanners.append(current_scanner)\n",
    "    return scanners"
   ]
  },
  {
   "cell_type": "code",
   "execution_count": 3,
   "metadata": {},
   "outputs": [
    {
     "data": {
      "text/plain": [
       "[[404, -588, -901],\n",
       " [528, -643, 409],\n",
       " [-838, 591, 734],\n",
       " [390, -675, -793],\n",
       " [-537, -823, -458],\n",
       " [-485, -357, 347],\n",
       " [-345, -311, 381],\n",
       " [-661, -816, -575],\n",
       " [-876, 649, 763],\n",
       " [-618, -824, -621],\n",
       " [553, 345, -567],\n",
       " [474, 580, 667],\n",
       " [-447, -329, 318],\n",
       " [-584, 868, -557],\n",
       " [544, -627, -890],\n",
       " [564, 392, -477],\n",
       " [455, 729, 728],\n",
       " [-892, 524, 684],\n",
       " [-689, 845, -530],\n",
       " [423, -701, 434],\n",
       " [7, -33, -71],\n",
       " [630, 319, -379],\n",
       " [443, 580, 662],\n",
       " [-789, 900, -551],\n",
       " [459, -707, 401]]"
      ]
     },
     "execution_count": 3,
     "metadata": {},
     "output_type": "execute_result"
    }
   ],
   "source": [
    "demo_dataset = read_data(\"demo.txt\")\n",
    "full_dataset = read_data(\"data.txt\")\n",
    "assert len(demo_dataset) == 5\n",
    "assert len(full_dataset) == 39\n",
    "demo_dataset[0]"
   ]
  },
  {
   "cell_type": "markdown",
   "metadata": {},
   "source": [
    "# Part 1"
   ]
  },
  {
   "cell_type": "code",
   "execution_count": 4,
   "metadata": {},
   "outputs": [],
   "source": [
    "from itertools import permutations\n",
    "\n",
    "def get_rotated(scanner: Scanner) -> List[Scanner]:\n",
    "    \"\"\"Get the 48 rotations of a scanner. Not sure why it's not 24.\"\"\"\n",
    "    scanners = []\n",
    "    for dx in [-1, 1]:\n",
    "        for dy in [-1, 1]:\n",
    "            for dz in [-1, 1]:\n",
    "                for p in permutations([0, 1, 2]):\n",
    "                    new_scanner = []\n",
    "                    for point in scanner:\n",
    "                        x = dx * point[0]\n",
    "                        y = dy * point[1]\n",
    "                        z = dz * point[2]\n",
    "                        temp = [x,y,z]\n",
    "                        new_point = [temp[p[0]], temp[p[1]], temp[p[2]]]\n",
    "                        new_scanner.append(new_point)\n",
    "                    scanners.append(new_scanner)\n",
    "    scanners.reverse()\n",
    "    return scanners"
   ]
  },
  {
   "cell_type": "code",
   "execution_count": 5,
   "metadata": {},
   "outputs": [],
   "source": [
    "def do_translate(p: List[int], translation: Tuple[int, int, int]) -> List[int]:\n",
    "    return [p[0]+translation[0], p[1] + translation[1], p[2] + translation[2]]"
   ]
  },
  {
   "cell_type": "code",
   "execution_count": 6,
   "metadata": {},
   "outputs": [],
   "source": [
    "def translate(points: Scanner, translation: Tuple[int, int, int]) -> Scanner:\n",
    "    return [ do_translate(p, points) for p in points]"
   ]
  },
  {
   "cell_type": "code",
   "execution_count": 7,
   "metadata": {},
   "outputs": [],
   "source": [
    "def merge(scan1: Scanner, scan2: Scanner, translation: Tuple[int, int, int]) -> Scanner:\n",
    "    \"\"\"Merge 2 scanner together\"\"\"\n",
    "    new_scanner = [ p for p in scan1 ]\n",
    "    for p in [do_translate(p, translation) for p in scan2]:\n",
    "        if not p in new_scanner:\n",
    "            new_scanner.append(p)\n",
    "    return new_scanner"
   ]
  },
  {
   "cell_type": "code",
   "execution_count": 8,
   "metadata": {},
   "outputs": [],
   "source": [
    "assert merge([[100, 100, 100]], [[200, 200, 200], [200, -100, 100]], (-100, 200, 0)) == [[100, 100, 100], [100, 400, 200]]"
   ]
  },
  {
   "cell_type": "code",
   "execution_count": 9,
   "metadata": {},
   "outputs": [],
   "source": [
    "Matrix = List[List[List[int]]]\n",
    "FastMatrix = List[List[int]]"
   ]
  },
  {
   "cell_type": "code",
   "execution_count": 10,
   "metadata": {},
   "outputs": [],
   "source": [
    "def get_matrix(points: Scanner) -> Matrix:\n",
    "    return [\n",
    "        [ \n",
    "            [ p1[0] - p2[0], p1[1] - p2[1], p1[2] - p2[2]] for p2 in points\n",
    "        ] for p1 in points\n",
    "    ]"
   ]
  },
  {
   "cell_type": "code",
   "execution_count": 11,
   "metadata": {},
   "outputs": [
    {
     "data": {
      "text/plain": [
       "[[[0, 0, 0], [-1, -2, -3], [-4, -5, -6]],\n",
       " [[1, 2, 3], [0, 0, 0], [-3, -3, -3]],\n",
       " [[4, 5, 6], [3, 3, 3], [0, 0, 0]]]"
      ]
     },
     "execution_count": 11,
     "metadata": {},
     "output_type": "execute_result"
    }
   ],
   "source": [
    "get_matrix([[0, 0, 0], [1, 2, 3], [4, 5, 6]])"
   ]
  },
  {
   "cell_type": "code",
   "execution_count": 13,
   "metadata": {},
   "outputs": [],
   "source": [
    "def get_fast_matrix(matrix: Matrix) -> FastMatrix:\n",
    "    \"\"\"Fast matrix are faster to check as we need to compare only a int instead of a tuple\"\"\"\n",
    "    return [[sum(p) for p in row ] for row in matrix]"
   ]
  },
  {
   "cell_type": "code",
   "execution_count": 14,
   "metadata": {},
   "outputs": [
    {
     "data": {
      "text/plain": [
       "[[0, -6, -15], [6, 0, -9], [15, 9, 0]]"
      ]
     },
     "execution_count": 14,
     "metadata": {},
     "output_type": "execute_result"
    }
   ],
   "source": [
    "get_fast_matrix(get_matrix([[0, 0, 0], [1, 2, 3], [4, 5, 6]]))"
   ]
  },
  {
   "cell_type": "code",
   "execution_count": 15,
   "metadata": {},
   "outputs": [],
   "source": [
    "def count_intersection(points1, points2) -> int:\n",
    "    return len([p for p in points2 if p in points1])"
   ]
  },
  {
   "cell_type": "code",
   "execution_count": 16,
   "metadata": {},
   "outputs": [],
   "source": [
    "def fast_count_intersection(points1, points2) -> int:\n",
    "    \"\"\"\n",
    "    Computing the number of intersection is very costy.\n",
    "    \n",
    "    Most of the computing time is spend here.\n",
    "    \"\"\"\n",
    "    return len([p for p in points2 if p in points1])"
   ]
  },
  {
   "cell_type": "code",
   "execution_count": 17,
   "metadata": {},
   "outputs": [],
   "source": [
    "def get_translation(matrix1: Matrix, fmatrix1: FastMatrix, scan1: Scanner, matrix2: Matrix, fmatrix2: FastMatrix, scan2: Scanner) -> Tuple[int, int, int]:\n",
    "    \"\"\"Get the translation from the first scanner to the second or None if incompatible\"\"\"\n",
    "    for i1 in range(len(matrix1)):\n",
    "        for i2 in range(len(matrix2)):\n",
    "            fast_count = fast_count_intersection(fmatrix1[i1], fmatrix2[i2])\n",
    "            if fast_count >= 12:\n",
    "                real_count = count_intersection(matrix1[i1], matrix2[i2])\n",
    "                if real_count >= 12:\n",
    "                    p1 = scan1[i1]\n",
    "                    p2 = scan2[i2]\n",
    "                    return (p1[0]-p2[0], p1[1]-p2[1], p1[2]-p2[2])\n",
    "    return None"
   ]
  },
  {
   "cell_type": "code",
   "execution_count": 18,
   "metadata": {},
   "outputs": [],
   "source": [
    "def get_translation_with_rotation(scan1: Scanner, scan2: Scanner, matrix1: Optional[Matrix] = None) -> Tuple[Tuple[int, int, int], Scanner]:\n",
    "    matrix1 = matrix1 if matrix1 is not None else get_matrix(scan1)\n",
    "    fmatrix1 = get_fast_matrix(matrix1)\n",
    "    rotated = get_rotated(scan2)\n",
    "    for rot in rotated:\n",
    "        matrix2 = get_matrix(rot)\n",
    "        fmatrix2 = get_fast_matrix(matrix2)\n",
    "        translation = get_translation(matrix1, fmatrix1, scan1, matrix2, fmatrix2, rot)\n",
    "        if translation is not None:\n",
    "            return (translation, rot)\n",
    "    return (None, None)\n",
    "    "
   ]
  },
  {
   "cell_type": "code",
   "execution_count": 19,
   "metadata": {},
   "outputs": [],
   "source": [
    "assert get_translation_with_rotation(demo_dataset[0], demo_dataset[1])[0] == (68,-1246,-43)"
   ]
  },
  {
   "cell_type": "code",
   "execution_count": 20,
   "metadata": {},
   "outputs": [],
   "source": [
    "LIMIT = 10000\n",
    "\n",
    "def count_beacon(dataset) -> int:\n",
    "    todo = [scanner for scanner in dataset]\n",
    "    current_map = todo.pop(0)\n",
    "    current_matrix = get_matrix(current_map)\n",
    "    count = 0\n",
    "    while (len(todo) > 0) and count < LIMIT:\n",
    "        count += 1\n",
    "        scan = todo.pop(0)\n",
    "        (translation, rot) = get_translation_with_rotation(current_map, scan, matrix1=current_matrix)\n",
    "        if translation is not None:\n",
    "            current_map = merge(current_map, rot, translation)\n",
    "            current_matrix = get_matrix(current_map)\n",
    "        else:\n",
    "            # We might find it later\n",
    "            todo.append(scan)\n",
    "        # print(\"TODO:\", len(todo))\n",
    "    return len(current_map)\n",
    "        "
   ]
  },
  {
   "cell_type": "code",
   "execution_count": 21,
   "metadata": {},
   "outputs": [],
   "source": [
    "assert count_beacon(demo_dataset) == 79"
   ]
  },
  {
   "cell_type": "code",
   "execution_count": 26,
   "metadata": {},
   "outputs": [
    {
     "name": "stdout",
     "output_type": "stream",
     "text": [
      "CPU times: user 21min 24s, sys: 152 ms, total: 21min 24s\n",
      "Wall time: 21min 24s\n"
     ]
    },
    {
     "data": {
      "text/plain": [
       "467"
      ]
     },
     "execution_count": 26,
     "metadata": {},
     "output_type": "execute_result"
    }
   ],
   "source": [
    "%%time\n",
    "count_beacon(full_dataset)"
   ]
  },
  {
   "cell_type": "markdown",
   "metadata": {},
   "source": [
    "# Part 2"
   ]
  },
  {
   "cell_type": "code",
   "execution_count": 22,
   "metadata": {},
   "outputs": [],
   "source": [
    "def get_centres(dataset) -> int:\n",
    "    todo = [scanner for scanner in dataset]\n",
    "    current_map = todo.pop(0)\n",
    "    current_matrix = get_matrix(current_map)\n",
    "    centres = [(0,0,0)]\n",
    "    while (len(todo) > 0):\n",
    "        scan = todo.pop(0)\n",
    "        (translation, rot) = get_translation_with_rotation(current_map, scan, matrix1=current_matrix)\n",
    "        if translation is not None:\n",
    "            current_map = merge(current_map, rot, translation)\n",
    "            current_matrix = get_matrix(current_map)\n",
    "            centres.append(translation)\n",
    "        else:\n",
    "            # We might find it later\n",
    "            todo.append(scan)\n",
    "        # print(\"TODO:\", len(todo))\n",
    "    return centres\n",
    "        "
   ]
  },
  {
   "cell_type": "code",
   "execution_count": 23,
   "metadata": {},
   "outputs": [],
   "source": [
    "def dist(p1, p2) -> int:\n",
    "    return abs(p1[0] - p2[0]) + abs(p1[1] - p2[1]) + abs(p1[2] - p2[2])"
   ]
  },
  {
   "cell_type": "code",
   "execution_count": 24,
   "metadata": {},
   "outputs": [],
   "source": [
    "def largest_manhattan(dataset) -> int:\n",
    "    centres = get_centres(dataset)\n",
    "    distances = [ dist(centres[i], centres[j]) for i in range(len(centres)) for j in range(len(centres)) ]\n",
    "    return max(distances)"
   ]
  },
  {
   "cell_type": "code",
   "execution_count": 25,
   "metadata": {},
   "outputs": [],
   "source": [
    "assert largest_manhattan(demo_dataset) == 3621"
   ]
  },
  {
   "cell_type": "code",
   "execution_count": 27,
   "metadata": {},
   "outputs": [
    {
     "name": "stdout",
     "output_type": "stream",
     "text": [
      "CPU times: user 21min 22s, sys: 520 ms, total: 21min 23s\n",
      "Wall time: 21min 23s\n"
     ]
    },
    {
     "data": {
      "text/plain": [
       "12226"
      ]
     },
     "execution_count": 27,
     "metadata": {},
     "output_type": "execute_result"
    }
   ],
   "source": [
    "%%time\n",
    "largest_manhattan(full_dataset)"
   ]
  },
  {
   "cell_type": "code",
   "execution_count": null,
   "metadata": {},
   "outputs": [],
   "source": []
  }
 ],
 "metadata": {
  "kernelspec": {
   "display_name": "Python 3",
   "language": "python",
   "name": "python3"
  },
  "language_info": {
   "codemirror_mode": {
    "name": "ipython",
    "version": 3
   },
   "file_extension": ".py",
   "mimetype": "text/x-python",
   "name": "python",
   "nbconvert_exporter": "python",
   "pygments_lexer": "ipython3",
   "version": "3.8.5"
  }
 },
 "nbformat": 4,
 "nbformat_minor": 4
}
