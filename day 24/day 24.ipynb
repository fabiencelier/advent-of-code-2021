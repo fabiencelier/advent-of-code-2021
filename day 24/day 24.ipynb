{
 "cells": [
  {
   "cell_type": "code",
   "execution_count": 1,
   "metadata": {},
   "outputs": [],
   "source": [
    "from typing import List, Callable, Tuple"
   ]
  },
  {
   "cell_type": "code",
   "execution_count": 2,
   "metadata": {},
   "outputs": [],
   "source": [
    "def read_data(path):\n",
    "    f = open(path,\"r\")\n",
    "    return [line.strip().split(\" \") for line in f.readlines()]"
   ]
  },
  {
   "cell_type": "code",
   "execution_count": 3,
   "metadata": {},
   "outputs": [
    {
     "data": {
      "text/plain": [
       "[['inp', 'w'],\n",
       " ['mul', 'x', '0'],\n",
       " ['add', 'x', 'z'],\n",
       " ['mod', 'x', '26'],\n",
       " ['div', 'z', '1'],\n",
       " ['add', 'x', '15'],\n",
       " ['eql', 'x', 'w'],\n",
       " ['eql', 'x', '0'],\n",
       " ['mul', 'y', '0'],\n",
       " ['add', 'y', '25'],\n",
       " ['mul', 'y', 'x'],\n",
       " ['add', 'y', '1'],\n",
       " ['mul', 'z', 'y'],\n",
       " ['mul', 'y', '0'],\n",
       " ['add', 'y', 'w'],\n",
       " ['add', 'y', '9'],\n",
       " ['mul', 'y', 'x'],\n",
       " ['add', 'z', 'y'],\n",
       " ['inp', 'w'],\n",
       " ['mul', 'x', '0'],\n",
       " ['add', 'x', 'z'],\n",
       " ['mod', 'x', '26'],\n",
       " ['div', 'z', '1'],\n",
       " ['add', 'x', '11'],\n",
       " ['eql', 'x', 'w'],\n",
       " ['eql', 'x', '0'],\n",
       " ['mul', 'y', '0'],\n",
       " ['add', 'y', '25'],\n",
       " ['mul', 'y', 'x'],\n",
       " ['add', 'y', '1'],\n",
       " ['mul', 'z', 'y'],\n",
       " ['mul', 'y', '0'],\n",
       " ['add', 'y', 'w'],\n",
       " ['add', 'y', '1'],\n",
       " ['mul', 'y', 'x'],\n",
       " ['add', 'z', 'y'],\n",
       " ['inp', 'w'],\n",
       " ['mul', 'x', '0'],\n",
       " ['add', 'x', 'z'],\n",
       " ['mod', 'x', '26'],\n",
       " ['div', 'z', '1'],\n",
       " ['add', 'x', '10'],\n",
       " ['eql', 'x', 'w'],\n",
       " ['eql', 'x', '0'],\n",
       " ['mul', 'y', '0'],\n",
       " ['add', 'y', '25'],\n",
       " ['mul', 'y', 'x'],\n",
       " ['add', 'y', '1'],\n",
       " ['mul', 'z', 'y'],\n",
       " ['mul', 'y', '0'],\n",
       " ['add', 'y', 'w'],\n",
       " ['add', 'y', '11'],\n",
       " ['mul', 'y', 'x'],\n",
       " ['add', 'z', 'y'],\n",
       " ['inp', 'w'],\n",
       " ['mul', 'x', '0'],\n",
       " ['add', 'x', 'z'],\n",
       " ['mod', 'x', '26'],\n",
       " ['div', 'z', '1'],\n",
       " ['add', 'x', '12'],\n",
       " ['eql', 'x', 'w'],\n",
       " ['eql', 'x', '0'],\n",
       " ['mul', 'y', '0'],\n",
       " ['add', 'y', '25'],\n",
       " ['mul', 'y', 'x'],\n",
       " ['add', 'y', '1'],\n",
       " ['mul', 'z', 'y'],\n",
       " ['mul', 'y', '0'],\n",
       " ['add', 'y', 'w'],\n",
       " ['add', 'y', '3'],\n",
       " ['mul', 'y', 'x'],\n",
       " ['add', 'z', 'y'],\n",
       " ['inp', 'w'],\n",
       " ['mul', 'x', '0'],\n",
       " ['add', 'x', 'z'],\n",
       " ['mod', 'x', '26'],\n",
       " ['div', 'z', '26'],\n",
       " ['add', 'x', '-11'],\n",
       " ['eql', 'x', 'w'],\n",
       " ['eql', 'x', '0'],\n",
       " ['mul', 'y', '0'],\n",
       " ['add', 'y', '25'],\n",
       " ['mul', 'y', 'x'],\n",
       " ['add', 'y', '1'],\n",
       " ['mul', 'z', 'y'],\n",
       " ['mul', 'y', '0'],\n",
       " ['add', 'y', 'w'],\n",
       " ['add', 'y', '10'],\n",
       " ['mul', 'y', 'x'],\n",
       " ['add', 'z', 'y'],\n",
       " ['inp', 'w'],\n",
       " ['mul', 'x', '0'],\n",
       " ['add', 'x', 'z'],\n",
       " ['mod', 'x', '26'],\n",
       " ['div', 'z', '1'],\n",
       " ['add', 'x', '11'],\n",
       " ['eql', 'x', 'w'],\n",
       " ['eql', 'x', '0'],\n",
       " ['mul', 'y', '0'],\n",
       " ['add', 'y', '25'],\n",
       " ['mul', 'y', 'x'],\n",
       " ['add', 'y', '1'],\n",
       " ['mul', 'z', 'y'],\n",
       " ['mul', 'y', '0'],\n",
       " ['add', 'y', 'w'],\n",
       " ['add', 'y', '5'],\n",
       " ['mul', 'y', 'x'],\n",
       " ['add', 'z', 'y'],\n",
       " ['inp', 'w'],\n",
       " ['mul', 'x', '0'],\n",
       " ['add', 'x', 'z'],\n",
       " ['mod', 'x', '26'],\n",
       " ['div', 'z', '1'],\n",
       " ['add', 'x', '14'],\n",
       " ['eql', 'x', 'w'],\n",
       " ['eql', 'x', '0'],\n",
       " ['mul', 'y', '0'],\n",
       " ['add', 'y', '25'],\n",
       " ['mul', 'y', 'x'],\n",
       " ['add', 'y', '1'],\n",
       " ['mul', 'z', 'y'],\n",
       " ['mul', 'y', '0'],\n",
       " ['add', 'y', 'w'],\n",
       " ['add', 'y', '0'],\n",
       " ['mul', 'y', 'x'],\n",
       " ['add', 'z', 'y'],\n",
       " ['inp', 'w'],\n",
       " ['mul', 'x', '0'],\n",
       " ['add', 'x', 'z'],\n",
       " ['mod', 'x', '26'],\n",
       " ['div', 'z', '26'],\n",
       " ['add', 'x', '-6'],\n",
       " ['eql', 'x', 'w'],\n",
       " ['eql', 'x', '0'],\n",
       " ['mul', 'y', '0'],\n",
       " ['add', 'y', '25'],\n",
       " ['mul', 'y', 'x'],\n",
       " ['add', 'y', '1'],\n",
       " ['mul', 'z', 'y'],\n",
       " ['mul', 'y', '0'],\n",
       " ['add', 'y', 'w'],\n",
       " ['add', 'y', '7'],\n",
       " ['mul', 'y', 'x'],\n",
       " ['add', 'z', 'y'],\n",
       " ['inp', 'w'],\n",
       " ['mul', 'x', '0'],\n",
       " ['add', 'x', 'z'],\n",
       " ['mod', 'x', '26'],\n",
       " ['div', 'z', '1'],\n",
       " ['add', 'x', '10'],\n",
       " ['eql', 'x', 'w'],\n",
       " ['eql', 'x', '0'],\n",
       " ['mul', 'y', '0'],\n",
       " ['add', 'y', '25'],\n",
       " ['mul', 'y', 'x'],\n",
       " ['add', 'y', '1'],\n",
       " ['mul', 'z', 'y'],\n",
       " ['mul', 'y', '0'],\n",
       " ['add', 'y', 'w'],\n",
       " ['add', 'y', '9'],\n",
       " ['mul', 'y', 'x'],\n",
       " ['add', 'z', 'y'],\n",
       " ['inp', 'w'],\n",
       " ['mul', 'x', '0'],\n",
       " ['add', 'x', 'z'],\n",
       " ['mod', 'x', '26'],\n",
       " ['div', 'z', '26'],\n",
       " ['add', 'x', '-6'],\n",
       " ['eql', 'x', 'w'],\n",
       " ['eql', 'x', '0'],\n",
       " ['mul', 'y', '0'],\n",
       " ['add', 'y', '25'],\n",
       " ['mul', 'y', 'x'],\n",
       " ['add', 'y', '1'],\n",
       " ['mul', 'z', 'y'],\n",
       " ['mul', 'y', '0'],\n",
       " ['add', 'y', 'w'],\n",
       " ['add', 'y', '15'],\n",
       " ['mul', 'y', 'x'],\n",
       " ['add', 'z', 'y'],\n",
       " ['inp', 'w'],\n",
       " ['mul', 'x', '0'],\n",
       " ['add', 'x', 'z'],\n",
       " ['mod', 'x', '26'],\n",
       " ['div', 'z', '26'],\n",
       " ['add', 'x', '-6'],\n",
       " ['eql', 'x', 'w'],\n",
       " ['eql', 'x', '0'],\n",
       " ['mul', 'y', '0'],\n",
       " ['add', 'y', '25'],\n",
       " ['mul', 'y', 'x'],\n",
       " ['add', 'y', '1'],\n",
       " ['mul', 'z', 'y'],\n",
       " ['mul', 'y', '0'],\n",
       " ['add', 'y', 'w'],\n",
       " ['add', 'y', '4'],\n",
       " ['mul', 'y', 'x'],\n",
       " ['add', 'z', 'y'],\n",
       " ['inp', 'w'],\n",
       " ['mul', 'x', '0'],\n",
       " ['add', 'x', 'z'],\n",
       " ['mod', 'x', '26'],\n",
       " ['div', 'z', '26'],\n",
       " ['add', 'x', '-16'],\n",
       " ['eql', 'x', 'w'],\n",
       " ['eql', 'x', '0'],\n",
       " ['mul', 'y', '0'],\n",
       " ['add', 'y', '25'],\n",
       " ['mul', 'y', 'x'],\n",
       " ['add', 'y', '1'],\n",
       " ['mul', 'z', 'y'],\n",
       " ['mul', 'y', '0'],\n",
       " ['add', 'y', 'w'],\n",
       " ['add', 'y', '10'],\n",
       " ['mul', 'y', 'x'],\n",
       " ['add', 'z', 'y'],\n",
       " ['inp', 'w'],\n",
       " ['mul', 'x', '0'],\n",
       " ['add', 'x', 'z'],\n",
       " ['mod', 'x', '26'],\n",
       " ['div', 'z', '26'],\n",
       " ['add', 'x', '-4'],\n",
       " ['eql', 'x', 'w'],\n",
       " ['eql', 'x', '0'],\n",
       " ['mul', 'y', '0'],\n",
       " ['add', 'y', '25'],\n",
       " ['mul', 'y', 'x'],\n",
       " ['add', 'y', '1'],\n",
       " ['mul', 'z', 'y'],\n",
       " ['mul', 'y', '0'],\n",
       " ['add', 'y', 'w'],\n",
       " ['add', 'y', '4'],\n",
       " ['mul', 'y', 'x'],\n",
       " ['add', 'z', 'y'],\n",
       " ['inp', 'w'],\n",
       " ['mul', 'x', '0'],\n",
       " ['add', 'x', 'z'],\n",
       " ['mod', 'x', '26'],\n",
       " ['div', 'z', '26'],\n",
       " ['add', 'x', '-2'],\n",
       " ['eql', 'x', 'w'],\n",
       " ['eql', 'x', '0'],\n",
       " ['mul', 'y', '0'],\n",
       " ['add', 'y', '25'],\n",
       " ['mul', 'y', 'x'],\n",
       " ['add', 'y', '1'],\n",
       " ['mul', 'z', 'y'],\n",
       " ['mul', 'y', '0'],\n",
       " ['add', 'y', 'w'],\n",
       " ['add', 'y', '9'],\n",
       " ['mul', 'y', 'x'],\n",
       " ['add', 'z', 'y']]"
      ]
     },
     "execution_count": 3,
     "metadata": {},
     "output_type": "execute_result"
    }
   ],
   "source": [
    "full_dataset = read_data(\"data.txt\")\n",
    "full_dataset"
   ]
  },
  {
   "cell_type": "markdown",
   "metadata": {},
   "source": [
    "# Part 1"
   ]
  },
  {
   "cell_type": "code",
   "execution_count": 4,
   "metadata": {},
   "outputs": [],
   "source": [
    "def get_var_index(var: str) -> int:\n",
    "    if var == \"w\":\n",
    "        return 0\n",
    "    elif var == \"x\":\n",
    "        return 1\n",
    "    elif var == \"y\":\n",
    "        return 2\n",
    "    elif var == \"z\":\n",
    "        return 3\n",
    "    else:\n",
    "        raise Exception(\"Unknown var \" + str(var))"
   ]
  },
  {
   "cell_type": "code",
   "execution_count": 5,
   "metadata": {},
   "outputs": [],
   "source": [
    "Action = Callable[[List[int], List[int]], List[int]]"
   ]
  },
  {
   "cell_type": "code",
   "execution_count": 6,
   "metadata": {},
   "outputs": [],
   "source": [
    "def get_inp(index: int) -> Action:\n",
    "    def inp(number: List[int], values: List[int], current: int):\n",
    "        values[index] = number[current]\n",
    "    return inp"
   ]
  },
  {
   "cell_type": "code",
   "execution_count": 7,
   "metadata": {},
   "outputs": [],
   "source": [
    "def get_sum(i1: int, i2: int) -> Action:\n",
    "    def add(number: List[int], values: List[int]):\n",
    "        values[i1] += values[i2]\n",
    "    return add"
   ]
  },
  {
   "cell_type": "code",
   "execution_count": 8,
   "metadata": {},
   "outputs": [],
   "source": [
    "def get_sum_const(i1: int, val: int) -> Action:\n",
    "    def add_const(number: List[int], values: List[int]):\n",
    "        values[i1] += val\n",
    "    return add_const"
   ]
  },
  {
   "cell_type": "code",
   "execution_count": 9,
   "metadata": {},
   "outputs": [],
   "source": [
    "add1 = get_sum_const(0, 12)\n",
    "add2 = get_sum_const(1, 25)\n",
    "arr = [0, 0, 0 ,0]\n",
    "add1([], arr)\n",
    "add2([], arr)\n",
    "assert arr == [12, 25, 0, 0]"
   ]
  },
  {
   "cell_type": "code",
   "execution_count": 10,
   "metadata": {},
   "outputs": [
    {
     "data": {
      "text/plain": [
       "'add_const'"
      ]
     },
     "execution_count": 10,
     "metadata": {},
     "output_type": "execute_result"
    }
   ],
   "source": [
    "add1.__name__"
   ]
  },
  {
   "cell_type": "code",
   "execution_count": 11,
   "metadata": {},
   "outputs": [],
   "source": [
    "def get_mul(i1: int, i2: int) -> Action:\n",
    "    def mul(number: List[int], values: List[int]):\n",
    "        values[i1] *= values[i2]\n",
    "    return mul"
   ]
  },
  {
   "cell_type": "code",
   "execution_count": 12,
   "metadata": {},
   "outputs": [],
   "source": [
    "def get_mul_const(i1: int, val: int) -> Action:\n",
    "    def mul_const(number: List[int], values: List[int]):\n",
    "        values[i1] *= val\n",
    "    return mul_const"
   ]
  },
  {
   "cell_type": "code",
   "execution_count": 13,
   "metadata": {},
   "outputs": [],
   "source": [
    "def get_div(i1: int, i2: int) -> Action:\n",
    "    def div(number: List[int], values: List[int]):\n",
    "        values[i1] = values[i1] // values[i2]\n",
    "    return div"
   ]
  },
  {
   "cell_type": "code",
   "execution_count": 14,
   "metadata": {},
   "outputs": [],
   "source": [
    "def get_div_const(i1: int, val: int) -> Action:\n",
    "    def div_const(number: List[int], values: List[int]):\n",
    "        values[i1] = values[i1] // val\n",
    "    return div_const"
   ]
  },
  {
   "cell_type": "code",
   "execution_count": 15,
   "metadata": {},
   "outputs": [],
   "source": [
    "def get_mod(i1: int, i2: int) -> Action:\n",
    "    def mod(number: List[int], values: List[int]):\n",
    "        values[i1] = values[i1] % values[i2]\n",
    "    return div"
   ]
  },
  {
   "cell_type": "code",
   "execution_count": 16,
   "metadata": {},
   "outputs": [],
   "source": [
    "def get_mod_const(i1: int, val: int) -> Action:\n",
    "    def mod_const(number: List[int], values: List[int]):\n",
    "        values[i1] = values[i1] % val\n",
    "    return mod_const"
   ]
  },
  {
   "cell_type": "code",
   "execution_count": 17,
   "metadata": {},
   "outputs": [],
   "source": [
    "def get_eql(i1: int, i2: int) -> Action:\n",
    "    def eql(number: List[int], values: List[int]):\n",
    "        values[i1] = 0 if (values[i1] == values[i2]) else 1\n",
    "    return eql"
   ]
  },
  {
   "cell_type": "code",
   "execution_count": 18,
   "metadata": {},
   "outputs": [],
   "source": [
    "def get_eql_const(i1: int, val: int) -> Action:\n",
    "    def eql_const(number: List[int], values: List[int]):\n",
    "        values[i1] = 0 if (values[i1] == val) else 1\n",
    "    return eql_const"
   ]
  },
  {
   "cell_type": "code",
   "execution_count": 19,
   "metadata": {},
   "outputs": [],
   "source": [
    "def is_var(string: str) -> bool:\n",
    "    return string in [\"w\", \"x\", \"y\", \"z\"]"
   ]
  },
  {
   "cell_type": "code",
   "execution_count": 20,
   "metadata": {},
   "outputs": [],
   "source": [
    "def compile_action(row: List[str]) -> Action:\n",
    "    name = row[0]\n",
    "    i1 = get_var_index(row[1])\n",
    "    if name == \"inp\":\n",
    "        return get_inp(i1)\n",
    "    elif name == \"add\":\n",
    "        return get_sum(i1, get_var_index(row[2])) if is_var(row[2]) else get_sum_const(i1, int(row[2]))\n",
    "    elif name == \"mul\":\n",
    "        return get_mul(i1, get_var_index(row[2])) if is_var(row[2]) else get_mul_const(i1, int(row[2]))\n",
    "    elif name == \"div\":\n",
    "        return get_div(i1, get_var_index(row[2])) if is_var(row[2]) else get_div_const(i1, int(row[2]))\n",
    "    elif name == \"mod\":\n",
    "        return get_mod(i1, get_var_index(row[2])) if is_var(row[2]) else get_mod_const(i1, int(row[2]))\n",
    "    elif name == \"eql\":\n",
    "        return get_eql(i1, get_var_index(row[2])) if is_var(row[2]) else get_eql_const(i1, int(row[2]))"
   ]
  },
  {
   "cell_type": "code",
   "execution_count": 24,
   "metadata": {},
   "outputs": [],
   "source": [
    "def regroup_actions(actions) -> List[List[Action]]:\n",
    "    groups = []\n",
    "    current_group = []\n",
    "    for action in actions:\n",
    "        if action.__name__ == \"inp\" and len(current_group) > 0:\n",
    "            groups.append(current_group)\n",
    "            current_group = []\n",
    "        current_group.append(action)\n",
    "    if len(current_group) > 0:\n",
    "        groups.append(current_group)\n",
    "    return groups"
   ]
  },
  {
   "cell_type": "code",
   "execution_count": 25,
   "metadata": {},
   "outputs": [],
   "source": [
    "assert len(regroup_actions([compile_action(a) for a in full_dataset])) == 14"
   ]
  },
  {
   "cell_type": "code",
   "execution_count": 26,
   "metadata": {},
   "outputs": [],
   "source": [
    "def serialize(index, groups, number, values):\n",
    "    return (i, *values)"
   ]
  },
  {
   "cell_type": "code",
   "execution_count": 27,
   "metadata": {},
   "outputs": [],
   "source": [
    "def solve_for_group(index, groups, number, values, cache, reverse = True):\n",
    "    ser = (index, *values)\n",
    "    if ser in cache:\n",
    "        return cache[ser]\n",
    "    if index == 14:\n",
    "        res = [x for x in number] if  values[3] == 0 else None\n",
    "        cache[ser] = res\n",
    "        return res\n",
    "\n",
    "    # Logs the current work\n",
    "    if (index == 2):\n",
    "        print(number)\n",
    "    \n",
    "    for k in (range(9, 0, -1) if reverse else range(1, 10)):\n",
    "        current_values = [v for v in values]\n",
    "        number[index] = k\n",
    "        actions = groups[index]\n",
    "        # Apply the input action first\n",
    "        actions[0](number, current_values, index)\n",
    "        # Apply other actions\n",
    "        apply_actions(number, current_values, actions[1:])\n",
    "        result = solve_for_group(index + 1, groups, number, current_values, cache, reverse)\n",
    "        if result is not None:\n",
    "            cache[ser] = result\n",
    "            return result\n",
    "    cache[ser] = None\n",
    "        "
   ]
  },
  {
   "cell_type": "code",
   "execution_count": 28,
   "metadata": {},
   "outputs": [],
   "source": [
    "def find_biggest_value(dataset):\n",
    "    action_groups = regroup_actions([compile_action(a) for a in dataset])\n",
    "    number = [9] * 14\n",
    "    solution = solve_for_group(0, action_groups, number, [0, 0, 0, 0], {})\n",
    "    return \"\".join([str(x) for x in solution])"
   ]
  },
  {
   "cell_type": "code",
   "execution_count": 29,
   "metadata": {},
   "outputs": [
    {
     "name": "stdout",
     "output_type": "stream",
     "text": [
      "[9, 9, 9, 9, 9, 9, 9, 9, 9, 9, 9, 9, 9, 9]\n",
      "[9, 8, 1, 1, 1, 1, 1, 1, 1, 1, 1, 1, 1, 1]\n",
      "[9, 7, 1, 1, 1, 1, 1, 1, 1, 1, 1, 1, 1, 1]\n",
      "[9, 6, 1, 1, 1, 1, 1, 1, 1, 1, 1, 1, 1, 1]\n",
      "[9, 5, 1, 1, 1, 1, 1, 1, 1, 1, 1, 1, 1, 1]\n",
      "[9, 4, 1, 1, 1, 1, 1, 1, 1, 1, 1, 1, 1, 1]\n",
      "[9, 3, 1, 1, 1, 1, 1, 1, 1, 1, 1, 1, 1, 1]\n",
      "[9, 2, 1, 1, 1, 1, 1, 1, 1, 1, 1, 1, 1, 1]\n",
      "[9, 1, 1, 1, 1, 1, 1, 1, 1, 1, 1, 1, 1, 1]\n",
      "[8, 9, 1, 1, 1, 1, 1, 1, 1, 1, 1, 1, 1, 1]\n",
      "[8, 8, 1, 1, 1, 1, 1, 1, 1, 1, 1, 1, 1, 1]\n",
      "[8, 7, 1, 1, 1, 1, 1, 1, 1, 1, 1, 1, 1, 1]\n",
      "[8, 6, 1, 1, 1, 1, 1, 1, 1, 1, 1, 1, 1, 1]\n",
      "[8, 5, 1, 1, 1, 1, 1, 1, 1, 1, 1, 1, 1, 1]\n",
      "[8, 4, 1, 1, 1, 1, 1, 1, 1, 1, 1, 1, 1, 1]\n",
      "[8, 3, 1, 1, 1, 1, 1, 1, 1, 1, 1, 1, 1, 1]\n",
      "[8, 2, 1, 1, 1, 1, 1, 1, 1, 1, 1, 1, 1, 1]\n",
      "[8, 1, 1, 1, 1, 1, 1, 1, 1, 1, 1, 1, 1, 1]\n",
      "[7, 9, 1, 1, 1, 1, 1, 1, 1, 1, 1, 1, 1, 1]\n",
      "[7, 8, 1, 1, 1, 1, 1, 1, 1, 1, 1, 1, 1, 1]\n",
      "[7, 7, 1, 1, 1, 1, 1, 1, 1, 1, 1, 1, 1, 1]\n",
      "[7, 6, 1, 1, 1, 1, 1, 1, 1, 1, 1, 1, 1, 1]\n",
      "[7, 5, 1, 1, 1, 1, 1, 1, 1, 1, 1, 1, 1, 1]\n",
      "[7, 4, 1, 1, 1, 1, 1, 1, 1, 1, 1, 1, 1, 1]\n",
      "[7, 3, 1, 1, 1, 1, 1, 1, 1, 1, 1, 1, 1, 1]\n",
      "[7, 2, 1, 1, 1, 1, 1, 1, 1, 1, 1, 1, 1, 1]\n",
      "[7, 1, 1, 1, 1, 1, 1, 1, 1, 1, 1, 1, 1, 1]\n",
      "[6, 9, 1, 1, 1, 1, 1, 1, 1, 1, 1, 1, 1, 1]\n",
      "[6, 8, 1, 1, 1, 1, 1, 1, 1, 1, 1, 1, 1, 1]\n",
      "[6, 7, 1, 1, 1, 1, 1, 1, 1, 1, 1, 1, 1, 1]\n",
      "[6, 6, 1, 1, 1, 1, 1, 1, 1, 1, 1, 1, 1, 1]\n",
      "[6, 5, 1, 1, 1, 1, 1, 1, 1, 1, 1, 1, 1, 1]\n",
      "[6, 4, 1, 1, 1, 1, 1, 1, 1, 1, 1, 1, 1, 1]\n",
      "[6, 3, 1, 1, 1, 1, 1, 1, 1, 1, 1, 1, 1, 1]\n",
      "[6, 2, 1, 1, 1, 1, 1, 1, 1, 1, 1, 1, 1, 1]\n",
      "[6, 1, 1, 1, 1, 1, 1, 1, 1, 1, 1, 1, 1, 1]\n",
      "[5, 9, 1, 1, 1, 1, 1, 1, 1, 1, 1, 1, 1, 1]\n",
      "[5, 8, 1, 1, 1, 1, 1, 1, 1, 1, 1, 1, 1, 1]\n",
      "[5, 7, 1, 1, 1, 1, 1, 1, 1, 1, 1, 1, 1, 1]\n",
      "[5, 6, 1, 1, 1, 1, 1, 1, 1, 1, 1, 1, 1, 1]\n",
      "[5, 5, 1, 1, 1, 1, 1, 1, 1, 1, 1, 1, 1, 1]\n",
      "[5, 4, 1, 1, 1, 1, 1, 1, 1, 1, 1, 1, 1, 1]\n",
      "[5, 3, 1, 1, 1, 1, 1, 1, 1, 1, 1, 1, 1, 1]\n",
      "[5, 2, 1, 1, 1, 1, 1, 1, 1, 1, 1, 1, 1, 1]\n",
      "[5, 1, 1, 1, 1, 1, 1, 1, 1, 1, 1, 1, 1, 1]\n",
      "[4, 9, 1, 1, 1, 1, 1, 1, 1, 1, 1, 1, 1, 1]\n",
      "[4, 8, 1, 1, 1, 1, 1, 1, 1, 1, 1, 1, 1, 1]\n",
      "[4, 7, 1, 1, 1, 1, 1, 1, 1, 1, 1, 1, 1, 1]\n",
      "[4, 6, 1, 1, 1, 1, 1, 1, 1, 1, 1, 1, 1, 1]\n",
      "[4, 5, 1, 1, 1, 1, 1, 1, 1, 1, 1, 1, 1, 1]\n",
      "[4, 4, 1, 1, 1, 1, 1, 1, 1, 1, 1, 1, 1, 1]\n",
      "[4, 3, 1, 1, 1, 1, 1, 1, 1, 1, 1, 1, 1, 1]\n",
      "[4, 2, 1, 1, 1, 1, 1, 1, 1, 1, 1, 1, 1, 1]\n",
      "[4, 1, 1, 1, 1, 1, 1, 1, 1, 1, 1, 1, 1, 1]\n",
      "[3, 9, 1, 1, 1, 1, 1, 1, 1, 1, 1, 1, 1, 1]\n",
      "[3, 8, 1, 1, 1, 1, 1, 1, 1, 1, 1, 1, 1, 1]\n",
      "[3, 7, 1, 1, 1, 1, 1, 1, 1, 1, 1, 1, 1, 1]\n",
      "[3, 6, 1, 1, 1, 1, 1, 1, 1, 1, 1, 1, 1, 1]\n",
      "[3, 5, 1, 1, 1, 1, 1, 1, 1, 1, 1, 1, 1, 1]\n",
      "[3, 4, 1, 1, 1, 1, 1, 1, 1, 1, 1, 1, 1, 1]\n",
      "[3, 3, 1, 1, 1, 1, 1, 1, 1, 1, 1, 1, 1, 1]\n",
      "[3, 2, 1, 1, 1, 1, 1, 1, 1, 1, 1, 1, 1, 1]\n",
      "[3, 1, 1, 1, 1, 1, 1, 1, 1, 1, 1, 1, 1, 1]\n",
      "[2, 9, 1, 1, 1, 1, 1, 1, 1, 1, 1, 1, 1, 1]\n"
     ]
    },
    {
     "data": {
      "text/plain": [
       "'29991993698469'"
      ]
     },
     "execution_count": 29,
     "metadata": {},
     "output_type": "execute_result"
    }
   ],
   "source": [
    "find_biggest_value(full_dataset)"
   ]
  },
  {
   "cell_type": "markdown",
   "metadata": {},
   "source": [
    "# Part 2"
   ]
  },
  {
   "cell_type": "code",
   "execution_count": 31,
   "metadata": {},
   "outputs": [],
   "source": [
    "def find_smallest_value(dataset):\n",
    "    action_groups = regroup_actions([compile_action(a) for a in dataset])\n",
    "    number = [1] * 14\n",
    "    solution = solve_for_group(0, action_groups, number, [0, 0, 0, 0], {}, reverse=False)\n",
    "    return \"\".join([str(x) for x in solution])"
   ]
  },
  {
   "cell_type": "code",
   "execution_count": 32,
   "metadata": {},
   "outputs": [
    {
     "name": "stdout",
     "output_type": "stream",
     "text": [
      "[1, 1, 1, 1, 1, 1, 1, 1, 1, 1, 1, 1, 1, 1]\n",
      "[1, 2, 9, 9, 9, 9, 9, 9, 9, 9, 9, 9, 9, 9]\n",
      "[1, 3, 9, 9, 9, 9, 9, 9, 9, 9, 9, 9, 9, 9]\n",
      "[1, 4, 9, 9, 9, 9, 9, 9, 9, 9, 9, 9, 9, 9]\n"
     ]
    },
    {
     "data": {
      "text/plain": [
       "'14691271141118'"
      ]
     },
     "execution_count": 32,
     "metadata": {},
     "output_type": "execute_result"
    }
   ],
   "source": [
    "find_smallest_value(full_dataset)"
   ]
  }
 ],
 "metadata": {
  "kernelspec": {
   "display_name": "Python 3",
   "language": "python",
   "name": "python3"
  },
  "language_info": {
   "codemirror_mode": {
    "name": "ipython",
    "version": 3
   },
   "file_extension": ".py",
   "mimetype": "text/x-python",
   "name": "python",
   "nbconvert_exporter": "python",
   "pygments_lexer": "ipython3",
   "version": "3.8.5"
  }
 },
 "nbformat": 4,
 "nbformat_minor": 4
}
