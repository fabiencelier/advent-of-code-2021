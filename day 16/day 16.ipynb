{
 "cells": [
  {
   "cell_type": "code",
   "execution_count": 1,
   "metadata": {},
   "outputs": [],
   "source": [
    "def read_data(path):\n",
    "    f = open(path,\"r\")\n",
    "    return f.readlines()[0].strip()"
   ]
  },
  {
   "cell_type": "code",
   "execution_count": 2,
   "metadata": {},
   "outputs": [
    {
     "data": {
      "text/plain": [
       "'420D5A802122FD25C8CD7CC010B00564D0E4B76C7D5A59C8C014E007325F116C958F2C7D31EB4EDF90A9803B2EB5340924CA002761803317E2B4793006E28C2286440087C5682312D0024B9EF464DF37EFA0CD031802FA00B4B7ED2D6BD2109485E3F3791FDEB3AF0D8802A899E49370012A926A9F8193801531C84F5F573004F803571006A2C46B8280008645C8B91924AD3753002E512400CC170038400A002BCD80A445002440082021DD807C0201C510066670035C00940125D803E170030400B7003C0018660034E6F1801201042575880A5004D9372A520E735C876FD2C3008274D24CDE614A68626D94804D4929693F003531006A1A47C85000084C4586B10D802F5977E88D2DD2898D6F17A614CC0109E9CE97D02D006EC00086C648591740010C8AF14E0E180253673400AA48D15E468A2000ADCCED1A174218D6C017DCFAA4EB2C8C5FA7F21D3F9152012F6C01797FF3B4AE38C32FFE7695C719A6AB5E25080250EE7BB7FEF72E13980553CE932EB26C72A2D26372D69759CC014F005E7E9F4E9FA7D3653FCC879803E200CC678470EC0010E82B11E34080330D211C663004F00101911791179296E7F869F9C017998EF11A1BCA52989F5EA778866008D8023255DFBB7BD2A552B65A98ECFEC51D540209DFF2FF2B9C1B9FE5D6A469F81590079160094CD73D85FD2699C5C9DCF21F0700094A1AC9EDA64AE3D37D34200B7B401596D678A73AFB2D0B1B88057230A42B2BD88E7F9F0C94F1ECB7B0DD393489182F9802D3F875C00DC40010F8911C61F8002111BA1FC2E400BEA5AA0334F9359EA741892D81100B83337BD2DDB4E43B401A800021F19A09C1F1006229C3F8726009E002A12D71B96B8E49BB180273AA722468002CC7B818C01B04F77B39EFDF53973D95ADB5CD921802980199CF4ADAA7B67B3D9ACFBEC4F82D19A4F75DE78002007CD6D1A24455200A0E5C47801559BF58665D80'"
      ]
     },
     "execution_count": 2,
     "metadata": {},
     "output_type": "execute_result"
    }
   ],
   "source": [
    "full_dataset = read_data(\"data.txt\")\n",
    "full_dataset"
   ]
  },
  {
   "cell_type": "code",
   "execution_count": 3,
   "metadata": {},
   "outputs": [],
   "source": [
    "hexa_mapping = {\n",
    "    \"0\": \"0000\",\n",
    "    \"1\": \"0001\",\n",
    "    \"2\": \"0010\",\n",
    "    \"3\": \"0011\",\n",
    "    \"4\": \"0100\",\n",
    "    \"5\": \"0101\",\n",
    "    \"6\": \"0110\",\n",
    "    \"7\": \"0111\",\n",
    "    \"8\": \"1000\",\n",
    "    \"9\": \"1001\",\n",
    "    \"A\": \"1010\",\n",
    "    \"B\": \"1011\",\n",
    "    \"C\": \"1100\",\n",
    "    \"D\": \"1101\",\n",
    "    \"E\": \"1110\",\n",
    "    \"F\": \"1111\",\n",
    "}"
   ]
  },
  {
   "cell_type": "markdown",
   "metadata": {},
   "source": [
    "# Part 1"
   ]
  },
  {
   "cell_type": "code",
   "execution_count": 4,
   "metadata": {},
   "outputs": [],
   "source": [
    "def hexa_to_bits(hexa: str) -> str:\n",
    "    return \"\".join([hexa_mapping[i] for i in hexa])"
   ]
  },
  {
   "cell_type": "code",
   "execution_count": 5,
   "metadata": {},
   "outputs": [],
   "source": [
    "assert hexa_to_bits(\"D2FE28\") == '110100101111111000101000'"
   ]
  },
  {
   "cell_type": "code",
   "execution_count": 6,
   "metadata": {},
   "outputs": [],
   "source": [
    "def convert_binary(string: str):\n",
    "    exp = len(string) - 1\n",
    "    value = 0\n",
    "    for i in string:\n",
    "        value += int(i) * 2**exp\n",
    "        exp -= 1\n",
    "    return value"
   ]
  },
  {
   "cell_type": "code",
   "execution_count": 7,
   "metadata": {},
   "outputs": [],
   "source": [
    "def get_single_version(binary: str) -> int:\n",
    "    return convert_binary(binary[0:3])"
   ]
  },
  {
   "cell_type": "code",
   "execution_count": 8,
   "metadata": {},
   "outputs": [],
   "source": [
    "assert get_single_version(\"110100101111111000101000\") == 6"
   ]
  },
  {
   "cell_type": "code",
   "execution_count": 9,
   "metadata": {},
   "outputs": [],
   "source": [
    "def get_type(binary: str) -> int:\n",
    "    return convert_binary(binary[3:6])"
   ]
  },
  {
   "cell_type": "code",
   "execution_count": 10,
   "metadata": {},
   "outputs": [],
   "source": [
    "assert get_type(\"110100101111111000101000\") == 4"
   ]
  },
  {
   "cell_type": "code",
   "execution_count": 11,
   "metadata": {},
   "outputs": [],
   "source": [
    "def get_length_type(binary: str) -> int:\n",
    "    return binary[6]"
   ]
  },
  {
   "cell_type": "code",
   "execution_count": 12,
   "metadata": {},
   "outputs": [],
   "source": [
    "def get_literal_end(binary: str) -> int:\n",
    "    index = 6\n",
    "    while binary[index] == \"1\":\n",
    "        index += 5\n",
    "    return index + 4"
   ]
  },
  {
   "cell_type": "code",
   "execution_count": null,
   "metadata": {},
   "outputs": [],
   "source": [
    "# TODO: Introduce a node class to better handle this"
   ]
  },
  {
   "cell_type": "code",
   "execution_count": 13,
   "metadata": {},
   "outputs": [],
   "source": [
    "def get_size(value):\n",
    "    if isinstance(value, str):\n",
    "        return len(value)\n",
    "    else:\n",
    "        return len(list(value.keys())[0])"
   ]
  },
  {
   "cell_type": "code",
   "execution_count": 14,
   "metadata": {},
   "outputs": [],
   "source": [
    "def parse_one(binary: str) -> str:\n",
    "    if get_type(binary) == 4:\n",
    "        end = int(get_literal_end(binary))\n",
    "        return binary[0: end+1]\n",
    "    else:\n",
    "        children = []\n",
    "        length_type = get_length_type(binary)\n",
    "        if length_type == \"1\":\n",
    "            count = convert_binary(binary[7:7+11])\n",
    "            children_binary = binary[7+11:]\n",
    "            full_size = 7+11\n",
    "            while len(children) < count:\n",
    "                new_binary = parse_one(children_binary)\n",
    "                children.append(new_binary)\n",
    "                new_size = get_size(new_binary)\n",
    "                full_size += new_size\n",
    "                children_binary = children_binary[new_size:]\n",
    "            return {binary[:full_size]: children}\n",
    "        else:\n",
    "            size = convert_binary(binary[7:7+15])\n",
    "            children_binary = binary[7+15:7+15+size]\n",
    "            while len(children_binary)>6:\n",
    "                new_binary = parse_one(children_binary)\n",
    "                children.append(new_binary)\n",
    "                children_binary = children_binary[get_size(new_binary):]\n",
    "            return {binary[:7+15+size]: children}"
   ]
  },
  {
   "cell_type": "code",
   "execution_count": 15,
   "metadata": {},
   "outputs": [],
   "source": [
    "def parse(hexa: str) -> int:\n",
    "    binary = hexa_to_bits(hexa)\n",
    "    parsed = parse_one(binary)\n",
    "    return parsed"
   ]
  },
  {
   "cell_type": "code",
   "execution_count": 16,
   "metadata": {},
   "outputs": [],
   "source": [
    "def get_sum_rec(data) -> int:\n",
    "    if isinstance(data, str):\n",
    "        return get_single_version(data)\n",
    "    else:\n",
    "        return sum([get_single_version(key) + sum([get_sum_rec(i) for i in values]) for key, values in data.items() ])"
   ]
  },
  {
   "cell_type": "code",
   "execution_count": 17,
   "metadata": {},
   "outputs": [],
   "source": [
    "def get_version_sum(hexa: str):\n",
    "    parsed = parse(hexa)\n",
    "    return get_sum_rec(parsed)"
   ]
  },
  {
   "cell_type": "code",
   "execution_count": 18,
   "metadata": {},
   "outputs": [],
   "source": [
    "assert get_version_sum(\"8A004A801A8002F478\") == 16\n",
    "assert get_version_sum(\"620080001611562C8802118E34\") == 12\n",
    "assert get_version_sum(\"C0015000016115A2E0802F182340\") == 23\n",
    "assert get_version_sum(\"A0016C880162017C3686B18A3D4780\") == 31"
   ]
  },
  {
   "cell_type": "code",
   "execution_count": 19,
   "metadata": {},
   "outputs": [
    {
     "data": {
      "text/plain": [
       "993"
      ]
     },
     "execution_count": 19,
     "metadata": {},
     "output_type": "execute_result"
    }
   ],
   "source": [
    "get_version_sum(full_dataset)"
   ]
  },
  {
   "cell_type": "markdown",
   "metadata": {},
   "source": [
    "# Part 2"
   ]
  },
  {
   "cell_type": "code",
   "execution_count": 20,
   "metadata": {},
   "outputs": [],
   "source": [
    "def get_literal_number(literal):\n",
    "    index = 7\n",
    "    bits = \"\"\n",
    "    while index < len(literal):\n",
    "        bits += literal[index: index + 4]\n",
    "        index += 5\n",
    "    return convert_binary(bits)"
   ]
  },
  {
   "cell_type": "code",
   "execution_count": 21,
   "metadata": {},
   "outputs": [],
   "source": [
    "assert get_literal_number(\"110100101111111000101\") == 2021"
   ]
  },
  {
   "cell_type": "code",
   "execution_count": 22,
   "metadata": {},
   "outputs": [
    {
     "data": {
      "text/plain": [
       "2021"
      ]
     },
     "execution_count": 22,
     "metadata": {},
     "output_type": "execute_result"
    }
   ],
   "source": [
    "get_literal_number(\"1101001011111110001010\")"
   ]
  },
  {
   "cell_type": "code",
   "execution_count": 23,
   "metadata": {},
   "outputs": [],
   "source": [
    "def prod(data):\n",
    "    if len(data) == 1:\n",
    "        return data[0]\n",
    "    else:\n",
    "        return data[0] * prod(data[1:])"
   ]
  },
  {
   "cell_type": "code",
   "execution_count": 24,
   "metadata": {},
   "outputs": [],
   "source": [
    "def compute_score_rec(data):\n",
    "    if isinstance(data, str):\n",
    "        return get_literal_number(data)\n",
    "    else:\n",
    "        operator = get_type(list(data.keys())[0])\n",
    "        children = [compute_score_rec(v) for v in list(data.values())[0]]\n",
    "        if operator == 0:\n",
    "            return sum(children)\n",
    "        if operator == 1:\n",
    "            return prod(children)\n",
    "        if operator == 2:\n",
    "            return min(children)\n",
    "        if operator == 3:\n",
    "            return max(children)\n",
    "        if operator == 5:\n",
    "            return 1 if children[0] > children[1] else 0\n",
    "        if operator == 6:\n",
    "            return 1 if children[0] < children[1] else 0\n",
    "        if operator == 7:\n",
    "            return 1 if children[0] == children[1] else 0\n",
    "        raise Exception(\"unknown operator: \" + str(operator))"
   ]
  },
  {
   "cell_type": "code",
   "execution_count": 25,
   "metadata": {},
   "outputs": [],
   "source": [
    "def get_score(hexa: str) -> int:\n",
    "    parsed = parse(hexa)\n",
    "    return compute_score_rec(parsed)"
   ]
  },
  {
   "cell_type": "code",
   "execution_count": 26,
   "metadata": {},
   "outputs": [],
   "source": [
    "assert get_score(\"C200B40A82\") == 3\n",
    "assert get_score(\"04005AC33890\") == 54\n",
    "assert get_score(\"880086C3E88112\") == 7\n",
    "assert get_score(\"CE00C43D881120\") == 9\n",
    "assert get_score(\"D8005AC2A8F0\") == 1\n",
    "assert get_score(\"F600BC2D8F\") == 0\n",
    "assert get_score(\"9C005AC2F8F0\") == 0\n",
    "assert get_score(\"9C0141080250320F1802104A08\") == 1"
   ]
  },
  {
   "cell_type": "code",
   "execution_count": 27,
   "metadata": {},
   "outputs": [
    {
     "data": {
      "text/plain": [
       "144595909277"
      ]
     },
     "execution_count": 27,
     "metadata": {},
     "output_type": "execute_result"
    }
   ],
   "source": [
    "get_score(full_dataset)"
   ]
  },
  {
   "cell_type": "code",
   "execution_count": null,
   "metadata": {},
   "outputs": [],
   "source": []
  }
 ],
 "metadata": {
  "kernelspec": {
   "display_name": "Python 3",
   "language": "python",
   "name": "python3"
  },
  "language_info": {
   "codemirror_mode": {
    "name": "ipython",
    "version": 3
   },
   "file_extension": ".py",
   "mimetype": "text/x-python",
   "name": "python",
   "nbconvert_exporter": "python",
   "pygments_lexer": "ipython3",
   "version": "3.8.5"
  }
 },
 "nbformat": 4,
 "nbformat_minor": 4
}
