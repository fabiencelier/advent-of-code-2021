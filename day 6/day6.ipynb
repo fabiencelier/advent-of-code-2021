{
 "cells": [
  {
   "cell_type": "code",
   "execution_count": 1,
   "metadata": {},
   "outputs": [],
   "source": [
    "def read_data(path):\n",
    "    f = open(path,\"r\")\n",
    "    lines = f.readlines()\n",
    "    line = lines[0]\n",
    "    str_data = line.split(\",\")\n",
    "    return [int(val) for val in str_data]"
   ]
  },
  {
   "cell_type": "code",
   "execution_count": 2,
   "metadata": {},
   "outputs": [
    {
     "data": {
      "text/plain": [
       "[3, 4, 3, 1, 2]"
      ]
     },
     "execution_count": 2,
     "metadata": {},
     "output_type": "execute_result"
    }
   ],
   "source": [
    "demo_data = read_data(\"demo.txt\")\n",
    "data = read_data(\"data.txt\")\n",
    "demo_data"
   ]
  },
  {
   "cell_type": "markdown",
   "metadata": {},
   "source": [
    "# Part 1"
   ]
  },
  {
   "cell_type": "code",
   "execution_count": 4,
   "metadata": {},
   "outputs": [],
   "source": [
    "def iteration(data):\n",
    "    size = len(data)\n",
    "    for i in range(size):\n",
    "        val = data[i]\n",
    "        data[i] = val - 1 if val > 0 else 6\n",
    "        if val == 0:\n",
    "            data.append(8)\n",
    "    return data"
   ]
  },
  {
   "cell_type": "code",
   "execution_count": 5,
   "metadata": {},
   "outputs": [],
   "source": [
    "assert iteration([1, 3, 0, 4]) == [0, 2, 6, 3, 8]"
   ]
  },
  {
   "cell_type": "code",
   "execution_count": 6,
   "metadata": {},
   "outputs": [],
   "source": [
    "def get_size(data, iter_count):\n",
    "    copy = [ i for i in data]\n",
    "    for i in range(iter_count):\n",
    "        iteration(copy)\n",
    "    return len(copy)"
   ]
  },
  {
   "cell_type": "code",
   "execution_count": 7,
   "metadata": {},
   "outputs": [],
   "source": [
    "assert get_size(demo_data, 80) == 5934"
   ]
  },
  {
   "cell_type": "code",
   "execution_count": 8,
   "metadata": {},
   "outputs": [
    {
     "data": {
      "text/plain": [
       "362639"
      ]
     },
     "execution_count": 8,
     "metadata": {},
     "output_type": "execute_result"
    }
   ],
   "source": [
    "get_size(data, 80)"
   ]
  },
  {
   "cell_type": "markdown",
   "metadata": {},
   "source": [
    "# Part 2"
   ]
  },
  {
   "cell_type": "code",
   "execution_count": 9,
   "metadata": {},
   "outputs": [],
   "source": [
    "def iteration2(data: dict) -> dict:\n",
    "    new = data[0] if 0 in data else 0\n",
    "    new_data = {}\n",
    "    for i in range(0, 8):\n",
    "        new_data[i] = data[i + 1] if (i + 1) in data else 0\n",
    "    new_data[6] += new\n",
    "    new_data[8] = new\n",
    "    return new_data"
   ]
  },
  {
   "cell_type": "code",
   "execution_count": 10,
   "metadata": {},
   "outputs": [],
   "source": [
    "def convert(data: list) -> dict:\n",
    "    converted = {}\n",
    "    sorted_data = sorted(data)\n",
    "    for i in sorted_data:\n",
    "        if i in converted:\n",
    "            converted[i] += 1\n",
    "        else:\n",
    "            converted[i] = 1\n",
    "    return converted"
   ]
  },
  {
   "cell_type": "code",
   "execution_count": 11,
   "metadata": {},
   "outputs": [],
   "source": [
    "assert convert([1, 3, 3, 0, 4]) == {1: 1, 3: 2, 0: 1, 4: 1}"
   ]
  },
  {
   "cell_type": "code",
   "execution_count": 12,
   "metadata": {},
   "outputs": [],
   "source": [
    "assert iteration2(convert([1, 3, 3, 0, 4])) == {0: 1, 1: 0, 2: 2, 3: 1, 4: 0, 5: 0, 6: 1, 7:0,  8: 1}"
   ]
  },
  {
   "cell_type": "code",
   "execution_count": 13,
   "metadata": {},
   "outputs": [],
   "source": [
    "def get_size2(data: list, iter_count: int) -> int:\n",
    "    dictionary = convert(data)\n",
    "    for i in range(iter_count):\n",
    "        dictionary = iteration2(dictionary)\n",
    "    return sum(dictionary.values())"
   ]
  },
  {
   "cell_type": "code",
   "execution_count": 17,
   "metadata": {},
   "outputs": [],
   "source": [
    "assert get_size2(demo_data, 80) == 5934\n",
    "assert get_size2(demo_data, 256) == 26984457539"
   ]
  },
  {
   "cell_type": "code",
   "execution_count": 18,
   "metadata": {},
   "outputs": [
    {
     "data": {
      "text/plain": [
       "1639854996917"
      ]
     },
     "execution_count": 18,
     "metadata": {},
     "output_type": "execute_result"
    }
   ],
   "source": [
    "get_size2(data, 256)"
   ]
  }
 ],
 "metadata": {
  "kernelspec": {
   "display_name": "Python 3",
   "language": "python",
   "name": "python3"
  },
  "language_info": {
   "codemirror_mode": {
    "name": "ipython",
    "version": 3
   },
   "file_extension": ".py",
   "mimetype": "text/x-python",
   "name": "python",
   "nbconvert_exporter": "python",
   "pygments_lexer": "ipython3",
   "version": "3.8.5"
  }
 },
 "nbformat": 4,
 "nbformat_minor": 4
}
