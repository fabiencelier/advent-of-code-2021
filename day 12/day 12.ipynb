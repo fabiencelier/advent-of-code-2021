{
 "cells": [
  {
   "cell_type": "code",
   "execution_count": null,
   "metadata": {},
   "outputs": [],
   "source": [
    "def read_data(path):\n",
    "    f = open(path,\"r\")\n",
    "    lines = [ l.strip() for l in  f.readlines()]\n",
    "    return lines"
   ]
  },
  {
   "cell_type": "code",
   "execution_count": null,
   "metadata": {},
   "outputs": [],
   "source": [
    "demo_dataset = read_data(\"demo.txt\")\n",
    "demo2_dataset = read_data(\"demo2.txt\")\n",
    "demo3_dataset = read_data(\"demo3.txt\")\n",
    "full_dataset = read_data(\"data.txt\")\n",
    "demo_dataset"
   ]
  },
  {
   "cell_type": "markdown",
   "metadata": {},
   "source": [
    "# Part 1"
   ]
  },
  {
   "cell_type": "code",
   "execution_count": null,
   "metadata": {},
   "outputs": [],
   "source": [
    "from functools import lru_cache\n",
    "\n",
    "@lru_cache(maxsize=100)\n",
    "def is_small(vertex):\n",
    "    return all([a.lower() == a for a in vertex])"
   ]
  },
  {
   "cell_type": "code",
   "execution_count": null,
   "metadata": {},
   "outputs": [],
   "source": [
    "assert not is_small(\"A\")\n",
    "assert is_small(\"abv\")"
   ]
  },
  {
   "cell_type": "code",
   "execution_count": null,
   "metadata": {},
   "outputs": [],
   "source": [
    "def append_in_graph(edges, a, b):\n",
    "    if a!= \"end\" and b != \"start\": # Ignore useless path\n",
    "        if a in edges:\n",
    "            edges[a].append(b)\n",
    "        else:\n",
    "            edges[a] = [b]"
   ]
  },
  {
   "cell_type": "code",
   "execution_count": null,
   "metadata": {},
   "outputs": [],
   "source": [
    "def build_graph(dataset) -> dict:\n",
    "    edges = {}\n",
    "    for vertex in dataset:\n",
    "        [a, b] = vertex.split(\"-\")\n",
    "        append_in_graph(edges, a, b)\n",
    "        append_in_graph(edges,b , a)\n",
    "    return edges"
   ]
  },
  {
   "cell_type": "code",
   "execution_count": null,
   "metadata": {},
   "outputs": [],
   "source": [
    "build_graph(demo_dataset)"
   ]
  },
  {
   "cell_type": "code",
   "execution_count": null,
   "metadata": {},
   "outputs": [],
   "source": [
    "def can_add(path, element) -> bool:\n",
    "    return not (is_small(element) and element in path)"
   ]
  },
  {
   "cell_type": "code",
   "execution_count": null,
   "metadata": {},
   "outputs": [],
   "source": [
    "def generate_paths(path, elements) -> list:\n",
    "    paths = []\n",
    "    for element in elements:\n",
    "        if can_add(path, element):\n",
    "            paths.append([*path, element])\n",
    "    return paths"
   ]
  },
  {
   "cell_type": "code",
   "execution_count": null,
   "metadata": {},
   "outputs": [],
   "source": [
    "assert generate_paths([\"a\", \"B\", \"c\"], [\"B\", \"a\"]) == [['a', 'B', 'c', 'B']]"
   ]
  },
  {
   "cell_type": "code",
   "execution_count": null,
   "metadata": {},
   "outputs": [],
   "source": [
    "def count_paths_starting_with(path, graph) -> int:\n",
    "    current = path[-1]\n",
    "    if current == \"end\":\n",
    "        return 1\n",
    "    possibles = graph[current]\n",
    "    new_paths = generate_paths(path, possibles)\n",
    "    subcounts = [ count_paths_starting_with(new_path, graph) for new_path in new_paths ]\n",
    "    return sum(subcounts)"
   ]
  },
  {
   "cell_type": "code",
   "execution_count": null,
   "metadata": {},
   "outputs": [],
   "source": [
    "def count_paths(dataset) -> int:\n",
    "    graph = build_graph(dataset)\n",
    "    return count_paths_starting_with([\"start\"], graph)"
   ]
  },
  {
   "cell_type": "code",
   "execution_count": null,
   "metadata": {},
   "outputs": [],
   "source": [
    "assert count_paths(demo_dataset) == 10\n",
    "assert count_paths(demo2_dataset) == 19\n",
    "assert count_paths(demo3_dataset) == 226"
   ]
  },
  {
   "cell_type": "code",
   "execution_count": null,
   "metadata": {},
   "outputs": [],
   "source": [
    "count_paths(full_dataset)"
   ]
  },
  {
   "cell_type": "markdown",
   "metadata": {},
   "source": [
    "# Part 2\n",
    "\n",
    "We simply need to override the can_add method to change the condition"
   ]
  },
  {
   "cell_type": "code",
   "execution_count": null,
   "metadata": {},
   "outputs": [],
   "source": [
    "def has_already_visited_twice(path) -> bool:\n",
    "    smalls = [ a for a in path if is_small(a)]\n",
    "    duplicates = set([x for x in smalls if smalls.count(x) > 1])\n",
    "    return len(duplicates) > 0"
   ]
  },
  {
   "cell_type": "code",
   "execution_count": null,
   "metadata": {},
   "outputs": [],
   "source": [
    "def can_add(path, element) -> bool:\n",
    "    return not is_small(element) or not element in path or not has_already_visited_twice(path)"
   ]
  },
  {
   "cell_type": "code",
   "execution_count": null,
   "metadata": {},
   "outputs": [],
   "source": [
    "assert count_paths(demo_dataset) == 36\n",
    "assert count_paths(demo2_dataset) == 103\n",
    "assert count_paths(demo3_dataset) == 3509"
   ]
  },
  {
   "cell_type": "code",
   "execution_count": null,
   "metadata": {},
   "outputs": [],
   "source": [
    "%%time\n",
    "count_paths(full_dataset)"
   ]
  }
 ],
 "metadata": {
  "kernelspec": {
   "display_name": "Python 3",
   "language": "python",
   "name": "python3"
  },
  "language_info": {
   "codemirror_mode": {
    "name": "ipython",
    "version": 3
   },
   "file_extension": ".py",
   "mimetype": "text/x-python",
   "name": "python",
   "nbconvert_exporter": "python",
   "pygments_lexer": "ipython3",
   "version": "3.8.5"
  }
 },
 "nbformat": 4,
 "nbformat_minor": 4
}
