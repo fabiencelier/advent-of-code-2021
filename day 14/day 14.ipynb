{
 "cells": [
  {
   "cell_type": "code",
   "execution_count": 1,
   "metadata": {},
   "outputs": [],
   "source": [
    "def read_data(path):\n",
    "    f = open(path,\"r\")\n",
    "    lines = f.readlines()\n",
    "    template = lines[0].strip()\n",
    "    insertions_lines = [ line.strip() for line in lines[2:] ]\n",
    "    insertions = {p.split(\" -> \")[0]: p.split(\" -> \")[1] for p in insertions_lines}\n",
    "    return (template, insertions)\n",
    "    return [int(line.strip()) for line in f.readlines()]"
   ]
  },
  {
   "cell_type": "code",
   "execution_count": 2,
   "metadata": {},
   "outputs": [
    {
     "data": {
      "text/plain": [
       "'NNCB'"
      ]
     },
     "execution_count": 2,
     "metadata": {},
     "output_type": "execute_result"
    }
   ],
   "source": [
    "demo_template, demo_insertions = read_data(\"demo.txt\")\n",
    "full_template, full_insertions = read_data(\"data.txt\")\n",
    "demo_template"
   ]
  },
  {
   "cell_type": "code",
   "execution_count": 3,
   "metadata": {},
   "outputs": [
    {
     "data": {
      "text/plain": [
       "{'CH': 'B',\n",
       " 'HH': 'N',\n",
       " 'CB': 'H',\n",
       " 'NH': 'C',\n",
       " 'HB': 'C',\n",
       " 'HC': 'B',\n",
       " 'HN': 'C',\n",
       " 'NN': 'C',\n",
       " 'BH': 'H',\n",
       " 'NC': 'B',\n",
       " 'NB': 'B',\n",
       " 'BN': 'B',\n",
       " 'BB': 'N',\n",
       " 'BC': 'B',\n",
       " 'CC': 'N',\n",
       " 'CN': 'C'}"
      ]
     },
     "execution_count": 3,
     "metadata": {},
     "output_type": "execute_result"
    }
   ],
   "source": [
    "demo_insertions"
   ]
  },
  {
   "cell_type": "markdown",
   "metadata": {},
   "source": [
    "# Part 1"
   ]
  },
  {
   "cell_type": "code",
   "execution_count": 4,
   "metadata": {},
   "outputs": [],
   "source": [
    "def insert(template: str, insertions: dict) -> str:\n",
    "    new_template = \"\"\n",
    "    for i in range(0, len(template)-1):\n",
    "        left = template[i]\n",
    "        right = template[i+1]\n",
    "        inserted = insertions[left + right]\n",
    "        new_template += left + inserted\n",
    "    # finally insert the last character \n",
    "    new_template += template[-1]\n",
    "    return new_template"
   ]
  },
  {
   "cell_type": "code",
   "execution_count": 5,
   "metadata": {},
   "outputs": [],
   "source": [
    "assert insert(demo_template, demo_insertions) == \"NCNBCHB\""
   ]
  },
  {
   "cell_type": "code",
   "execution_count": 6,
   "metadata": {},
   "outputs": [],
   "source": [
    "def multi_insert(template: str, insertions: dict, steps: int) -> str:\n",
    "    new_template = template\n",
    "    for i in range(steps):\n",
    "        new_template = insert(new_template, insertions)\n",
    "    return new_template"
   ]
  },
  {
   "cell_type": "code",
   "execution_count": 7,
   "metadata": {},
   "outputs": [],
   "source": [
    "assert multi_insert(demo_template, demo_insertions, 1) == \"NCNBCHB\"\n",
    "assert multi_insert(demo_template, demo_insertions, 2) == \"NBCCNBBBCBHCB\"\n",
    "assert multi_insert(demo_template, demo_insertions, 3) == \"NBBBCNCCNBBNBNBBCHBHHBCHB\"\n",
    "assert multi_insert(demo_template, demo_insertions, 4) == \"NBBNBNBBCCNBCNCCNBBNBBNBBBNBBNBBCBHCBHHNHCBBCBHCB\""
   ]
  },
  {
   "cell_type": "code",
   "execution_count": 8,
   "metadata": {},
   "outputs": [],
   "source": [
    "def compute_score(template: str, insertions: dict, steps: int = 10):\n",
    "    new_template = multi_insert(template, insertions, steps)\n",
    "    characters = set([i for i in new_template])\n",
    "    counts = { char: new_template.count(char) for char in characters }\n",
    "    min_count = min(counts.values())\n",
    "    max_count = max(counts.values())\n",
    "    return max_count - min_count"
   ]
  },
  {
   "cell_type": "code",
   "execution_count": 9,
   "metadata": {},
   "outputs": [],
   "source": [
    "assert compute_score(demo_template, demo_insertions) == 1588"
   ]
  },
  {
   "cell_type": "code",
   "execution_count": 10,
   "metadata": {},
   "outputs": [
    {
     "data": {
      "text/plain": [
       "2587"
      ]
     },
     "execution_count": 10,
     "metadata": {},
     "output_type": "execute_result"
    }
   ],
   "source": [
    "compute_score(full_template, full_insertions)"
   ]
  },
  {
   "cell_type": "markdown",
   "metadata": {},
   "source": [
    "# Part 2\n",
    "\n",
    "Let's get rid of the order and only consider the number of each pair"
   ]
  },
  {
   "cell_type": "code",
   "execution_count": 11,
   "metadata": {},
   "outputs": [],
   "source": [
    "def contribute(key: str, dict_template: dict, val: int = 1) -> None:\n",
    "    if key in dict_template:\n",
    "        dict_template[key] += val\n",
    "    else:\n",
    "        dict_template[key] = val"
   ]
  },
  {
   "cell_type": "code",
   "execution_count": 12,
   "metadata": {},
   "outputs": [],
   "source": [
    "def build_template(template: str) -> dict:\n",
    "    dict_template = {}\n",
    "    for i in range(0, len(template)-1):\n",
    "        pair = template[i] + template[i+1]\n",
    "        contribute(pair, dict_template)\n",
    "    return dict_template      "
   ]
  },
  {
   "cell_type": "code",
   "execution_count": 13,
   "metadata": {},
   "outputs": [],
   "source": [
    "assert build_template(demo_template) == {'NN': 1, 'NC': 1, 'CB': 1}"
   ]
  },
  {
   "cell_type": "code",
   "execution_count": 14,
   "metadata": {},
   "outputs": [],
   "source": [
    "def insert2(template: dict, insertions: dict) -> str:\n",
    "    new_template = {}\n",
    "    for pair, val in template.items():\n",
    "        left = pair[0]\n",
    "        right = pair[1]\n",
    "        inserted = insertions[pair]\n",
    "        contribute(left+inserted, new_template, val)\n",
    "        contribute(inserted+right, new_template, val)\n",
    "    return new_template"
   ]
  },
  {
   "cell_type": "code",
   "execution_count": 15,
   "metadata": {},
   "outputs": [],
   "source": [
    "assert insert2(build_template(demo_template), demo_insertions) == {'NC': 1, 'CN': 1, 'NB': 1, 'BC': 1, 'CH': 1, 'HB': 1}"
   ]
  },
  {
   "cell_type": "code",
   "execution_count": 16,
   "metadata": {},
   "outputs": [],
   "source": [
    "def multi_insert2(template: dict, insertions: dict, steps: int) -> str:\n",
    "    new_template = template\n",
    "    for i in range(steps):\n",
    "        new_template = insert2(new_template, insertions)\n",
    "    return new_template"
   ]
  },
  {
   "cell_type": "code",
   "execution_count": 17,
   "metadata": {},
   "outputs": [],
   "source": [
    "def compute_score(template: str, insertions: dict, steps: int = 10):\n",
    "    new_template = multi_insert2(build_template(template), insertions, steps)\n",
    "    char_count = {}\n",
    "    for pair, val in new_template.items():\n",
    "        # only contribute the left part of the pair to avoid double contributions\n",
    "        contribute(pair[0], char_count, val)\n",
    "    # last character has never benn contributed\n",
    "    contribute(template[-1], char_count, 1)\n",
    "    min_count = min(char_count.values())\n",
    "    max_count = max(char_count.values())\n",
    "    return max_count - min_count"
   ]
  },
  {
   "cell_type": "code",
   "execution_count": 18,
   "metadata": {},
   "outputs": [],
   "source": [
    "assert compute_score(demo_template, demo_insertions, 10) == 1588"
   ]
  },
  {
   "cell_type": "code",
   "execution_count": 19,
   "metadata": {},
   "outputs": [],
   "source": [
    "assert compute_score(demo_template, demo_insertions, 40) == 2188189693529"
   ]
  },
  {
   "cell_type": "code",
   "execution_count": 20,
   "metadata": {},
   "outputs": [
    {
     "data": {
      "text/plain": [
       "3318837563123"
      ]
     },
     "execution_count": 20,
     "metadata": {},
     "output_type": "execute_result"
    }
   ],
   "source": [
    "compute_score(full_template, full_insertions, 40)"
   ]
  }
 ],
 "metadata": {
  "kernelspec": {
   "display_name": "Python 3",
   "language": "python",
   "name": "python3"
  },
  "language_info": {
   "codemirror_mode": {
    "name": "ipython",
    "version": 3
   },
   "file_extension": ".py",
   "mimetype": "text/x-python",
   "name": "python",
   "nbconvert_exporter": "python",
   "pygments_lexer": "ipython3",
   "version": "3.8.5"
  }
 },
 "nbformat": 4,
 "nbformat_minor": 4
}
