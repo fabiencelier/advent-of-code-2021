{
 "cells": [
  {
   "cell_type": "code",
   "execution_count": 1,
   "metadata": {},
   "outputs": [],
   "source": [
    "def read_data(path):\n",
    "    f = open(path,\"r\")\n",
    "    return [[c for c in line.strip()] for line in f.readlines()]"
   ]
  },
  {
   "cell_type": "code",
   "execution_count": 2,
   "metadata": {},
   "outputs": [
    {
     "data": {
      "text/plain": [
       "[['v', '.', '.', '.', '>', '>', '.', 'v', 'v', '>'],\n",
       " ['.', 'v', 'v', '>', '>', '.', 'v', 'v', '.', '.'],\n",
       " ['>', '>', '.', '>', 'v', '>', '.', '.', '.', 'v'],\n",
       " ['>', '>', 'v', '>', '>', '.', '>', '.', 'v', '.'],\n",
       " ['v', '>', 'v', '.', 'v', 'v', '.', 'v', '.', '.'],\n",
       " ['>', '.', '>', '>', '.', '.', 'v', '.', '.', '.'],\n",
       " ['.', 'v', 'v', '.', '.', '>', '.', '>', 'v', '.'],\n",
       " ['v', '.', 'v', '.', '.', '>', '>', 'v', '.', 'v'],\n",
       " ['.', '.', '.', '.', 'v', '.', '.', 'v', '.', '>']]"
      ]
     },
     "execution_count": 2,
     "metadata": {},
     "output_type": "execute_result"
    }
   ],
   "source": [
    "demo_dataset = read_data(\"demo.txt\")\n",
    "full_dataset = read_data(\"data.txt\")\n",
    "demo_dataset"
   ]
  },
  {
   "cell_type": "markdown",
   "metadata": {},
   "source": [
    "# Part 1"
   ]
  },
  {
   "cell_type": "code",
   "execution_count": 3,
   "metadata": {},
   "outputs": [],
   "source": [
    "def move_all_horizontal(dataset):\n",
    "    \"\"\"Move horizontally and return true if at least one element has moved\"\"\"\n",
    "    to_move = []\n",
    "    row_size = len(dataset[0])\n",
    "    for i in range(len(dataset)):\n",
    "        row = dataset[i]\n",
    "        for j in range(row_size):\n",
    "            if row[j] == \">\" and row[(j + 1) % row_size] == \".\":\n",
    "                to_move.append((i,j))\n",
    "    for (i,j) in to_move:\n",
    "        dataset[i][j] = \".\"\n",
    "        dataset[i][(j + 1) % row_size] = \">\"\n",
    "    return len(to_move) > 0"
   ]
  },
  {
   "cell_type": "code",
   "execution_count": 4,
   "metadata": {},
   "outputs": [],
   "source": [
    "test = [[\".\",\">\",\".\",\">\",\">\",\".\",\">\"]]\n",
    "assert move_all_horizontal(test)\n",
    "assert test == [['>', '.', '>', '>', '.', '>', '.']]"
   ]
  },
  {
   "cell_type": "code",
   "execution_count": 5,
   "metadata": {},
   "outputs": [],
   "source": [
    "def move_all_vertical(dataset) -> bool:\n",
    "    \"\"\"Move vertically and return true if at least one element has moved\"\"\"\n",
    "    to_move = []\n",
    "    col_size = len(dataset)\n",
    "    for i in range(col_size):\n",
    "        row = dataset[i]\n",
    "        for j in range(len(row)):\n",
    "            if row[j] == \"v\" and dataset[(i + 1) % col_size][j] == \".\":\n",
    "                to_move.append((i,j))\n",
    "    for (i,j) in to_move:\n",
    "        dataset[i][j] = \".\"\n",
    "        dataset[(i + 1) % col_size][j] = \"v\"\n",
    "    return len(to_move) > 0"
   ]
  },
  {
   "cell_type": "code",
   "execution_count": 6,
   "metadata": {},
   "outputs": [],
   "source": [
    "test = [[\".\"],[\"v\"],[\".\"],[\">\"],[\">\"],[\".\"],[\"v\"]]\n",
    "assert move_all_vertical(test)\n",
    "assert test == [['v'], ['.'], ['v'], ['>'], ['>'], ['.'], ['.']]"
   ]
  },
  {
   "cell_type": "code",
   "execution_count": 7,
   "metadata": {},
   "outputs": [],
   "source": [
    "def diplay(dataset, step: int):\n",
    "    print(\"After \" + str(step) + \" steps\")\n",
    "    for row in dataset:\n",
    "        print(\"\".join(row))\n",
    "    print(\"\\n\")"
   ]
  },
  {
   "cell_type": "code",
   "execution_count": 8,
   "metadata": {},
   "outputs": [],
   "source": [
    "from copy import deepcopy\n",
    "\n",
    "def count_steps(dataset) -> int:\n",
    "    data = deepcopy(dataset)\n",
    "    count = 0\n",
    "    while True:\n",
    "        has_moved_horizontal = move_all_horizontal(data)\n",
    "        has_moved_vertical = move_all_vertical(data)\n",
    "        count += 1\n",
    "        # diplay(data)\n",
    "        if not (has_moved_horizontal or has_moved_vertical):\n",
    "            return count"
   ]
  },
  {
   "cell_type": "code",
   "execution_count": 9,
   "metadata": {},
   "outputs": [],
   "source": [
    "assert count_steps(demo_dataset) == 58"
   ]
  },
  {
   "cell_type": "code",
   "execution_count": 10,
   "metadata": {},
   "outputs": [
    {
     "data": {
      "text/plain": [
       "351"
      ]
     },
     "execution_count": 10,
     "metadata": {},
     "output_type": "execute_result"
    }
   ],
   "source": [
    "count_steps(full_dataset)"
   ]
  },
  {
   "cell_type": "markdown",
   "metadata": {},
   "source": [
    "# Part 2"
   ]
  },
  {
   "cell_type": "markdown",
   "metadata": {},
   "source": [
    "⭐⭐⭐⭐⭐⭐⭐⭐⭐⭐  \n",
    "⭐⭐⭐⭐⭐⭐⭐⭐⭐⭐  \n",
    "⭐⭐⭐⭐⭐⭐⭐⭐⭐⭐  \n",
    "⭐⭐⭐⭐⭐⭐⭐⭐⭐⭐  \n",
    "⭐⭐⭐⭐⭐⭐⭐⭐⭐⭐"
   ]
  }
 ],
 "metadata": {
  "kernelspec": {
   "display_name": "Python 3",
   "language": "python",
   "name": "python3"
  },
  "language_info": {
   "codemirror_mode": {
    "name": "ipython",
    "version": 3
   },
   "file_extension": ".py",
   "mimetype": "text/x-python",
   "name": "python",
   "nbconvert_exporter": "python",
   "pygments_lexer": "ipython3",
   "version": "3.8.5"
  }
 },
 "nbformat": 4,
 "nbformat_minor": 4
}
