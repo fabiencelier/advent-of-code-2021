{
 "cells": [
  {
   "cell_type": "code",
   "execution_count": 1,
   "metadata": {},
   "outputs": [],
   "source": [
    "def read_data(path):\n",
    "    f = open(path,\"r\")\n",
    "    lines = f.readlines()\n",
    "    return [ [int(a) for a in line.strip()] for line in lines]"
   ]
  },
  {
   "cell_type": "code",
   "execution_count": 2,
   "metadata": {},
   "outputs": [
    {
     "data": {
      "text/plain": [
       "[[2, 1, 9, 9, 9, 4, 3, 2, 1, 0],\n",
       " [3, 9, 8, 7, 8, 9, 4, 9, 2, 1],\n",
       " [9, 8, 5, 6, 7, 8, 9, 8, 9, 2],\n",
       " [8, 7, 6, 7, 8, 9, 6, 7, 8, 9],\n",
       " [9, 8, 9, 9, 9, 6, 5, 6, 7, 8]]"
      ]
     },
     "execution_count": 2,
     "metadata": {},
     "output_type": "execute_result"
    }
   ],
   "source": [
    "demo_dataset = read_data(\"demo.txt\")\n",
    "full_dataset = read_data(\"data.txt\")\n",
    "demo_dataset"
   ]
  },
  {
   "cell_type": "markdown",
   "metadata": {},
   "source": [
    "# Part 1"
   ]
  },
  {
   "cell_type": "code",
   "execution_count": 3,
   "metadata": {},
   "outputs": [],
   "source": [
    "def get(dataset, i, j) -> int:\n",
    "    if i < 0 or i>=len(dataset):\n",
    "        return 100\n",
    "    row = dataset[i]\n",
    "    if j < 0 or j>=len(row):\n",
    "        return 100\n",
    "    return row[j]"
   ]
  },
  {
   "cell_type": "code",
   "execution_count": 4,
   "metadata": {},
   "outputs": [],
   "source": [
    "def is_low(dataset, i, j):\n",
    "    value = dataset[i][j]\n",
    "    return value < get(dataset, i - 1, j) and value < get(dataset, i + 1, j) and value < get(dataset, i, j -1) and value < get(dataset, i, j +1)"
   ]
  },
  {
   "cell_type": "code",
   "execution_count": 5,
   "metadata": {},
   "outputs": [],
   "source": [
    "def find_mins(dataset) -> list:\n",
    "    mins = []\n",
    "    for i in range(len(dataset)):\n",
    "        row = dataset[i]\n",
    "        for j in range(len(row)):\n",
    "            if is_low(dataset, i, j):\n",
    "                value = row[j]\n",
    "                mins.append(value)\n",
    "    return mins"
   ]
  },
  {
   "cell_type": "code",
   "execution_count": 6,
   "metadata": {},
   "outputs": [],
   "source": [
    "def danger(dataset) -> int:\n",
    "    mins = find_mins(dataset)\n",
    "    return sum([i + 1 for i in mins])"
   ]
  },
  {
   "cell_type": "code",
   "execution_count": 7,
   "metadata": {},
   "outputs": [],
   "source": [
    "assert danger(demo_dataset) == 15"
   ]
  },
  {
   "cell_type": "code",
   "execution_count": 8,
   "metadata": {},
   "outputs": [
    {
     "data": {
      "text/plain": [
       "564"
      ]
     },
     "execution_count": 8,
     "metadata": {},
     "output_type": "execute_result"
    }
   ],
   "source": [
    "danger(full_dataset)"
   ]
  },
  {
   "cell_type": "markdown",
   "metadata": {},
   "source": [
    "# Part 2"
   ]
  },
  {
   "cell_type": "code",
   "execution_count": 9,
   "metadata": {},
   "outputs": [],
   "source": [
    "def get0(dataset, i, j) -> int:\n",
    "    if i < 0 or i>=len(dataset):\n",
    "        return -1\n",
    "    row = dataset[i]\n",
    "    if j < 0 or j>=len(row):\n",
    "        return -1\n",
    "    return row[j]"
   ]
  },
  {
   "cell_type": "code",
   "execution_count": 10,
   "metadata": {},
   "outputs": [],
   "source": [
    "def bigger_neighbours(dataset, i, j):\n",
    "    value = dataset[i][j]\n",
    "    neighbours = []\n",
    "    pairs = [(i-1, j), (i+1, j), (i, j-1), (i,j+1)]\n",
    "    for pair in pairs:\n",
    "        n = get0(dataset, pair[0], pair[1])\n",
    "        if value < n and n !=9:\n",
    "            neighbours.append(pair)\n",
    "    return neighbours"
   ]
  },
  {
   "cell_type": "code",
   "execution_count": 11,
   "metadata": {},
   "outputs": [],
   "source": [
    "def expand_basin(dataset, positions):\n",
    "    new_positions = [ p for p in positions]\n",
    "    for p in positions:\n",
    "        new = bigger_neighbours(dataset, p[0], p[1])\n",
    "        for n in new:\n",
    "            if not n in new_positions:\n",
    "                new_positions.append(n)\n",
    "    if len(new_positions) == len(positions):\n",
    "        return new_positions\n",
    "    return expand_basin(dataset, new_positions)\n",
    "    "
   ]
  },
  {
   "cell_type": "code",
   "execution_count": 12,
   "metadata": {},
   "outputs": [],
   "source": [
    "def find_basins(dataset) -> list:\n",
    "    basins = []\n",
    "    for i in range(len(dataset)):\n",
    "        row = dataset[i]\n",
    "        for j in range(len(row)):\n",
    "            if is_low(dataset, i, j):\n",
    "                value = row[j]\n",
    "                basin = expand_basin(dataset, [(i,j)])\n",
    "                basins.append(len(basin))\n",
    "    return basins"
   ]
  },
  {
   "cell_type": "code",
   "execution_count": 13,
   "metadata": {},
   "outputs": [],
   "source": [
    "def three_largest(dataset):\n",
    "    basins = find_basins(dataset)\n",
    "    sort = sorted(basins)\n",
    "    return sort[-1] * sort[-2] * sort[-3]"
   ]
  },
  {
   "cell_type": "code",
   "execution_count": 14,
   "metadata": {},
   "outputs": [],
   "source": [
    "assert three_largest(demo_dataset) == 1134"
   ]
  },
  {
   "cell_type": "code",
   "execution_count": 16,
   "metadata": {},
   "outputs": [
    {
     "data": {
      "text/plain": [
       "1038240"
      ]
     },
     "execution_count": 16,
     "metadata": {},
     "output_type": "execute_result"
    }
   ],
   "source": [
    "three_largest(full_dataset)"
   ]
  }
 ],
 "metadata": {
  "kernelspec": {
   "display_name": "Python 3",
   "language": "python",
   "name": "python3"
  },
  "language_info": {
   "codemirror_mode": {
    "name": "ipython",
    "version": 3
   },
   "file_extension": ".py",
   "mimetype": "text/x-python",
   "name": "python",
   "nbconvert_exporter": "python",
   "pygments_lexer": "ipython3",
   "version": "3.8.5"
  }
 },
 "nbformat": 4,
 "nbformat_minor": 4
}
