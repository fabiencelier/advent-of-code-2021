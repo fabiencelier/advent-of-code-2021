{
 "cells": [
  {
   "cell_type": "code",
   "execution_count": 1,
   "metadata": {},
   "outputs": [],
   "source": [
    "from typing import Tuple, Dict"
   ]
  },
  {
   "cell_type": "code",
   "execution_count": 2,
   "metadata": {},
   "outputs": [
    {
     "data": {
      "text/plain": [
       "(4, 8)"
      ]
     },
     "execution_count": 2,
     "metadata": {},
     "output_type": "execute_result"
    }
   ],
   "source": [
    "demo_dataset = (4, 8)\n",
    "full_dataset = (9, 4)\n",
    "demo_dataset"
   ]
  },
  {
   "cell_type": "markdown",
   "metadata": {},
   "source": [
    "# Part 1"
   ]
  },
  {
   "cell_type": "code",
   "execution_count": 3,
   "metadata": {},
   "outputs": [],
   "source": [
    "class DeterministicDice:\n",
    "    \n",
    "    def __init__(self):\n",
    "        self.current = 0\n",
    "        self.rolls = 0\n",
    "        \n",
    "    def next(self) -> int:\n",
    "        self.current = 1 if self.current == 100 else (self.current + 1)\n",
    "        self.rolls += 1\n",
    "        return self.current\n",
    "    \n",
    "    def triple_next(self) -> int:\n",
    "        return self.next() + self.next() + self.next()"
   ]
  },
  {
   "cell_type": "code",
   "execution_count": 4,
   "metadata": {},
   "outputs": [],
   "source": [
    "def get_next_score(current_score: int, dice: DeterministicDice) -> int:\n",
    "    new_score = current_score + dice.triple_next()\n",
    "    new_score = new_score % 10\n",
    "    return 10 if new_score == 0 else new_score"
   ]
  },
  {
   "cell_type": "code",
   "execution_count": 5,
   "metadata": {},
   "outputs": [],
   "source": [
    "def get_final_score(positions: Tuple[int]) -> int:\n",
    "    p1 = positions[0]\n",
    "    p2 = positions[1]\n",
    "    score1 = 0\n",
    "    score2 = 0\n",
    "    dice = DeterministicDice()\n",
    "    while True:\n",
    "        p1 = get_next_score(p1, dice)\n",
    "        score1 += p1\n",
    "        if score1 >= 1000:\n",
    "            return score2 * dice.rolls\n",
    "        p2 = get_next_score(p2, dice)\n",
    "        score2 += p2\n",
    "        if score2 >= 1000:\n",
    "            return score1 * dice.rolls\n",
    "        \n",
    "    "
   ]
  },
  {
   "cell_type": "code",
   "execution_count": 6,
   "metadata": {},
   "outputs": [],
   "source": [
    "assert get_final_score(demo_dataset) == 739785"
   ]
  },
  {
   "cell_type": "code",
   "execution_count": 7,
   "metadata": {},
   "outputs": [
    {
     "data": {
      "text/plain": [
       "998088"
      ]
     },
     "execution_count": 7,
     "metadata": {},
     "output_type": "execute_result"
    }
   ],
   "source": [
    "get_final_score(full_dataset)"
   ]
  },
  {
   "cell_type": "markdown",
   "metadata": {},
   "source": [
    "# Part 2"
   ]
  },
  {
   "cell_type": "code",
   "execution_count": 8,
   "metadata": {},
   "outputs": [
    {
     "data": {
      "text/plain": [
       "{3: 1, 4: 3, 5: 6, 6: 7, 7: 6, 8: 3, 9: 1}"
      ]
     },
     "execution_count": 8,
     "metadata": {},
     "output_type": "execute_result"
    }
   ],
   "source": [
    "def dirac_dice_outcomes() -> Dict[int, int]:\n",
    "    scores = [0]\n",
    "    for i in range(3):\n",
    "        new_scores = []\n",
    "        for score in scores:\n",
    "            for dice in range(1, 4):\n",
    "                new_scores.append(score + dice)\n",
    "        scores = new_scores\n",
    "    result = {}\n",
    "    for score in scores:\n",
    "        result[score] = result.get(score, 0) + 1\n",
    "    return result\n",
    "    \n",
    "    \n",
    "DIRAC_RESULTS = dirac_dice_outcomes()\n",
    "DIRAC_RESULTS"
   ]
  },
  {
   "cell_type": "code",
   "execution_count": 9,
   "metadata": {},
   "outputs": [],
   "source": [
    "def increase_position(position: int, increase: int) -> int:\n",
    "    new_position = (position + increase) % 10\n",
    "    return 10 if new_position == 0 else new_position"
   ]
  },
  {
   "cell_type": "code",
   "execution_count": 10,
   "metadata": {},
   "outputs": [],
   "source": [
    "from functools import lru_cache\n",
    "\n",
    "@lru_cache(20000)\n",
    "def get_number_win(p1: int, p2: int, score1: int , score2: int, turn: int) -> Tuple[int, int]:\n",
    "    if score1 >= 21:\n",
    "        return (1, 0)\n",
    "    elif score2 >= 21:\n",
    "        return (0, 1)\n",
    "    else:\n",
    "        win1, win2 = 0, 0\n",
    "        for value, count in DIRAC_RESULTS.items():\n",
    "            if turn == 0:\n",
    "                new_p1 = increase_position(p1, value)\n",
    "                new_scores = get_number_win(new_p1, p2, score1 + new_p1, score2, 1)\n",
    "            else:\n",
    "                new_p2 = increase_position(p2, value)\n",
    "                new_scores = get_number_win(p1, new_p2, score1, score2 + new_p2, 0)    \n",
    "            win1 += count * new_scores[0]\n",
    "            win2 += count * new_scores[1]\n",
    "        return (win1, win2)\n",
    "        \n",
    "        "
   ]
  },
  {
   "cell_type": "code",
   "execution_count": 11,
   "metadata": {},
   "outputs": [],
   "source": [
    "def get_dirac_score(dataset) -> int:\n",
    "    scores = get_number_win(dataset[0], dataset[1], 0, 0, 0)\n",
    "    return max(scores)"
   ]
  },
  {
   "cell_type": "code",
   "execution_count": 12,
   "metadata": {},
   "outputs": [],
   "source": [
    "assert get_dirac_score(demo_dataset) == 444356092776315"
   ]
  },
  {
   "cell_type": "code",
   "execution_count": 13,
   "metadata": {},
   "outputs": [
    {
     "data": {
      "text/plain": [
       "306621346123766"
      ]
     },
     "execution_count": 13,
     "metadata": {},
     "output_type": "execute_result"
    }
   ],
   "source": [
    "get_dirac_score(full_dataset)"
   ]
  }
 ],
 "metadata": {
  "kernelspec": {
   "display_name": "Python 3",
   "language": "python",
   "name": "python3"
  },
  "language_info": {
   "codemirror_mode": {
    "name": "ipython",
    "version": 3
   },
   "file_extension": ".py",
   "mimetype": "text/x-python",
   "name": "python",
   "nbconvert_exporter": "python",
   "pygments_lexer": "ipython3",
   "version": "3.8.5"
  }
 },
 "nbformat": 4,
 "nbformat_minor": 4
}
