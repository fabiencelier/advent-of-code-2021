{
 "cells": [
  {
   "cell_type": "code",
   "execution_count": 6,
   "metadata": {},
   "outputs": [],
   "source": [
    "def read_data(path):\n",
    "    f = open(path,\"r\")\n",
    "    lines = [ line.strip() for line in f.readlines()]\n",
    "    return [ (int(line.split(\",\")[0]), int(line.split(\",\")[1])) for line in lines ]"
   ]
  },
  {
   "cell_type": "code",
   "execution_count": 28,
   "metadata": {},
   "outputs": [],
   "source": [
    "def  read_fold(path):\n",
    "    f = open(path,\"r\")\n",
    "    lines = [ line.strip() for line in f.readlines()]\n",
    "    folds = [ line.split(\" \")[-1] for line in lines]\n",
    "    return [ (fold.split(\"=\")[0], int(fold.split(\"=\")[1])) for fold in folds]"
   ]
  },
  {
   "cell_type": "code",
   "execution_count": 29,
   "metadata": {},
   "outputs": [
    {
     "data": {
      "text/plain": [
       "[(6, 10),\n",
       " (0, 14),\n",
       " (9, 10),\n",
       " (0, 3),\n",
       " (10, 4),\n",
       " (4, 11),\n",
       " (6, 0),\n",
       " (6, 12),\n",
       " (4, 1),\n",
       " (0, 13),\n",
       " (10, 12),\n",
       " (3, 4),\n",
       " (3, 0),\n",
       " (8, 4),\n",
       " (1, 10),\n",
       " (2, 14),\n",
       " (8, 10),\n",
       " (9, 0)]"
      ]
     },
     "execution_count": 29,
     "metadata": {},
     "output_type": "execute_result"
    }
   ],
   "source": [
    "demo_dataset = read_data(\"demo.txt\")\n",
    "full_dataset = read_data(\"data.txt\")\n",
    "demo_dataset"
   ]
  },
  {
   "cell_type": "code",
   "execution_count": 30,
   "metadata": {},
   "outputs": [
    {
     "data": {
      "text/plain": [
       "[('y', 7), ('x', 5)]"
      ]
     },
     "execution_count": 30,
     "metadata": {},
     "output_type": "execute_result"
    }
   ],
   "source": [
    "demo_folds = read_fold(\"demo_folds.txt\")\n",
    "full_folds = read_fold(\"data_fold.txt\")\n",
    "demo_folds"
   ]
  },
  {
   "cell_type": "markdown",
   "metadata": {},
   "source": [
    "# Part 1"
   ]
  },
  {
   "cell_type": "code",
   "execution_count": 37,
   "metadata": {},
   "outputs": [],
   "source": [
    "def get_folded(dataset, fold):\n",
    "    data = set()\n",
    "    if fold[0] == \"x\":\n",
    "        X = fold[1]\n",
    "        for (x,y) in dataset:\n",
    "            if x < X:\n",
    "                data.add((x,y))\n",
    "            else:\n",
    "                diff = x - X\n",
    "                new_x = x - 2*diff\n",
    "                data.add((new_x, y))\n",
    "    else:\n",
    "        Y = fold[1]\n",
    "        for (x,y) in dataset:\n",
    "            if y < Y:\n",
    "                data.add((x,y))\n",
    "            else:\n",
    "                diff = y - Y\n",
    "                new_y = y - 2*diff\n",
    "                data.add((x, new_y))\n",
    "    return data"
   ]
  },
  {
   "cell_type": "code",
   "execution_count": 39,
   "metadata": {},
   "outputs": [],
   "source": [
    "assert len(get_folded(demo_dataset, demo_folds[0])) == 17"
   ]
  },
  {
   "cell_type": "code",
   "execution_count": 41,
   "metadata": {},
   "outputs": [
    {
     "data": {
      "text/plain": [
       "847"
      ]
     },
     "execution_count": 41,
     "metadata": {},
     "output_type": "execute_result"
    }
   ],
   "source": [
    "len(get_folded(full_dataset, full_folds[0]))"
   ]
  },
  {
   "cell_type": "markdown",
   "metadata": {},
   "source": [
    "# Part 2"
   ]
  },
  {
   "cell_type": "code",
   "execution_count": 42,
   "metadata": {},
   "outputs": [],
   "source": [
    "def fold_all(dataset, folds):\n",
    "    data = dataset\n",
    "    for fold in folds:\n",
    "        data = get_folded(data, fold)\n",
    "    return data"
   ]
  },
  {
   "cell_type": "code",
   "execution_count": 45,
   "metadata": {},
   "outputs": [],
   "source": [
    "def print_folds(dataset, folds):\n",
    "    final_data = fold_all(dataset, folds)\n",
    "    max_x = max([ p[0] for p in final_data])\n",
    "    max_y = max([ p[1] for p in final_data])\n",
    "    for y in range(0, max_y+1):\n",
    "        row = [\"#\" if (x,y) in final_data else \".\" for x in range(0, max_x+1)]\n",
    "        print(row)"
   ]
  },
  {
   "cell_type": "code",
   "execution_count": 46,
   "metadata": {},
   "outputs": [
    {
     "name": "stdout",
     "output_type": "stream",
     "text": [
      "#####\n",
      "#...#\n",
      "#...#\n",
      "#...#\n",
      "#####\n"
     ]
    }
   ],
   "source": [
    "print_folds(demo_dataset, demo_folds)"
   ]
  },
  {
   "cell_type": "code",
   "execution_count": 47,
   "metadata": {},
   "outputs": [
    {
     "name": "stdout",
     "output_type": "stream",
     "text": [
      "###...##..####.###...##..####..##..###.\n",
      "#..#.#..#....#.#..#.#..#.#....#..#.#..#\n",
      "###..#......#..#..#.#....###..#..#.###.\n",
      "#..#.#.....#...###..#....#....####.#..#\n",
      "#..#.#..#.#....#.#..#..#.#....#..#.#..#\n",
      "###...##..####.#..#..##..####.#..#.###.\n"
     ]
    }
   ],
   "source": [
    "print_folds(full_dataset, full_folds)"
   ]
  },
  {
   "cell_type": "code",
   "execution_count": null,
   "metadata": {},
   "outputs": [],
   "source": []
  }
 ],
 "metadata": {
  "kernelspec": {
   "display_name": "Python 3",
   "language": "python",
   "name": "python3"
  },
  "language_info": {
   "codemirror_mode": {
    "name": "ipython",
    "version": 3
   },
   "file_extension": ".py",
   "mimetype": "text/x-python",
   "name": "python",
   "nbconvert_exporter": "python",
   "pygments_lexer": "ipython3",
   "version": "3.8.5"
  }
 },
 "nbformat": 4,
 "nbformat_minor": 4
}
