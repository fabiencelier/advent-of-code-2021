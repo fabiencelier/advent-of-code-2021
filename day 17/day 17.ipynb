{
 "cells": [
  {
   "cell_type": "code",
   "execution_count": null,
   "metadata": {},
   "outputs": [],
   "source": [
    "demo_dataset = ((20,30), (-10,-5))\n",
    "full_dataset = ((217,240), (-126,-69))\n",
    "demo_dataset"
   ]
  },
  {
   "cell_type": "markdown",
   "metadata": {},
   "source": [
    "# Part 1"
   ]
  },
  {
   "cell_type": "code",
   "execution_count": null,
   "metadata": {},
   "outputs": [],
   "source": [
    "def compute_max(data):\n",
    "    y = -data[1][0] - 1\n",
    "    return y * (y+1) // 2"
   ]
  },
  {
   "cell_type": "code",
   "execution_count": null,
   "metadata": {},
   "outputs": [],
   "source": [
    "assert compute_max(demo_dataset) == 45"
   ]
  },
  {
   "cell_type": "code",
   "execution_count": null,
   "metadata": {},
   "outputs": [],
   "source": [
    "compute_max(full_dataset)"
   ]
  },
  {
   "cell_type": "markdown",
   "metadata": {},
   "source": [
    "# Part 2"
   ]
  },
  {
   "cell_type": "code",
   "execution_count": null,
   "metadata": {},
   "outputs": [],
   "source": [
    "def find_possible_x(dataset):\n",
    "    left = dataset[0][0]\n",
    "    right = dataset[0][1]\n",
    "    possibles = []\n",
    "    for x in range(0, right + 1):\n",
    "        current_x = 0\n",
    "        current_vx = x\n",
    "        while current_vx > 0 & current_x <= right:\n",
    "            if current_x >= left:\n",
    "                possibles.append(x)\n",
    "                break\n",
    "            else:\n",
    "                current_x += current_vx\n",
    "                current_vx -= 1\n",
    "    return possibles"
   ]
  },
  {
   "cell_type": "code",
   "execution_count": null,
   "metadata": {},
   "outputs": [],
   "source": [
    "def find_possible_y(dataset):\n",
    "    top = dataset[1][1]\n",
    "    bottom = dataset[1][0]\n",
    "    possibles = []\n",
    "    for y in range(bottom - 1, -bottom + 1):\n",
    "        current_y = 0\n",
    "        current_vy = y\n",
    "        while current_y >= bottom:\n",
    "            if current_y <= top:\n",
    "                possibles.append(y)\n",
    "                break\n",
    "            else:\n",
    "                current_y += current_vy\n",
    "                current_vy -= 1\n",
    "    return possibles"
   ]
  },
  {
   "cell_type": "code",
   "execution_count": null,
   "metadata": {},
   "outputs": [],
   "source": [
    "def test_speed(dataset, x: int, y: int) -> bool:\n",
    "    top = dataset[1][1]\n",
    "    bottom = dataset[1][0]\n",
    "    left = dataset[0][0]\n",
    "    right = dataset[0][1]\n",
    "    current_x = 0\n",
    "    current_vx = x\n",
    "    current_y = 0\n",
    "    current_vy = y\n",
    "    while (current_y >= bottom) & (current_x <= right):\n",
    "        if (current_y <= top) & (current_x >= left):\n",
    "            return True\n",
    "        current_y += current_vy\n",
    "        current_vy -= 1\n",
    "        current_x += current_vx\n",
    "        current_vx = (current_vx - 1) if current_vx > 0 else 0\n",
    "    return False"
   ]
  },
  {
   "cell_type": "code",
   "execution_count": null,
   "metadata": {},
   "outputs": [],
   "source": [
    "assert not test_speed(demo_dataset, 24,3)"
   ]
  },
  {
   "cell_type": "code",
   "execution_count": null,
   "metadata": {},
   "outputs": [],
   "source": [
    "assert test_speed(demo_dataset, 26, -6)"
   ]
  },
  {
   "cell_type": "code",
   "execution_count": null,
   "metadata": {},
   "outputs": [],
   "source": [
    "def solve(dataset):\n",
    "    possible_x = find_possible_x(dataset)\n",
    "    possible_y = find_possible_y(dataset)\n",
    "    possible = [(x, y) for y in possible_y for x in possible_x]\n",
    "    working = [(x,y) for (x,y) in possible if test_speed(dataset, x, y)]\n",
    "    return len(working)"
   ]
  },
  {
   "cell_type": "code",
   "execution_count": null,
   "metadata": {},
   "outputs": [],
   "source": [
    "solve(demo_dataset)"
   ]
  },
  {
   "cell_type": "code",
   "execution_count": null,
   "metadata": {},
   "outputs": [],
   "source": [
    "assert solve(demo_dataset) == 112"
   ]
  },
  {
   "cell_type": "code",
   "execution_count": null,
   "metadata": {},
   "outputs": [],
   "source": [
    "solve(full_dataset)"
   ]
  },
  {
   "cell_type": "code",
   "execution_count": null,
   "metadata": {},
   "outputs": [],
   "source": []
  }
 ],
 "metadata": {
  "kernelspec": {
   "display_name": "Python 3",
   "language": "python",
   "name": "python3"
  },
  "language_info": {
   "codemirror_mode": {
    "name": "ipython",
    "version": 3
   },
   "file_extension": ".py",
   "mimetype": "text/x-python",
   "name": "python",
   "nbconvert_exporter": "python",
   "pygments_lexer": "ipython3",
   "version": "3.8.5"
  }
 },
 "nbformat": 4,
 "nbformat_minor": 4
}
